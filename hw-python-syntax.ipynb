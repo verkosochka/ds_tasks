{
 "cells": [
  {
   "cell_type": "markdown",
   "metadata": {
    "id": "tvPKWXfD7yRv"
   },
   "source": [
    "<h1 style='font-family: Garamond ;'>Домашнє завдання до теми <b>\"Синтаксис Python\"</b></h1>\n",
    "<hr></hr>\n",
    "<p style='font-family: Garamond ; font-size: 16px;'>У ДЗ першого модулю важливою умовою виконання завдань є те, що ми не імпортуємо жодних бібліотек, а робимо все на чистому Python, використовуючи лише базовий функціонал. Це необхідно аби відпрацювати роботу з базовими типами даних. А використовувати бібліотеки ми ще навчимось далі :)</p>\n"
   ]
  },
  {
   "cell_type": "markdown",
   "metadata": {
    "id": "xE1KHmUbQVbC"
   },
   "source": [
    "<ul style='font-family: Garamond ; font-size: 16px;'>\n",
    "    <li>1. Створіть змінну, яка буде зберігати кількість яблук. І надайте їй значення 5. Виведіть значення змінної на екран.</li>\n",
    "</ul>"
   ]
  },
  {
   "cell_type": "code",
   "execution_count": 11,
   "metadata": {
    "id": "iz5QpN-vQUtN"
   },
   "outputs": [
    {
     "name": "stdout",
     "output_type": "stream",
     "text": [
      "Here we have 5 apples.\n"
     ]
    }
   ],
   "source": [
    "apples = 5\n",
    "print(f'Here we have {apples} apples.')"
   ]
  },
  {
   "cell_type": "markdown",
   "metadata": {
    "id": "wx6RsBHAQd9q"
   },
   "source": [
    "<ul style='font-family: Garamond ; font-size: 16px;'>\n",
    "    <li>2. Виведіть тип змінної, створеної в завданні (1).</li>\n",
    "</ul>"
   ]
  },
  {
   "cell_type": "code",
   "execution_count": 12,
   "metadata": {
    "id": "f48l2PhiQi86"
   },
   "outputs": [
    {
     "name": "stdout",
     "output_type": "stream",
     "text": [
      "The type of <apples> variable is <class 'int'>.\n"
     ]
    }
   ],
   "source": [
    "print(f'The type of <apples> variable is {type(apples)}.')"
   ]
  },
  {
   "cell_type": "markdown",
   "metadata": {
    "id": "UEc59pPcQnva"
   },
   "source": [
    "<ul style='font-family: Garamond ; font-size: 16px;'>\n",
    "    <li>3. Додайте до значення змінної, створеної в завданні (1) число <code>12</code> і виведіть результат на екран з допомогою команди <code>print()</code>.</li>\n",
    "</ul>"
   ]
  },
  {
   "cell_type": "code",
   "execution_count": 13,
   "metadata": {
    "id": "gu-vkERpQoCY"
   },
   "outputs": [
    {
     "data": {
      "text/plain": [
       "17"
      ]
     },
     "execution_count": 13,
     "metadata": {},
     "output_type": "execute_result"
    }
   ],
   "source": [
    "apples += 12\n",
    "apples"
   ]
  },
  {
   "cell_type": "markdown",
   "metadata": {
    "id": "yOztaNuqqcMy"
   },
   "source": [
    "<ul style='font-family: Garamond ; font-size: 16px;'>\n",
    "    <li>4. Запустіть код нижче аби створити дві змінні.</li>\n",
    "</ul>"
   ]
  },
  {
   "cell_type": "code",
   "execution_count": 14,
   "metadata": {
    "id": "kbXeQSgcqncV"
   },
   "outputs": [],
   "source": [
    "a = 48\n",
    "b = 3"
   ]
  },
  {
   "cell_type": "code",
   "execution_count": 17,
   "metadata": {},
   "outputs": [
    {
     "data": {
      "text/plain": [
       "int"
      ]
     },
     "metadata": {},
     "output_type": "display_data"
    },
    {
     "data": {
      "text/plain": [
       "int"
      ]
     },
     "metadata": {},
     "output_type": "display_data"
    },
    {
     "data": {
      "text/plain": [
       "float"
      ]
     },
     "metadata": {},
     "output_type": "display_data"
    }
   ],
   "source": [
    "display(type(a), \n",
    "        type(b), \n",
    "        type(c))  # the type of the <c> variable depends on the type of division that has been chosen: / or //"
   ]
  },
  {
   "cell_type": "code",
   "execution_count": 15,
   "metadata": {},
   "outputs": [],
   "source": [
    "# c = a // b - returns integer result\n",
    "c = a / b"
   ]
  },
  {
   "cell_type": "markdown",
   "metadata": {
    "id": "9ojIRMw3qvw8"
   },
   "source": [
    "<p style='font-family: Garamond ; font-size: 16px;'>Створіть нову клітинку нижче цієї з допомогою натискання англійської літери <code>B</code>, коли ви НЕ в режимі редагування клітинки. У створеній клітинці створіть змінну <code>c</code>, яка буде містити результат ділення <code>a</code> на <code>b</code>.</p>"
   ]
  },
  {
   "cell_type": "markdown",
   "metadata": {
    "id": "XcmIZ24wq4px"
   },
   "source": [
    "<p style='font-family: Garamond ; font-size: 16px;'>Створіть ще одну нову клітинку, тільки тепер вище цієї. Для цього натисніть  англійську літеру <code>A</code>, коли ви НЕ в режимі редагування клітинки. Виведіть в новоствореній клітинці значення і тип кожної зі змінних <code>a</code>, <code>b</code>, <code>c</code>. Проаналізуйте результат.</p>"
   ]
  },
  {
   "cell_type": "markdown",
   "metadata": {
    "id": "v9rj7B4-sGaG"
   },
   "source": [
    "<p style='font-family: Garamond ; font-size: 16px;'>У Python, коли ви ділите одне ціле число на інше, результат буде автоматично приведений до типу <code>float</code>, якщо він не є цілим числом. Це робиться для того, щоб забезпечити більш точний результат ділення, особливо коли результат міг би бути десятковим числом.</p>"
   ]
  },
  {
   "cell_type": "markdown",
   "metadata": {
    "id": "irjcdM8puaEx"
   },
   "source": [
    "<ul style='font-family: Garamond ; font-size: 16px;'>\n",
    "    <li>5. Перегляньте наступний код, подумайте, що він виведе в результаті, та потім, запустіть його.</li>\n",
    "</ul>"
   ]
  },
  {
   "cell_type": "code",
   "execution_count": 18,
   "metadata": {
    "id": "KmhCY0ttt8rW"
   },
   "outputs": [
    {
     "data": {
      "text/plain": [
       "38"
      ]
     },
     "execution_count": 18,
     "metadata": {},
     "output_type": "execute_result"
    }
   ],
   "source": [
    "a = 10\n",
    "a = 12\n",
    "a = 15\n",
    "\n",
    "b = 4\n",
    "b = 8\n",
    "b = 14\n",
    "\n",
    "c = 3\n",
    "c = 6\n",
    "c = 9\n",
    "\n",
    "# a(=15) + b(=14) + c(=9) = 38\n",
    "a + b + c"
   ]
  },
  {
   "cell_type": "markdown",
   "metadata": {
    "id": "JrUTyGyQufwq"
   },
   "source": [
    "<p style='font-family: Garamond ; font-size: 16px;'>У клітинці нижче закоментуйте деякі рядки так, аби в результаті виконання останнього рядка коду <code>(a + b + c)</code> вивелось <code>17</code>.</p>\n",
    "\n",
    "<p style='font-family: Garamond ; font-size: 16px;'>Увага! Рядки треба саме закоментувати, а не видалити.</p>\n",
    "\n",
    "<p style='font-family: Garamond ; font-size: 16px;'>Можна зручно коментувати рядки з допомогою комбінації клавіш <code>Ctrl + /</code> (<code>Command + /</code> для Mac).</p>"
   ]
  },
  {
   "cell_type": "code",
   "execution_count": 19,
   "metadata": {
    "id": "R4VXgSQKwVoc"
   },
   "outputs": [
    {
     "data": {
      "text/plain": [
       "17"
      ]
     },
     "execution_count": 19,
     "metadata": {},
     "output_type": "execute_result"
    }
   ],
   "source": [
    "a = 10\n",
    "# a = 12\n",
    "# a = 15\n",
    "\n",
    "b = 4\n",
    "# b = 8\n",
    "# b = 14\n",
    "\n",
    "c = 3\n",
    "# c = 6\n",
    "# c = 9\n",
    "\n",
    "\n",
    "a + b + c"
   ]
  }
 ],
 "metadata": {
  "colab": {
   "provenance": []
  },
  "kernelspec": {
   "display_name": "Python 3 (ipykernel)",
   "language": "python",
   "name": "python3"
  },
  "language_info": {
   "codemirror_mode": {
    "name": "ipython",
    "version": 3
   },
   "file_extension": ".py",
   "mimetype": "text/x-python",
   "name": "python",
   "nbconvert_exporter": "python",
   "pygments_lexer": "ipython3",
   "version": "3.13.0"
  }
 },
 "nbformat": 4,
 "nbformat_minor": 4
}
