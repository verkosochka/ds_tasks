{
 "cells": [
  {
   "cell_type": "markdown",
   "metadata": {
    "id": "ZrhGiOYxAAbb"
   },
   "source": [
    "# Домашнє завдання до теми \"Конструкція if...else\""
   ]
  },
  {
   "cell_type": "markdown",
   "metadata": {
    "id": "mpXlwoNP-cWT"
   },
   "source": [
    "1. **Перевірка температури:**\n",
    "   - Завдання:\n",
    "     - Дано заздалегідь визначену змінну температури `temperature`. Перевірте її значення.\n",
    "     - Якщо температура вище 25 градусів Цельсія, виведіть \"Це теплий день.\"\n",
    "     - Якщо температура знаходиться в межах від 15 до 25 градусів Цельсія (включно), виведіть \"Це приємний день.\"\n",
    "     - В іншому випадку виведіть \"Це холодний день.\""
   ]
  },
  {
   "cell_type": "code",
   "execution_count": 2,
   "metadata": {
    "id": "fho34W3U-ssw"
   },
   "outputs": [],
   "source": [
    "temperature = 20"
   ]
  },
  {
   "cell_type": "code",
   "execution_count": 3,
   "metadata": {
    "id": "CC3TlffAAPxK"
   },
   "outputs": [
    {
     "data": {
      "text/plain": [
       "\"It's a good day!\""
      ]
     },
     "execution_count": 3,
     "metadata": {},
     "output_type": "execute_result"
    }
   ],
   "source": [
    "def check_temperature(temperature):\n",
    "    '''\n",
    "    Determines the type of day based on the given temperature.\n",
    "\n",
    "    Parameters:\n",
    "    -----------------\n",
    "    temperature (float): The temperature value to check.\n",
    "\n",
    "    Returns:\n",
    "    -----------------\n",
    "    str: A message indicating whether it's a warm, good, or cold day.\n",
    "\n",
    "    Example:\n",
    "    -----------------\n",
    "    >>> check_temperature(30)\n",
    "    \"It's a warm day!\"\n",
    "    >>> check_temperature(20)\n",
    "    \"It's a good day!\"\n",
    "    >>> check_temperature(10)\n",
    "    \"It's a cold day!\"\n",
    "    '''\n",
    "    if temperature > 25:\n",
    "        return \"It's a warm day!\"\n",
    "    elif 15 < temperature <= 25:\n",
    "        return \"It's a good day!\"\n",
    "    else:\n",
    "        return \"It's a cold day!\"\n",
    "\n",
    "check_temperature(temperature)"
   ]
  },
  {
   "cell_type": "markdown",
   "metadata": {
    "id": "ANFbi11m-4v_"
   },
   "source": [
    "2. **Калькулятор оцінок:**\n",
    "   - Завдання:\n",
    "     - Дано заздалегідь визначену змінну `score` із результатом іспиту (зі 100 балів). Ваша задача визначити відповідну літеру цієї оцінки за правилами нижче.\n",
    "     - Якщо оцінка 90 або вище, виведіть \"A\".\n",
    "     - Якщо оцінка знаходиться в межах від 80 до 89, виведіть \"B\".\n",
    "     - Якщо оцінка знаходиться в межах від 70 до 79, виведіть \"C\".\n",
    "     - Якщо оцінка знаходиться в межах від 60 до 69, виведіть \"D\".\n",
    "     - В іншому випадку виведіть \"F\".\n",
    "     \n"
   ]
  },
  {
   "cell_type": "code",
   "execution_count": 5,
   "metadata": {
    "id": "2w0dAfBw_ew2"
   },
   "outputs": [],
   "source": [
    "score = 75"
   ]
  },
  {
   "cell_type": "code",
   "execution_count": 6,
   "metadata": {
    "id": "ZdJsRZ0WAQVD"
   },
   "outputs": [
    {
     "name": "stdout",
     "output_type": "stream",
     "text": [
      "C\n"
     ]
    }
   ],
   "source": [
    "def calculate_score(score):\n",
    "    '''\n",
    "    Evaluates the numerical score and returns a corresponding letter grade.\n",
    "\n",
    "    Parameters:\n",
    "    ---------------\n",
    "    score (int or float): The score to be evaluated. It should be a non-negative number.\n",
    "\n",
    "    Returns:\n",
    "    ---------------\n",
    "    str: A letter grade based on the score:\n",
    "        - 'A' if the score is 90 or above.\n",
    "        - 'B' if the score is between 80 and 89 (inclusive).\n",
    "        - 'C' if the score is between 70 and 79 (inclusive).\n",
    "        - 'D' if the score is between 60 and 69 (inclusive).\n",
    "        - 'F' if the score is below 60.\n",
    "\n",
    "    Example:\n",
    "    ---------------\n",
    "    >>> calculate_score(95)\n",
    "    'A'\n",
    "    >>> calculate_score(82)\n",
    "    'B'\n",
    "    >>> calculate_score(75)\n",
    "    'C'\n",
    "    >>> calculate_score(68)\n",
    "    'D'\n",
    "    >>> calculate_score(50)\n",
    "    'F'\n",
    "    '''\n",
    "    match score:\n",
    "        case _ if score >= 90:\n",
    "            return 'A'\n",
    "        case _ if 80 <= score < 90:\n",
    "            return 'B'\n",
    "        case _ if 70 <= score < 80:\n",
    "            return 'C'\n",
    "        case _ if 60 <= score < 70:\n",
    "            return 'D'\n",
    "        case _:\n",
    "            return 'F'\n",
    "\n",
    "print(calculate_score(score))  "
   ]
  },
  {
   "cell_type": "markdown",
   "metadata": {
    "id": "ohXlepp7_dns"
   },
   "source": [
    "\n",
    "\n",
    "3. **Перевірка на високосний рік:**\n",
    "   - Завдання:\n",
    "     - Дано заздалегідь визначену змінну року `year`. Перевірте, чи є рік високосним роком. Правила для перевірки наведені нижче.\n",
    "     - Якщо рік ділиться на 4 і не ділиться на 100, або він ділиться на 400, виведіть \"Високосний рік\".\n",
    "     - В іншому випадку виведіть \"Не високосний рік\".\n"
   ]
  },
  {
   "cell_type": "code",
   "execution_count": 8,
   "metadata": {
    "id": "i4OUe6Kh_sAk"
   },
   "outputs": [],
   "source": [
    "year = 2024  "
   ]
  },
  {
   "cell_type": "code",
   "execution_count": 9,
   "metadata": {
    "id": "yTWX7B4JARhH"
   },
   "outputs": [
    {
     "data": {
      "text/plain": [
       "\"It's a leap year!\""
      ]
     },
     "execution_count": 9,
     "metadata": {},
     "output_type": "execute_result"
    }
   ],
   "source": [
    "def leap_year(year):\n",
    "    '''\n",
    "    Determines whether the given year is a leap year.\n",
    "\n",
    "    Parameters:\n",
    "    --------------\n",
    "    year (int): The year to check. It should be a positive integer.\n",
    "\n",
    "    Returns:\n",
    "    --------------\n",
    "    str: A message indicating whether the year is a leap year:\n",
    "        - \"It's a leap year!\" if the year meets the leap year criteria.\n",
    "        - \"It's not a leap year!\" if the year does not meet the criteria.\n",
    "\n",
    "    Leap Year Rules:\n",
    "    --------------\n",
    "    - A year is considered a leap year if:\n",
    "        1. It is divisible by 4 but not by 100, OR\n",
    "        2. It is divisible by 400.\n",
    "    \n",
    "    Example:\n",
    "    >>> leap_year(2024)\n",
    "    \"It's a leap year!\"\n",
    "    >>> leap_year(1900)\n",
    "    \"It's not a leap year!\"\n",
    "    >>> leap_year(2000)\n",
    "    \"It's a leap year!\"\n",
    "    '''\n",
    "    if (year % 4 == 0 and year % 100 != 0) or (year % 400 == 0):\n",
    "        return \"It's a leap year!\"\n",
    "    else:\n",
    "        return \"It's not a leap year!\"\n",
    "        \n",
    "leap_year(year)"
   ]
  }
 ],
 "metadata": {
  "colab": {
   "provenance": []
  },
  "kernelspec": {
   "display_name": "Python 3 (ipykernel)",
   "language": "python",
   "name": "python3"
  },
  "language_info": {
   "codemirror_mode": {
    "name": "ipython",
    "version": 3
   },
   "file_extension": ".py",
   "mimetype": "text/x-python",
   "name": "python",
   "nbconvert_exporter": "python",
   "pygments_lexer": "ipython3",
   "version": "3.13.0"
  }
 },
 "nbformat": 4,
 "nbformat_minor": 4
}
