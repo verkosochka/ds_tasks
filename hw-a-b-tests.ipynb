{
 "cells": [
  {
   "cell_type": "markdown",
   "metadata": {
    "id": "e411f482"
   },
   "source": [
    "## Аналіз A/B тесту"
   ]
  },
  {
   "cell_type": "markdown",
   "metadata": {
    "ExecuteTime": {
     "end_time": "2022-12-10T17:43:42.137588Z",
     "start_time": "2022-12-10T17:43:42.124712Z"
    },
    "id": "f41183ed"
   },
   "source": [
    "Маємо проаналізувати дані A/B тесту в популярній [грі Cookie Cats](https://www.facebook.com/cookiecatsgame). Це класична гра-головоломка в стилі «з’єднай три», де гравець повинен з’єднати плитки одного кольору, щоб очистити дошку та виграти рівень. На дошці також зображені співаючі котики :)\n",
    "\n",
    "Під час проходження гри гравці стикаються з воротами, які змушують їх чекати деякий час, перш ніж вони зможуть прогресувати або зробити покупку в додатку. У цьому блоці завдань ми проаналізуємо результати A/B тесту, коли перші ворота в Cookie Cats було переміщено з рівня 30 на рівень 40. Зокрема, ми проаналізуємо вплив на утримання (retention) гравців. Тобто хочемо зрозуміти чи переміщення воріт на 10 рівнів пізніше якимось чином вплинуло на те, що користувачі перестають грати в гру раніше чи пізніше з точки зору кількості їх днів з моменту встановлення гри.\n",
    "\n",
    "Будемо працювати з даними з файлу `cookie_cats.csv`. Змінні в даних наступні:\n",
    "\n",
    "- userid - унікальний номер, який ідентифікує кожного гравця.\n",
    "- version - чи потрапив гравець в контрольну групу (gate_30 - ворота на 30 рівні) чи тестову групу (gate_40 - ворота на 40 рівні).\n",
    "- sum_gamerounds - кількість ігрових раундів, зіграних гравцем протягом першого тижня після встановлення\n",
    "- retention_1 - чи через 1 день після встановлення гравець повернувся і почав грати?\n",
    "- retention_7 - чи через 7 днів після встановлення гравець повернувся і почав грати?\n",
    "\n",
    "Коли гравець встановлював гру, його випадковим чином призначали до групи gate_30 або gate_40."
   ]
  },
  {
   "cell_type": "markdown",
   "metadata": {
    "id": "22f03df4"
   },
   "source": [
    "1. Зчитайте дані АВ тесту у змінну `df` та виведіть середнє значення показника показник `retention_7` (утримання на 7 день) по версіям гри. Сформулюйте гіпотезу: яка версія дає краще утримання через 7 днів після встановлення гри?"
   ]
  },
  {
   "cell_type": "code",
   "execution_count": 94,
   "metadata": {},
   "outputs": [],
   "source": [
    "import numpy as np\n",
    "import pandas as pd\n",
    "import scipy.stats as stats\n",
    "import matplotlib as mpl\n",
    "import matplotlib.pyplot as plt\n",
    "import statsmodels.stats.api as sms\n",
    "from statsmodels.stats.proportion import proportions_ztest, proportion_confint\n",
    "\n",
    "%matplotlib inline\n",
    "\n",
    "# Set default parameters for LaTex and font\n",
    "plt.rcParams['font.family'] = 'serif'\n",
    "plt.rcParams['text.usetex'] = True\n",
    "\n",
    "ALPHA = 0.05\n",
    "CRITICAL_CHI2_VALUE_1DOF_005ALPHA = 3.841"
   ]
  },
  {
   "cell_type": "code",
   "execution_count": 2,
   "metadata": {
    "id": "MVzMTs-jh22b"
   },
   "outputs": [
    {
     "data": {
      "text/html": [
       "<div>\n",
       "<style scoped>\n",
       "    .dataframe tbody tr th:only-of-type {\n",
       "        vertical-align: middle;\n",
       "    }\n",
       "\n",
       "    .dataframe tbody tr th {\n",
       "        vertical-align: top;\n",
       "    }\n",
       "\n",
       "    .dataframe thead th {\n",
       "        text-align: right;\n",
       "    }\n",
       "</style>\n",
       "<table border=\"1\" class=\"dataframe\">\n",
       "  <thead>\n",
       "    <tr style=\"text-align: right;\">\n",
       "      <th></th>\n",
       "      <th>userid</th>\n",
       "      <th>version</th>\n",
       "      <th>sum_gamerounds</th>\n",
       "      <th>retention_1</th>\n",
       "      <th>retention_7</th>\n",
       "    </tr>\n",
       "  </thead>\n",
       "  <tbody>\n",
       "    <tr>\n",
       "      <th>0</th>\n",
       "      <td>116</td>\n",
       "      <td>gate_30</td>\n",
       "      <td>3</td>\n",
       "      <td>False</td>\n",
       "      <td>False</td>\n",
       "    </tr>\n",
       "    <tr>\n",
       "      <th>1</th>\n",
       "      <td>337</td>\n",
       "      <td>gate_30</td>\n",
       "      <td>38</td>\n",
       "      <td>True</td>\n",
       "      <td>False</td>\n",
       "    </tr>\n",
       "    <tr>\n",
       "      <th>2</th>\n",
       "      <td>377</td>\n",
       "      <td>gate_40</td>\n",
       "      <td>165</td>\n",
       "      <td>True</td>\n",
       "      <td>False</td>\n",
       "    </tr>\n",
       "    <tr>\n",
       "      <th>3</th>\n",
       "      <td>483</td>\n",
       "      <td>gate_40</td>\n",
       "      <td>1</td>\n",
       "      <td>False</td>\n",
       "      <td>False</td>\n",
       "    </tr>\n",
       "    <tr>\n",
       "      <th>4</th>\n",
       "      <td>488</td>\n",
       "      <td>gate_40</td>\n",
       "      <td>179</td>\n",
       "      <td>True</td>\n",
       "      <td>True</td>\n",
       "    </tr>\n",
       "  </tbody>\n",
       "</table>\n",
       "</div>"
      ],
      "text/plain": [
       "   userid  version  sum_gamerounds  retention_1  retention_7\n",
       "0     116  gate_30               3        False        False\n",
       "1     337  gate_30              38         True        False\n",
       "2     377  gate_40             165         True        False\n",
       "3     483  gate_40               1        False        False\n",
       "4     488  gate_40             179         True         True"
      ]
     },
     "execution_count": 2,
     "metadata": {},
     "output_type": "execute_result"
    }
   ],
   "source": [
    "data_path = 'data_statistics/cookie_cats.csv'\n",
    "df = pd.read_csv(data_path)\n",
    "df.head()"
   ]
  },
  {
   "cell_type": "code",
   "execution_count": 9,
   "metadata": {},
   "outputs": [
    {
     "data": {
      "text/plain": [
       "(90189, 5)"
      ]
     },
     "execution_count": 9,
     "metadata": {},
     "output_type": "execute_result"
    }
   ],
   "source": [
    "df.shape"
   ]
  },
  {
   "cell_type": "code",
   "execution_count": 8,
   "metadata": {},
   "outputs": [
    {
     "data": {
      "text/plain": [
       "version\n",
       "gate_30    0.190201\n",
       "gate_40    0.182000\n",
       "Name: retention_7, dtype: float64"
      ]
     },
     "execution_count": 8,
     "metadata": {},
     "output_type": "execute_result"
    }
   ],
   "source": [
    "retention_7_mean = df.groupby('version')['retention_7'].mean()\n",
    "retention_7_mean"
   ]
  },
  {
   "cell_type": "markdown",
   "metadata": {},
   "source": [
    "<p style='font-family: Garamond ; font-size: 16px;'>Припустимо, що <code>gate_30</code> - версія, що дає краще утримання через 7 днів після встановлення гри.</p>\n",
    "<p style='font-family: Garamond ; font-size: 18px;'><b>Формуємо наступні нульову та альтернативну гіпотези:</b></p>\n",
    "<p style='font-family: Garamond ; font-size: 18px;'>$H_0$: немає різниці retention через 7 днів між версіями (пропорції однакові між <code>gate_30</code> та <code>gate_40</code>).</p>\n",
    "<p style='font-family: Garamond ; font-size: 18px;'>$H_1$: є різниця в утриманні (пропорції різні між <code>gate_30</code> та <code>gate_40</code>). При чому, відповідно до середніх значень показників (математичного сподівання генеральної сукупності згідно з показником retention для кожної з груп або ж коректніше було б сформулювати те, що це є вибірковим середнім для кожної з категорій рівня воріт) - <code>gate_30</code> має вищий retention, аніж <code>gate_40</code>.</p>"
   ]
  },
  {
   "cell_type": "markdown",
   "metadata": {
    "id": "74e9c6ca"
   },
   "source": [
    "2. Перевірте з допомогою z-тесту аналогічно до прикладу в лекції, чи дає якась з версій гри кращий показник `retention_7` на рівні значущості 0.05. Обчисліть також довірчі інтервали для двох вибірок. Виведіть результат у форматі:\n",
    "```\n",
    "z statistic: ...\n",
    "p-value: ...\n",
    "Довірчий інтервал 95% для групи control: [..., ...]\n",
    "Довірчий інтервал 95% для групи treatment: [..., ...]\n",
    "```\n",
    "де замість `...` - обчислені значення. В якості висновка дайте відповідь на два питання:  \n",
    "    1. чи є статистична значущою різниця між поведінкою користувачів у різних версіях гри?   \n",
    "    2. чи перетинаються довірчі інтервали утримання користувачів з різних версій гри? Про що це каже?  \n",
    "    \n",
    "Зверніть увагу, в такому і схожому завданнях ми використовуєм `proportion` Z-тест. Це тому що в нас залежна змінна має бінарне значення (повернеться аби ні користувач, чи клікне або ні користувач в інших ситуаціях - всього два можливих значення в змінної: 0/1, True/False ). Якщо б ми вимірювали скажімо чи є стат. значущою різниця між вагою чоловіків і жінок в певній вибірці, ми б використовувавли функцію `statsmodels.stats.ztest`, бо залежна змінна `вага` є неперервною (тип float, замість типу int чи bool і тільки двох можливих значень)."
   ]
  },
  {
   "cell_type": "markdown",
   "metadata": {},
   "source": [
    "<p style='font-family: Garamond ; font-size: 16px;'><b>!NOTA BENE</b> Ми маємо достатньо даних для прооведення тесту на повних семплах (за фільтрації початкового датасету), проте проведемо A|B тест за двох випадків:</p>\n",
    "<ol style='font-family: Garamond ; font-size: 16px;'>\n",
    "    <li>За розрахунку <code>proportion effect size</code> та його застосування, використовуючи формулу Cohen's h: $h = 2 \\cdot \\arcsin(\\sqrt{p_1}) - 2 \\cdot \\arcsin(\\sqrt{p_2})$.</li>\n",
    "    <li>Без застосування <code>proportion effect size</code>, оскільки ми з самого початку маємо повну кулькість даних, проте, за будь-якого випадку, нам необхідно обчислити заданий параметр, аби переконатися в тому, що A|B тест є ефективним.</li>\n",
    "</ol>"
   ]
  },
  {
   "cell_type": "code",
   "execution_count": 10,
   "metadata": {
    "id": "kXQE4gyjh5MS"
   },
   "outputs": [],
   "source": [
    "control_group = df[df['version'] == 'gate_30']['retention_7']\n",
    "treatment_group = df[df['version'] == 'gate_40']['retention_7']"
   ]
  },
  {
   "cell_type": "code",
   "execution_count": 11,
   "metadata": {},
   "outputs": [
    {
     "name": "stdout",
     "output_type": "stream",
     "text": [
      "Proportion effect size (Cohen's h): -0.021074001016365917\n"
     ]
    }
   ],
   "source": [
    "p_control = control_group.mean()\n",
    "p_treatment = treatment_group.mean()\n",
    "\n",
    "h = 2 * np.arcsin(np.sqrt(p_treatment)) - 2 * np.arcsin(np.sqrt(p_control))\n",
    "\n",
    "print(f\"Proportion effect size (Cohen's h): {h}\")"
   ]
  },
  {
   "cell_type": "code",
   "execution_count": 13,
   "metadata": {},
   "outputs": [
    {
     "name": "stdout",
     "output_type": "stream",
     "text": [
      "35347\n"
     ]
    }
   ],
   "source": [
    "required_n = sms.NormalIndPower().solve_power(\n",
    "    h,\n",
    "    power=0.8,\n",
    "    alpha=0.05,\n",
    "    ratio=1\n",
    "    )                                                  \n",
    "\n",
    "required_n = ceil(required_n)                         \n",
    "\n",
    "print(required_n)"
   ]
  },
  {
   "cell_type": "code",
   "execution_count": 42,
   "metadata": {},
   "outputs": [
    {
     "data": {
      "text/plain": [
       "((44700,), (45489,))"
      ]
     },
     "execution_count": 42,
     "metadata": {},
     "output_type": "execute_result"
    }
   ],
   "source": [
    "control_group.shape, treatment_group.shape"
   ]
  },
  {
   "cell_type": "code",
   "execution_count": 80,
   "metadata": {},
   "outputs": [
    {
     "name": "stdout",
     "output_type": "stream",
     "text": [
      "There is 0 duplicates in the input dataset.\n"
     ]
    }
   ],
   "source": [
    "session_counts = df['userid'].value_counts(ascending=False)\n",
    "multi_users = session_counts[session_counts > 1].count()\n",
    "\n",
    "print(f'There is {multi_users} duplicates in the input dataset.')"
   ]
  },
  {
   "cell_type": "code",
   "execution_count": 43,
   "metadata": {},
   "outputs": [],
   "source": [
    "control_sample = df[df['version'] == 'gate_30'].sample(n=required_n, random_state=22)\n",
    "treatment_sample = df[df['version'] == 'gate_40'].sample(n=required_n, random_state=22)\n",
    "\n",
    "ab_test = pd.concat([control_sample, treatment_sample], axis=0)\n",
    "ab_test.reset_index(drop=True, inplace=True)"
   ]
  },
  {
   "cell_type": "code",
   "execution_count": 44,
   "metadata": {},
   "outputs": [
    {
     "data": {
      "text/html": [
       "<div>\n",
       "<style scoped>\n",
       "    .dataframe tbody tr th:only-of-type {\n",
       "        vertical-align: middle;\n",
       "    }\n",
       "\n",
       "    .dataframe tbody tr th {\n",
       "        vertical-align: top;\n",
       "    }\n",
       "\n",
       "    .dataframe thead th {\n",
       "        text-align: right;\n",
       "    }\n",
       "</style>\n",
       "<table border=\"1\" class=\"dataframe\">\n",
       "  <thead>\n",
       "    <tr style=\"text-align: right;\">\n",
       "      <th></th>\n",
       "      <th>userid</th>\n",
       "      <th>version</th>\n",
       "      <th>sum_gamerounds</th>\n",
       "      <th>retention_1</th>\n",
       "      <th>retention_7</th>\n",
       "    </tr>\n",
       "  </thead>\n",
       "  <tbody>\n",
       "    <tr>\n",
       "      <th>0</th>\n",
       "      <td>7540471</td>\n",
       "      <td>gate_30</td>\n",
       "      <td>45</td>\n",
       "      <td>True</td>\n",
       "      <td>False</td>\n",
       "    </tr>\n",
       "    <tr>\n",
       "      <th>1</th>\n",
       "      <td>3589138</td>\n",
       "      <td>gate_30</td>\n",
       "      <td>21</td>\n",
       "      <td>True</td>\n",
       "      <td>False</td>\n",
       "    </tr>\n",
       "    <tr>\n",
       "      <th>2</th>\n",
       "      <td>3177668</td>\n",
       "      <td>gate_30</td>\n",
       "      <td>14</td>\n",
       "      <td>True</td>\n",
       "      <td>False</td>\n",
       "    </tr>\n",
       "    <tr>\n",
       "      <th>3</th>\n",
       "      <td>2133884</td>\n",
       "      <td>gate_30</td>\n",
       "      <td>26</td>\n",
       "      <td>False</td>\n",
       "      <td>False</td>\n",
       "    </tr>\n",
       "    <tr>\n",
       "      <th>4</th>\n",
       "      <td>492763</td>\n",
       "      <td>gate_30</td>\n",
       "      <td>39</td>\n",
       "      <td>True</td>\n",
       "      <td>True</td>\n",
       "    </tr>\n",
       "  </tbody>\n",
       "</table>\n",
       "</div>"
      ],
      "text/plain": [
       "    userid  version  sum_gamerounds  retention_1  retention_7\n",
       "0  7540471  gate_30              45         True        False\n",
       "1  3589138  gate_30              21         True        False\n",
       "2  3177668  gate_30              14         True        False\n",
       "3  2133884  gate_30              26        False        False\n",
       "4   492763  gate_30              39         True         True"
      ]
     },
     "execution_count": 44,
     "metadata": {},
     "output_type": "execute_result"
    }
   ],
   "source": [
    "ab_test.head()"
   ]
  },
  {
   "cell_type": "code",
   "execution_count": 81,
   "metadata": {},
   "outputs": [
    {
     "name": "stdout",
     "output_type": "stream",
     "text": [
      "z statistic: 2.90\n",
      "p-value: 0.004\n",
      "The confidence interval 95% for the control group: [0.18530, 0.19346]\n",
      "The confidence interval 95% for the treatment group: [0.17691, 0.18493]\n"
     ]
    }
   ],
   "source": [
    "control_results = ab_test[ab_test['version'] == 'gate_30']['retention_7']\n",
    "treatment_results = ab_test[ab_test['version'] == 'gate_40']['retention_7']\n",
    "\n",
    "n_con = control_results.count()\n",
    "n_treat = treatment_results.count()\n",
    "successes = [control_results.sum(), treatment_results.sum()]\n",
    "nobs = [n_con, n_treat]\n",
    "\n",
    "z_stat, pval = proportions_ztest(successes, nobs=nobs)\n",
    "(lower_con, lower_treat), (upper_con, upper_treat) = proportion_confint(successes, nobs=nobs, alpha=0.05)\n",
    "\n",
    "print(f'z statistic: {z_stat:.2f}')\n",
    "print(f'p-value: {pval:.3f}')\n",
    "print(f'The confidence interval 95% for the control group: [{lower_con:.5f}, {upper_con:.5f}]')\n",
    "print(f'The confidence interval 95% for the treatment group: [{lower_treat:.5f}, {upper_treat:.5f}]')\n"
   ]
  },
  {
   "cell_type": "code",
   "execution_count": 83,
   "metadata": {},
   "outputs": [
    {
     "name": "stdout",
     "output_type": "stream",
     "text": [
      "The null hypothesis H₀ is rejected: There is a difference in retention (the proportions are different between gate_30 and gate_40). Moreover, according to the average values (the expected value of the population based on the retention metric for each group, or more correctly, it would be formulated as the sample mean for each of the gate level categories) - gate_30 has a higher retention than gate_40.\n"
     ]
    }
   ],
   "source": [
    "if pval < ALPHA:\n",
    "    print('The null hypothesis H₀ is rejected: There is a difference in retention (the proportions are different between gate_30 and gate_40). Moreover, according to the average values (the expected value of the population based on the retention metric for each group, or more correctly, it would be formulated as the sample mean for each of the gate level categories) - gate_30 has a higher retention than gate_40.')\n",
    "else:\n",
    "    print('The null hypothesis H₀ is not rejected: there is no effect on retention level in 7 days betweet gate_30 and gate_40 group.')"
   ]
  },
  {
   "cell_type": "code",
   "execution_count": 88,
   "metadata": {},
   "outputs": [
    {
     "data": {
      "text/plain": [
       "{'The mean value of retention_7 (control)': np.float64(0.19020134228187918),\n",
       " 'The mean value of retention_7 (treatment)': np.float64(0.18200004396667327),\n",
       " 'z statistic': np.float64(3.164358912748191),\n",
       " 'p-value': np.float64(0.001554249975614329),\n",
       " 'The confidence interval 95% for the control group:': (0.18656311652199903,\n",
       "  0.19383956804175934),\n",
       " 'The confidence interval 95% for the treatment group:': (0.17845430073314686,\n",
       "  0.18554578720019968)}"
      ]
     },
     "execution_count": 88,
     "metadata": {},
     "output_type": "execute_result"
    }
   ],
   "source": [
    "retention_means = df.groupby('version')['retention_7'].mean()\n",
    "\n",
    "successes = df.groupby('version')['retention_7'].sum().values\n",
    "nobs = df.groupby('version')['retention_7'].count().values\n",
    "\n",
    "z_stat, p_value = proportions_ztest(count=successes, nobs=nobs)\n",
    "\n",
    "conf_int_control = proportion_confint(count=successes[0], nobs=nobs[0], alpha=0.05)\n",
    "conf_int_treatment = proportion_confint(count=successes[1], nobs=nobs[1], alpha=0.05)\n",
    "\n",
    "results = {\n",
    "    'The mean value of retention_7 (control)': retention_means.loc['gate_30'],\n",
    "    'The mean value of retention_7 (treatment)': retention_means.loc['gate_40'],\n",
    "    'z statistic': z_stat,\n",
    "    'p-value': p_value,\n",
    "    'The confidence interval 95% for the control group:': conf_int_control,\n",
    "    'The confidence interval 95% for the treatment group:': conf_int_treatment\n",
    "}\n",
    "\n",
    "results"
   ]
  },
  {
   "cell_type": "code",
   "execution_count": 85,
   "metadata": {},
   "outputs": [
    {
     "name": "stdout",
     "output_type": "stream",
     "text": [
      "The null hypothesis H₀ is rejected: There is a difference in retention (the proportions are different between gate_30 and gate_40). Moreover, according to the average values (the expected value of the population based on the retention metric for each group, or more correctly, it would be formulated as the sample mean for each of the gate level categories) - gate_30 has a higher retention than gate_40.\n"
     ]
    }
   ],
   "source": [
    "if p_value < ALPHA:\n",
    "    print('The null hypothesis H₀ is rejected: There is a difference in retention (the proportions are different between gate_30 and gate_40). Moreover, according to the average values (the expected value of the population based on the retention metric for each group, or more correctly, it would be formulated as the sample mean for each of the gate level categories) - gate_30 has a higher retention than gate_40.')\n",
    "else:\n",
    "    print('The null hypothesis H₀ is not rejected: there is no effect on retention level in 7 days betweet gate_30 and gate_40 group.')"
   ]
  },
  {
   "cell_type": "markdown",
   "metadata": {},
   "source": [
    "<p style='font-family: Garamond ; font-size: 16px;'>Із розрахунку proportion effect size (Cohen's h) маємо -0.021074001016365917. Якщо <code>proportion effect size</code> є від'ємним, це означає, що пропорція утримання в тестовій групі менша, ніж у контрольній групі. Тобто результат тесту свідчить про те, що переміщення воріт з рівня 30 на рівень 40 мало негативний ефект на утримання гравців у тестовій групі.</p>\n",
    "<p style='font-family: Garamond ; font-size: 16px;'>Наші confidence intervals для контрольно та тестової груп не перетинаються, що підтверджує, що різниця в показниках retention_7 є не лише статистично значущою, але й впевненою (результат стабільний).</p>\n",
    "<p style='font-family: Garamond ; font-size: 16px;'>За результатом A|B тесту різниця між <code>retenton_7</code> для груп є статистично значущою, що ілюстративно додатково наведемо на графіку нижче (barplot).</p>"
   ]
  },
  {
   "cell_type": "code",
   "execution_count": 90,
   "metadata": {},
   "outputs": [
    {
     "data": {
      "image/png": "[encoded data removed]",
      "text/plain": [
       "<Figure size 800x600 with 1 Axes>"
      ]
     },
     "metadata": {},
     "output_type": "display_data"
    }
   ],
   "source": [
    "groups = ['Control (gate_30)', 'Treatment (gate_40)']\n",
    "means = [results['The mean value of retention_7 (control)'], results['The mean value of retention_7 (treatment)']]\n",
    "errors = [\n",
    "    (results['The mean value of retention_7 (control)'] - results['The confidence interval 95% for the control group:'][0],\n",
    "     results['The confidence interval 95% for the control group:'][1] - results['The mean value of retention_7 (control)']),\n",
    "    (results['The mean value of retention_7 (treatment)'] - results['The confidence interval 95% for the treatment group:'][0],\n",
    "     results['The confidence interval 95% for the treatment group:'][1] - results['The mean value of retention_7 (treatment)'])\n",
    "]\n",
    "\n",
    "plt.figure(figsize=(8,6))\n",
    "plt.bar(groups, means, yerr=list(zip(*errors)), capsize=10, color=['skyblue', 'lightgreen'])\n",
    "plt.ylabel('Retention on Day 7')\n",
    "plt.title('Retention Comparison: Control vs Treatment Groups')\n",
    "plt.ylim(0.17, 0.20)\n",
    "plt.grid(linestyle='--', alpha=0.7)\n",
    "plt.show();"
   ]
  },
  {
   "cell_type": "markdown",
   "metadata": {
    "ExecuteTime": {
     "end_time": "2022-12-10T20:50:10.709766Z",
     "start_time": "2022-12-10T20:50:10.639999Z"
    },
    "id": "076cd867"
   },
   "source": [
    "3. Є ще один тип тестів, який використовується для бінарної метрики як от \"зробить юзер дію, чи ні\" - тест [**Хі-квадрат**](https://www.bmj.com/about-bmj/resources-readers/publications/statistics-square-one/8-chi-squared-tests) (ще одне [пояснення](https://www.scribbr.com/statistics/chi-square-tests/) тесту з прикладами). В нього інші гіпотези Н0 і Н1 на відміну від z- та t-тестів. А також цей тест можна використовувати, якщо в нас більше за 2 досліджувані групи, тобто в нас не А/В тест, а А/B/C/D, наприклад.  \n",
    "\n",
    "В **z- та t-тестах** (які відрізняються тим, що ми в першому не знаємо дисперсію генеральної сукупності, але якщо в нас великий набір даних, то ці два тести дають дуже схожі результати) **ми перевіряємо, чи є різниця у середніх показниках по групам користувачів**.  \n",
    "\n",
    "А в **тесті Хі-квадрат ми перевіряємо чи є звʼязок між групою користувача і тим, чи він зробить цікаву нам дію**. Це ніби дослідження одного і того самого, але дещо різними способами. Для перевірки, можна виконувати кілька тестів (особливо, якщо один дає якийсь непереконливий результат типу р-значення 0.07 - наче і fail to regect H0 на рівні стат значущості 5%, але цікаво, що скажуть інші тести), тож, зробимо і ми тест хі-квадрат та порівняємо його результат з z-тестом.\n",
    "\n",
    "Про різницю між тестами можна почитати ще [тут](https://stats.stackexchange.com/a/178860) - це просто пояснення користувача стековерфлоу, але там розумні люди сидять.\n",
    "\n",
    "Для проведення хі-квадрат тесту скористаємось функцією з `scipy.stats` `chi2_contingency` для обчислення статистики хі-квадрат і р-значення для перевірки конкретної гіпотези. У цю функцію вам треба передати таблицю 2х2: кількість випадків для кожної версії гри і значення `retention_7`.\n",
    "\n",
    "**Задача**: виконайте тест хі-квадрат на рівні значущості 5% аби визначити, чи є залежність між версією гри та тим, чи зайде гравець на 7ий день після встановлення гри.\n",
    "Тут гіпотези наступні\n",
    "- Н0: значення retention_7 не залежить від версії гри\n",
    "- Н1: є залежність між версією гри і значенням retention_7\n",
    "\n",
    "Виведіть p-значення та зробіть висновок.\n"
   ]
  },
  {
   "cell_type": "code",
   "execution_count": 78,
   "metadata": {},
   "outputs": [
    {
     "data": {
      "text/html": [
       "<div>\n",
       "<style scoped>\n",
       "    .dataframe tbody tr th:only-of-type {\n",
       "        vertical-align: middle;\n",
       "    }\n",
       "\n",
       "    .dataframe tbody tr th {\n",
       "        vertical-align: top;\n",
       "    }\n",
       "\n",
       "    .dataframe thead th {\n",
       "        text-align: right;\n",
       "    }\n",
       "</style>\n",
       "<table border=\"1\" class=\"dataframe\">\n",
       "  <thead>\n",
       "    <tr style=\"text-align: right;\">\n",
       "      <th>retention_7</th>\n",
       "      <th>False</th>\n",
       "      <th>True</th>\n",
       "    </tr>\n",
       "    <tr>\n",
       "      <th>version</th>\n",
       "      <th></th>\n",
       "      <th></th>\n",
       "    </tr>\n",
       "  </thead>\n",
       "  <tbody>\n",
       "    <tr>\n",
       "      <th>gate_30</th>\n",
       "      <td>36198</td>\n",
       "      <td>8502</td>\n",
       "    </tr>\n",
       "    <tr>\n",
       "      <th>gate_40</th>\n",
       "      <td>37210</td>\n",
       "      <td>8279</td>\n",
       "    </tr>\n",
       "  </tbody>\n",
       "</table>\n",
       "</div>"
      ],
      "text/plain": [
       "retention_7  False  True \n",
       "version                  \n",
       "gate_30      36198   8502\n",
       "gate_40      37210   8279"
      ]
     },
     "execution_count": 78,
     "metadata": {},
     "output_type": "execute_result"
    }
   ],
   "source": [
    "# Створимо таблицю з кількістю користувачів для кожної версії гри та значення retention_7 (0 або 1)\n",
    "contingency_table = pd.crosstab(df['version'], df['retention_7'])\n",
    "contingency_table"
   ]
  },
  {
   "cell_type": "code",
   "execution_count": 97,
   "metadata": {
    "id": "kcwD-91Fh84n"
   },
   "outputs": [
    {
     "name": "stdout",
     "output_type": "stream",
     "text": [
      "The test statistic (calculated CHI2): 9.959086799559167.\n",
      "The p-value of the test: 0.0016005742679058301.\n",
      "The degrees of freedom (dof = observed.size - sum(observed.shape) + observed.ndim - 1): 1.\n",
      "The expected frequencies, based on the marginal sums of the table: [[36382.90257127  8317.09742873]\n",
      " [37025.09742873  8463.90257127]].\n"
     ]
    }
   ],
   "source": [
    "chi2_stat, p_value_chi2, dof, expected_freq = stats.chi2_contingency(contingency_table)\n",
    "print(f'The test statistic (calculated CHI2): {chi2_stat}.\\nThe p-value of the test: {p_value_chi2}.')\n",
    "print(f'The degrees of freedom (dof = observed.size - sum(observed.shape) + observed.ndim - 1): {dof}.\\nThe expected frequencies, based on the marginal sums of the table: {expected_freq}.')"
   ]
  },
  {
   "cell_type": "code",
   "execution_count": 98,
   "metadata": {},
   "outputs": [
    {
     "name": "stdout",
     "output_type": "stream",
     "text": [
      "The null hypothesis H₀ is rejected: there is a dependency between the game version and the retention_7 value.\n"
     ]
    }
   ],
   "source": [
    "if p_value_chi2 < ALPHA:\n",
    "    print('The null hypothesis H₀ is rejected: there is a dependency between the game version and the retention_7 value.')\n",
    "else:\n",
    "    print('The null hypothesis H₀ is not rejected: the retention_7 value does not depend on the game version.')"
   ]
  },
  {
   "cell_type": "code",
   "execution_count": 95,
   "metadata": {},
   "outputs": [
    {
     "name": "stdout",
     "output_type": "stream",
     "text": [
      "The null hypothesis H₀ is rejected: there is a dependency between the game version and the retention_7 value.\n"
     ]
    }
   ],
   "source": [
    "if chi2_stat < CRITICAL_CHI2_VALUE_1DOF_005ALPHA:\n",
    "    print('The null hypothesis H₀ is not rejected: the retention_7 value does not depend on the game version')\n",
    "else:\n",
    "    print('The null hypothesis H₀ is rejected: there is a dependency between the game version and the retention_7 value.')"
   ]
  }
 ],
 "metadata": {
  "colab": {
   "provenance": []
  },
  "kernelspec": {
   "display_name": "Python 3 (ipykernel)",
   "language": "python",
   "name": "python3"
  },
  "language_info": {
   "codemirror_mode": {
    "name": "ipython",
    "version": 3
   },
   "file_extension": ".py",
   "mimetype": "text/x-python",
   "name": "python",
   "nbconvert_exporter": "python",
   "pygments_lexer": "ipython3",
   "version": "3.13.0"
  }
 },
 "nbformat": 4,
 "nbformat_minor": 4
}
