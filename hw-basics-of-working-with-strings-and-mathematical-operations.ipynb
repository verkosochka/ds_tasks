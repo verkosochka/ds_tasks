{
 "cells": [
  {
   "cell_type": "markdown",
   "metadata": {
    "id": "9ngpqNFm8w1a"
   },
   "source": [
    "<h1 style='font-family: Garamond ;'>Домашнє завдання до теми \"Основи роботи з рядками та математичні операції\"</h1>\n",
    "<hr></hr>"
   ]
  },
  {
   "cell_type": "markdown",
   "metadata": {
    "id": "DEkQSeSyTum-"
   },
   "source": [
    "<ul style='font-family: Garamond ; font-size: 16px;'>\n",
    "    <li>1. Створіть змінні <code>a</code>, <code>b</code>, <code>c</code> та <code>d</code>, задайте їм значення відповідно 101, 210, 111, 402, та обчисліть з допомогою Python наступний вираз:</li>.\n",
    "</ul>\n",
    "\n",
    "$$ \\frac{(a+b) * c}{d} $$\n",
    "\n",
    "<p style='font-family: Garamond ; font-size: 16px;'><b>Важливо</b>: тут ми маємо обчислити значення саме з використанням змінних, а не просто чисел, як би ми робили у калькуряторі. Змінні потрібні аби за бажання ми могли змінити їх значення та не переписувати код обчислення виразу, бо він буде працювати для різних значень змінних.</p>\n",
    "\n"
   ]
  },
  {
   "cell_type": "code",
   "execution_count": 14,
   "metadata": {
    "id": "u1ICQq5L3eKH"
   },
   "outputs": [
    {
     "name": "stdout",
     "output_type": "stream",
     "text": [
      "85.8731343283582\n"
     ]
    }
   ],
   "source": [
    "def calculation(a, b, c, d):\n",
    "    '''\n",
    "    Calculates the result using the formula ((a + b) * c) / d.\n",
    "\n",
    "    Parameters:\n",
    "    ----------\n",
    "    a : int or float\n",
    "        The first addend for the addition operation.\n",
    "    b : int or float\n",
    "        The second addend for the addition operation.\n",
    "    c : int or float\n",
    "        The multiplier for the sum of a and b.\n",
    "    d : int or float\n",
    "        The divisor for the division operation.\n",
    "\n",
    "    Returns:\n",
    "    -------\n",
    "    float\n",
    "        The quotient of the division ((a + b) * c) / d, if d ≠ 0.\n",
    "    \n",
    "    Notes:\n",
    "    ------\n",
    "    - If `d` equals 0, the function prints an error message \n",
    "      \"Divisor can not be a zero, otherwise your answer is infinity!\" \n",
    "      and does not return any value.\n",
    "    \n",
    "    Example:\n",
    "    --------\n",
    "    >>> calculation(2, 3, 4, 5)\n",
    "    4.0\n",
    "\n",
    "    >>> calculation(2, 3, 4, 0)\n",
    "    Divisor can not be a zero, otherwise your answer is infinity!\n",
    "\n",
    "    '''\n",
    "    \n",
    "    if d == 0:\n",
    "        print('Divisor can not be a zero, otherwise your answer is infinity!')\n",
    "    else:    \n",
    "        sum = a + b\n",
    "        dividend = sum * c\n",
    "        quotient = dividend / d\n",
    "        return quotient\n",
    "a = 101\n",
    "b = 210\n",
    "c = 111\n",
    "d = 402\n",
    "result = calculation(a, b, c, d)\n",
    "print(result)"
   ]
  },
  {
   "cell_type": "markdown",
   "metadata": {
    "id": "FnBVPt7G3bcR"
   },
   "source": [
    "<p style='font-family: Garamond ; font-size: 16px;'>Очікувана відповідь: 85.8731343283582 .</p>"
   ]
  },
  {
   "cell_type": "markdown",
   "metadata": {
    "id": "HI3eEYZRT4Cn"
   },
   "source": [
    "<ul style='font-family: Garamond ; font-size: 16px;'>\n",
    "    <li>2. Якою буде остача від ділення числа 11283 на 89? Обчисліть з допомогою Python.</li>\n",
    "</ul>"
   ]
  },
  {
   "cell_type": "code",
   "execution_count": 3,
   "metadata": {
    "id": "ejZc3ng_TpgY"
   },
   "outputs": [
    {
     "name": "stdout",
     "output_type": "stream",
     "text": [
      "69\n"
     ]
    }
   ],
   "source": [
    "print(11283 % 89)"
   ]
  },
  {
   "cell_type": "markdown",
   "metadata": {
    "id": "RO02CqdqT9oG"
   },
   "source": [
    "<ul style='font-family: Garamond ; font-size: 16px;'>\n",
    "    <li>3. Скільки цілих разів поміститься число 89 в 11283? (Або що те саме: який буде результат цілочисельного ділення 11283 на 89?)</li>\n",
    "</ul>"
   ]
  },
  {
   "cell_type": "code",
   "execution_count": 4,
   "metadata": {
    "id": "KEUb9lO5T_PI"
   },
   "outputs": [
    {
     "name": "stdout",
     "output_type": "stream",
     "text": [
      "126\n"
     ]
    }
   ],
   "source": [
    "print(11283 // 89)"
   ]
  },
  {
   "cell_type": "markdown",
   "metadata": {
    "id": "5fnIPumiT_rt"
   },
   "source": [
    "<ul style='font-family: Garamond ; font-size: 16px;'>\n",
    "    <li>4. Запишіть у змінну <code>name</code> ваше імʼя.</li>\n",
    "</ul>"
   ]
  },
  {
   "cell_type": "code",
   "execution_count": 10,
   "metadata": {
    "id": "xP7Mbq45UFlV"
   },
   "outputs": [],
   "source": [
    "name = 'Veronika'"
   ]
  },
  {
   "cell_type": "markdown",
   "metadata": {
    "id": "fR9TqY79UNDL"
   },
   "source": [
    "<ul style='font-family: Garamond ; font-size: 16px;'>\n",
    "    <li>5. Запишіть у змінну <code>surname</code> ваше прізвище.</li>\n",
    "</ul>"
   ]
  },
  {
   "cell_type": "code",
   "execution_count": 6,
   "metadata": {
    "id": "0qHjyMyvUOM1"
   },
   "outputs": [],
   "source": [
    "surname = 'Kobets'"
   ]
  },
  {
   "cell_type": "markdown",
   "metadata": {
    "id": "zqKncQLwUOxh"
   },
   "source": [
    "<ul style='font-family: Garamond ; font-size: 16px;'>\n",
    "    <li>6. Сконкатенуйте імʼя та прізвище в одну фразу через пробіл. Запишіть результат у нову змінну <code>name_surname</code> та виведіть результат на екран.</li>\n",
    "</ul>"
   ]
  },
  {
   "cell_type": "code",
   "execution_count": 15,
   "metadata": {
    "id": "8E-blvN-UTPg"
   },
   "outputs": [
    {
     "data": {
      "text/plain": [
       "'Veronika Kobets'"
      ]
     },
     "execution_count": 15,
     "metadata": {},
     "output_type": "execute_result"
    }
   ],
   "source": [
    "name_surname = name + ' ' + surname\n",
    "name_surname"
   ]
  },
  {
   "cell_type": "markdown",
   "metadata": {
    "id": "_Unl7EXlUgYn"
   },
   "source": [
    "<p style='font-family: Garamond ; font-size: 16px;'>Очікувана відповідь (тільки з вашими даними): 'Hanna Pylieva'</p>"
   ]
  },
  {
   "cell_type": "markdown",
   "metadata": {
    "id": "z-3FI0IrUT0U"
   },
   "source": [
    "<ul style='font-family: Garamond ; font-size: 16px;'>\n",
    "    <li>7. Зробіть усі літери змінної <code>name_surname</code> заглавними використовуючи метод рядків в Python:</li>\n",
    "</ul>"
   ]
  },
  {
   "cell_type": "code",
   "execution_count": 16,
   "metadata": {
    "id": "9ahIwyT5UblY"
   },
   "outputs": [
    {
     "data": {
      "text/plain": [
       "'VERONIKA KOBETS'"
      ]
     },
     "execution_count": 16,
     "metadata": {},
     "output_type": "execute_result"
    }
   ],
   "source": [
    "name_surname.upper()"
   ]
  },
  {
   "cell_type": "markdown",
   "metadata": {
    "id": "6PDcqfmdUcLo"
   },
   "source": [
    "<p style='font-family: Garamond ; font-size: 16px;'>Очікувана відповідь (тільки з вашими даними): 'HANNA PYLIEVA'</p>"
   ]
  },
  {
   "cell_type": "markdown",
   "metadata": {
    "id": "qNl8KxeXUtnL"
   },
   "source": [
    "<ul style='font-family: Garamond ; font-size: 16px;'>\n",
    "    <li>8. Виведіть третю літеру вашого <code>name_surname</code>. Тут уважно, треба саме третя літера. Згадайте, з якого значення починається індексування значень в Python.</li>\n",
    "</ul>"
   ]
  },
  {
   "cell_type": "code",
   "execution_count": 18,
   "metadata": {
    "id": "Tp7stqAhUvJz"
   },
   "outputs": [
    {
     "data": {
      "text/plain": [
       "'r'"
      ]
     },
     "execution_count": 18,
     "metadata": {},
     "output_type": "execute_result"
    }
   ],
   "source": [
    "name_surname[2]"
   ]
  },
  {
   "cell_type": "markdown",
   "metadata": {
    "id": "GYWHqb3UUvqk"
   },
   "source": [
    "<p style='font-family: Garamond ; font-size: 16px;'>Очікувана відповідь (тільки з вашими даними): 'n'</p>"
   ]
  },
  {
   "cell_type": "markdown",
   "metadata": {
    "id": "1f3cc1a7",
    "pycharm": {
     "name": "#%% md\n"
    }
   },
   "source": [
    "<ul style='font-family: Garamond ; font-size: 16px;'>\n",
    "    <li>9. Виведіть першу та останню літеру вашого прізвища.</li>\n",
    "</ul>"
   ]
  },
  {
   "cell_type": "code",
   "execution_count": 7,
   "metadata": {
    "id": "s1ZgN3xuUyB8"
   },
   "outputs": [
    {
     "data": {
      "text/plain": [
       "('K', 's')"
      ]
     },
     "execution_count": 7,
     "metadata": {},
     "output_type": "execute_result"
    }
   ],
   "source": [
    "surname[0], surname[-1]"
   ]
  },
  {
   "cell_type": "markdown",
   "metadata": {
    "id": "KjlFjjhHVAt2"
   },
   "source": [
    "<p style='font-family: Garamond ; font-size: 16px;'>Очікувана відповідь (тільки з вашими даними): ('P', 'a')</p>"
   ]
  },
  {
   "cell_type": "markdown",
   "metadata": {
    "id": "UYLoho3DVMt2"
   },
   "source": [
    "<ul style='font-family: Garamond ; font-size: 16px;'>\n",
    "    <li>10. Виведіть довжину вашого прізвища.</li>\n",
    "</ul>"
   ]
  },
  {
   "cell_type": "code",
   "execution_count": 9,
   "metadata": {
    "id": "0TPJBh0LVA8q"
   },
   "outputs": [
    {
     "data": {
      "text/plain": [
       "6"
      ]
     },
     "execution_count": 9,
     "metadata": {},
     "output_type": "execute_result"
    }
   ],
   "source": [
    "len(surname)"
   ]
  },
  {
   "cell_type": "markdown",
   "metadata": {
    "id": "9FaxqvVgVRYW"
   },
   "source": [
    "<p style='font-family: Garamond ; font-size: 16px;'>Очікувана відповідь (тільки з вашими даними): 7</p>"
   ]
  },
  {
   "cell_type": "markdown",
   "metadata": {
    "id": "JN2wxSlGVVAj"
   },
   "source": [
    "<ul style='font-family: Garamond ; font-size: 16px;'>\n",
    "    <li>11. Виведіть кількість літер <code>a</code> у столиці Мадагаскару <code>Antananarivo</code>. Важливо врахувати всі літери, як великі, так і маленькі.</li>\n",
    "</ul>"
   ]
  },
  {
   "cell_type": "code",
   "execution_count": 11,
   "metadata": {
    "id": "LCeHHz9bVUgL"
   },
   "outputs": [
    {
     "data": {
      "text/plain": [
       "4"
      ]
     },
     "execution_count": 11,
     "metadata": {},
     "output_type": "execute_result"
    }
   ],
   "source": [
    "madagascar_capital = 'Antananarivo'\n",
    "a_counts = madagascar_capital.lower().count('a')\n",
    "a_counts"
   ]
  },
  {
   "cell_type": "markdown",
   "metadata": {
    "id": "Ux4SQiuSVo92"
   },
   "source": [
    "<p style='font-family: Garamond ; font-size: 16px;'>Очікувана відповідь: 4</p>"
   ]
  },
  {
   "cell_type": "markdown",
   "metadata": {
    "id": "mwEs0xnmVtes"
   },
   "source": [
    "<ul style='font-family: Garamond ; font-size: 16px;'>\n",
    "    <li>12. Створіть рядок <code>my_string</code> зі значенням: \"The quick brown fox jumps over the lazy dog!!!\".</li>\n",
    "</ul>\n",
    "<p style='font-family: Garamond ; font-size: 16px;'>Перевірте, чи починається рядок <code>my_string</code> з \"The\" і чи закінчується він \"dog!\". Виведіть результати на екран.</p>"
   ]
  },
  {
   "cell_type": "code",
   "execution_count": 12,
   "metadata": {
    "id": "VlXDNpXcVs59"
   },
   "outputs": [
    {
     "data": {
      "text/plain": [
       "(True, False)"
      ]
     },
     "execution_count": 12,
     "metadata": {},
     "output_type": "execute_result"
    }
   ],
   "source": [
    "my_string = 'The quick brown fox jumps over the lazy dog!!!'\n",
    "starts_with_the = my_string.startswith(\"The\")\n",
    "ends_with_dog = my_string.endswith(\"dog!\")\n",
    "\n",
    "starts_with_the, ends_with_dog"
   ]
  },
  {
   "cell_type": "markdown",
   "metadata": {
    "id": "Yc-UwtqvV_h0"
   },
   "source": [
    "<ul style='font-family: Garamond ; font-size: 16px;'>\n",
    "    <li>13. Розділіть рядок <code>my_string</code> на список окремих слів, а потім з'єднайте всі слова через нижнє підкреслювання. Виведіть результат на екран.</li>\n",
    "</ul>"
   ]
  },
  {
   "cell_type": "code",
   "execution_count": 13,
   "metadata": {
    "id": "m5I48Ii-WDSK"
   },
   "outputs": [
    {
     "name": "stdout",
     "output_type": "stream",
     "text": [
      "['The', 'quick', 'brown', 'fox', 'jumps', 'over', 'the', 'lazy', 'dog!!!'] <class 'list'>\n",
      "\n",
      "The_quick_brown_fox_jumps_over_the_lazy_dog!!!\n"
     ]
    }
   ],
   "source": [
    "my_string = 'The quick brown fox jumps over the lazy dog!!!'\n",
    "my_string_splitted = my_string.split(' ')\n",
    "print(my_string_splitted, type(my_string_splitted))\n",
    "\n",
    "joined_my_string_splitted = '_'.join(my_string_splitted)\n",
    "print(f'\\n{joined_my_string_splitted}')"
   ]
  },
  {
   "cell_type": "markdown",
   "metadata": {
    "id": "UqvD1_jIXRhx"
   },
   "source": [
    "<p style='font-family: Garamond ; font-size: 16px;'>Очікуваний результат: <code>The_quick_brown_fox_jumps_over_the_lazy_dog!!!</code></p>"
   ]
  }
 ],
 "metadata": {
  "colab": {
   "provenance": []
  },
  "kernelspec": {
   "display_name": "Python 3 (ipykernel)",
   "language": "python",
   "name": "python3"
  },
  "language_info": {
   "codemirror_mode": {
    "name": "ipython",
    "version": 3
   },
   "file_extension": ".py",
   "mimetype": "text/x-python",
   "name": "python",
   "nbconvert_exporter": "python",
   "pygments_lexer": "ipython3",
   "version": "3.13.0"
  }
 },
 "nbformat": 4,
 "nbformat_minor": 4
}
