{
 "cells": [
  {
   "cell_type": "markdown",
   "metadata": {
    "id": "15XCoYr0awZ6"
   },
   "source": [
    "# Домашнє завдання до теми \"Цикл while\""
   ]
  },
  {
   "cell_type": "markdown",
   "metadata": {
    "id": "xgCDxF5YhQSa"
   },
   "source": [
    "1. **Лічильник до заданого числа.**\n",
    "   Завдання:\n",
    "     - Створіть цикл `while`, щоб він лічив від 1 до заданого числа в змінній `limit`.\n",
    "     - Виведіть кожне число, яке проходить лічильник, на екран.\n",
    "     - В кінці виведіть повідомлення \"Кінець розрахунку!\".\n"
   ]
  },
  {
   "cell_type": "code",
   "execution_count": 24,
   "metadata": {
    "id": "wwSqYFCmiJTt"
   },
   "outputs": [],
   "source": [
    "limit = 9  "
   ]
  },
  {
   "cell_type": "code",
   "execution_count": 25,
   "metadata": {
    "id": "4IcibOYqj3pn"
   },
   "outputs": [
    {
     "name": "stdout",
     "output_type": "stream",
     "text": [
      "1\n",
      "2\n",
      "3\n",
      "4\n",
      "5\n",
      "6\n",
      "7\n",
      "8\n",
      "9\n",
      "The end of counting!\n"
     ]
    }
   ],
   "source": [
    "i = 1\n",
    "while i <= limit:  # or i < limit if we want to count to 9 exclusively\n",
    "    print(i)\n",
    "    i += 1\n",
    "print('The end of counting!')"
   ]
  },
  {
   "cell_type": "markdown",
   "metadata": {
    "id": "DlqunQnphZ9s"
   },
   "source": [
    "2. **Пошук першого парного числа.** Завдання:\n",
    "     - Створіть цикл `while`, щоб знайти перше парне число після заданого числа `start`.\n",
    "     - Знайдіть та виведіть перше парне число.\n"
   ]
  },
  {
   "cell_type": "code",
   "execution_count": 26,
   "metadata": {
    "id": "3CC3-gNJiW6X"
   },
   "outputs": [],
   "source": [
    "start = 7  "
   ]
  },
  {
   "cell_type": "code",
   "execution_count": 27,
   "metadata": {},
   "outputs": [
    {
     "name": "stdout",
     "output_type": "stream",
     "text": [
      "The first even number after 7 is 8.\n"
     ]
    }
   ],
   "source": [
    "i = 1\n",
    "current_counter = start + i\n",
    "\n",
    "while (current_counter % 2 != 0):\n",
    "    current_counter += 1\n",
    "\n",
    "print(f'The first even number after {start} is {current_counter}.')"
   ]
  },
  {
   "cell_type": "markdown",
   "metadata": {
    "id": "OlhKezZYiQJ2"
   },
   "source": [
    "\n",
    "3. **Обчислення факторіалу.**   \n",
    "  Факторіал числа - це добуток всіх натуральних чисел від 1 до цього числа включно. Наприклад, факторіал числа 5 (позначається як 5!) дорівнює `1 * 2 * 3 * 4 * 5 = 120`.\n",
    "\n",
    "  Завдання:  \n",
    "      - Обчисліть факторіал заданого числа, використовуючи цикл `while`.  \n",
    "      - Задайте деяке число для обчислення факторіалу у змінній `num`.  \n",
    "      - Виведіть обчислений факторіал на екран.  \n"
   ]
  },
  {
   "cell_type": "code",
   "execution_count": 28,
   "metadata": {},
   "outputs": [
    {
     "name": "stdout",
     "output_type": "stream",
     "text": [
      "Factorial of 5 is 120.\n"
     ]
    }
   ],
   "source": [
    "num = 5\n",
    "\n",
    "if num < 0:\n",
    "    print(\"Factorial is not defined for negative numbers.\")\n",
    "else:\n",
    "    i = 1\n",
    "    factorial = 1\n",
    "    \n",
    "    while i <= num:\n",
    "        factorial *= i\n",
    "        i += 1\n",
    "        \n",
    "    print(f\"Factorial of {num} is {factorial}.\")"
   ]
  }
 ],
 "metadata": {
  "colab": {
   "provenance": []
  },
  "kernelspec": {
   "display_name": "Python 3 (ipykernel)",
   "language": "python",
   "name": "python3"
  },
  "language_info": {
   "codemirror_mode": {
    "name": "ipython",
    "version": 3
   },
   "file_extension": ".py",
   "mimetype": "text/x-python",
   "name": "python",
   "nbconvert_exporter": "python",
   "pygments_lexer": "ipython3",
   "version": "3.13.0"
  }
 },
 "nbformat": 4,
 "nbformat_minor": 4
}
