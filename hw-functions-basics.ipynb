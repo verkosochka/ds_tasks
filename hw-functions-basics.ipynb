{
 "cells": [
  {
   "cell_type": "markdown",
   "metadata": {
    "id": "QtHabST6Ez_n"
   },
   "source": [
    "<h1 style='font-family: Garamond ;'>Домашнє завдання до теми <b>\"Functions\"</b></h1>\n",
    "<hr></hr>"
   ]
  },
  {
   "cell_type": "markdown",
   "metadata": {
    "id": "6pg_NzFq5_kO"
   },
   "source": [
    "<ul style='font-family: Garamond ; font-size: 16px;'>1. Напишіть фукнцію <code>print_message</code>, яка виводить на екран \"Я програмую на Python💪\" і викличіть цю фукнцію 5 разів (найкраще це зробити в циклі).</ul>\n",
    "\n",
    "<p style='font-family: Garamond ; font-size: 16px;'><b>Увага</b>: фукнція має робити чітко лише зазначений функціонал. Наявність додаткового функціоналу і аргументів, які не потрібні для виконання безпосередньо завдання, буде вважатись помилкою.</p>"
   ]
  },
  {
   "cell_type": "code",
   "execution_count": 45,
   "metadata": {},
   "outputs": [],
   "source": [
    "from typing import Union, Optional\n",
    "Number = Union[int, float, complex]  # Define a type alias for int, float or complex"
   ]
  },
  {
   "cell_type": "code",
   "execution_count": 46,
   "metadata": {
    "id": "RbXsfwI_D8ql"
   },
   "outputs": [
    {
     "name": "stdout",
     "output_type": "stream",
     "text": [
      "I am programming on Python 💪\n",
      "I am programming on Python 💪\n",
      "I am programming on Python 💪\n",
      "I am programming on Python 💪\n",
      "I am programming on Python 💪\n"
     ]
    }
   ],
   "source": [
    "def print_message() -> str:\n",
    "    \"\"\"\n",
    "    Returns a motivational (positive) message about programming in Python.\n",
    "    \n",
    "    This function provides a simple message indicating that the user is programming in Python.\n",
    "    \n",
    "    Returns\n",
    "    -------\n",
    "    str\n",
    "        A string with the message \"I am programming on Python 💪\"\n",
    "    \n",
    "    Examples\n",
    "    --------\n",
    "    >>> print_message()\n",
    "    'I am programming on Python 💪'\n",
    "    \"\"\"\n",
    "    return 'I am programming on Python 💪'\n",
    "\n",
    "for _ in range(5):\n",
    "  print(print_message())"
   ]
  },
  {
   "cell_type": "markdown",
   "metadata": {
    "id": "oyRpWRXWBL9N"
   },
   "source": [
    "<ul style='font-family: Garamond ; font-size: 16px;'>2. Напишіть функцію <code>calculation</code> яка приймає на вхід 4 аргументи типу int - <code>a</code>, <code>b</code>, <code>c</code>, <code>d</code> і вертає результат обчислення такої формули: $ (a + b - c) * d $.</ul>\n",
    "\n",
    "<p style='font-family: Garamond ; font-size: 16px;'>Викличте функцію на наступному наборі аргументів і виведіть результат на екран:</p>\n",
    "<p><code>a = 16</code></p>\n",
    "<p><code>b = 4</code></p>\n",
    "<p><code>c = 9</code></p>\n",
    "<p><code>d = 3</code></p>"
   ]
  },
  {
   "cell_type": "code",
   "execution_count": 47,
   "metadata": {
    "id": "Ggt2tx6kD-LS"
   },
   "outputs": [],
   "source": [
    "def calculation(a: Number, b: Number, c: Number, d: Number) -> Number:\n",
    "    \"\"\"\n",
    "    Calculates the result of the equation (a + b - c) * d.\n",
    "    \n",
    "    Parameters\n",
    "    ----------\n",
    "    a : Number (int or float)\n",
    "        The first term to be added.\n",
    "    b : Number (int or float)\n",
    "        The second term to be added.\n",
    "    c : Number (int or float)\n",
    "        The term to be subtracted.\n",
    "    d : Number (int or float)\n",
    "        The term to be multiplied by the result of (a + b - c).\n",
    "    \n",
    "    Returns\n",
    "    -------\n",
    "    Number (int or float)\n",
    "        The result of the equation (a + b - c) * d.\n",
    "    \n",
    "    Examples\n",
    "    --------\n",
    "    >>> calculation(2, 3, 1, 4)\n",
    "    16\n",
    "    >>> calculation(5.5, 2.2, 1.1, 3)\n",
    "    19.8\n",
    "    >>> calculation(3+4j, 3j-5, 5j, -7j)\n",
    "    14+14j\n",
    "    \"\"\"\n",
    "    return (a + b - c) * d\n"
   ]
  },
  {
   "cell_type": "code",
   "execution_count": 50,
   "metadata": {},
   "outputs": [
    {
     "name": "stdout",
     "output_type": "stream",
     "text": [
      "The result of the calculation() function is 33.\n"
     ]
    }
   ],
   "source": [
    "a = 16\n",
    "b = 4\n",
    "c = 9\n",
    "d = 3\n",
    "\n",
    "result_calculation = calculation(a, b, c, d)\n",
    "print(f'The result of the calculation() function is {result_calculation}.')"
   ]
  },
  {
   "cell_type": "markdown",
   "metadata": {
    "id": "5hf1CbllDU_t"
   },
   "source": [
    "<ul style='font-family: Garamond ; font-size: 16px;'>3. Напишіть функцію, яка додає до аргумента 15 і вертає результат додавання. Викличте функцію, передаючи в якості аргументів кожну з наступних змінних по черзі, і виведіть кожного разу результат на екран.</ul>\n",
    "<p><code>x = 9</code></p>\n",
    "<p><code>y = 14</code></p>\n",
    "<p><code>z = -19</code></p>\n"
   ]
  },
  {
   "cell_type": "code",
   "execution_count": 51,
   "metadata": {
    "id": "GvEs_nUtD_Cd"
   },
   "outputs": [],
   "source": [
    "def addition_with_fifteen(number: Number) -> Number:\n",
    "    \"\"\"\n",
    "    Adds 15 to the given number and returns the result.\n",
    "    \n",
    "    Parameters\n",
    "    ----------\n",
    "    number : Number (int, float, or complex)\n",
    "        The input number to which 15 will be added. It can be an integer, float, or complex number.\n",
    "    \n",
    "    Returns\n",
    "    -------\n",
    "    Number (int, float, or complex)\n",
    "        The result of adding 15 to the input number. The type of the result matches the type of the input number.\n",
    "    \n",
    "    Examples\n",
    "    --------\n",
    "    >>> addition_with_fifteen(10)\n",
    "    25\n",
    "    >>> addition_with_fifteen(5.5)\n",
    "    20.5\n",
    "    >>> addition_with_fifteen(3 + 4j)\n",
    "    (18+4j)\n",
    "    \"\"\"\n",
    "    return number + 15"
   ]
  },
  {
   "cell_type": "code",
   "execution_count": 57,
   "metadata": {},
   "outputs": [
    {
     "name": "stdout",
     "output_type": "stream",
     "text": [
      "The result of the addition_with_fifteen() (9 and 15) function is 24.\n",
      "The result of the addition_with_fifteen() (14 and 15) function is 29.\n",
      "The result of the addition_with_fifteen() (-19 and 15) function is -4.\n"
     ]
    }
   ],
   "source": [
    "x = 9\n",
    "y = 14\n",
    "z = -19\n",
    "\n",
    "add_list = [x, y, z]\n",
    "\n",
    "for num in add_list:\n",
    "    add_result = addition_with_fifteen(num)\n",
    "    print(f'The result of the addition_with_fifteen() ({num} and 15) function is {add_result}.')"
   ]
  },
  {
   "cell_type": "markdown",
   "metadata": {
    "id": "bUuVBhie53uK"
   },
   "source": [
    "<ul style='font-family: Garamond ; font-size: 16px;'> 4. Напишіть функцію <code>multiply_numbers</code>, яка приймає два числа як аргументи і повертає їх добуток.</ul>\n",
    "\n",
    "<p style='font-family: Garamond ; font-size: 16px;'>Викличіть функцію <code>multiply_numbers</code> на парах чисел</p>\n",
    "<ul style='font-family: Garamond ; font-size: 16px;'>\n",
    "    <li>10 і 2</li>\n",
    "    <li>7 і 8</li>\n",
    "    <li>1024 і 999</li>\n",
    "</ul>\n",
    "  \n",
    "<p style='font-family: Garamond ; font-size: 16px;'>Виведіть результат кожного виклику.</p>\n",
    "<p style='font-family: Garamond ; font-size: 16px;'>При виконанні цього завдання з використанням циклу - отримаєте 2х балів за нього :)</p>"
   ]
  },
  {
   "cell_type": "code",
   "execution_count": 58,
   "metadata": {
    "id": "cDqrgZ4YEAKj"
   },
   "outputs": [],
   "source": [
    "def multiply_numbers(a: Number, b: Number) -> Number:\n",
    "    \"\"\"\n",
    "    Multiplies two numbers and returns the result.\n",
    "    \n",
    "    Parameters\n",
    "    ----------\n",
    "    a : Number (int, float, or complex)\n",
    "        The first number to multiply.\n",
    "    b : Number (int, float, or complex)\n",
    "        The second number to multiply.\n",
    "    \n",
    "    Returns\n",
    "    -------\n",
    "    Number (int, float, or complex)\n",
    "        The result of multiplying a and b. The type of the result matches the types of the inputs.\n",
    "    \n",
    "    Examples\n",
    "    --------\n",
    "    >>> multiply_numbers(3, 5)\n",
    "    15\n",
    "    >>> multiply_numbers(2.5, 4.0)\n",
    "    10.0\n",
    "    >>> multiply_numbers(1 + 2j, 3 + 4j)\n",
    "    (-5+10j)\n",
    "    \"\"\"\n",
    "    return a * b"
   ]
  },
  {
   "cell_type": "code",
   "execution_count": 64,
   "metadata": {},
   "outputs": [
    {
     "name": "stdout",
     "output_type": "stream",
     "text": [
      "The result of multiplying 7 and 8 is 56.\n",
      "The result of multiplying 10 and 2 is 20.\n",
      "The result of multiplying 1024 and 999 is 1022976.\n"
     ]
    }
   ],
   "source": [
    "numerical_sequance = [(7, 8), \n",
    "                      (10, 2), \n",
    "                      (1024, 999)]\n",
    "\n",
    "for a, b in numerical_sequance:\n",
    "    result = multiply_numbers(a, b)\n",
    "    print(f'The result of multiplying {a} and {b} is {result}.')"
   ]
  },
  {
   "cell_type": "markdown",
   "metadata": {
    "id": "I03t46k27dDZ"
   },
   "source": [
    "<ul style='font-family: Garamond ; font-size: 16px;'>5. <b>Ділення з перевіркою типів.</b></ul>\n",
    "\n",
    "<ol style='font-family: Garamond ; font-size: 16px;'>\n",
    "    <li>Напишіть функцію <code>int_division</code> яка приймає на вхід два аргументи типу <code>int</code>code - <code>a</code> і <code>b</code>, і виконує ділення першого аргумента на другий: <code>a/b</code>. При цьому функція перед діленням перевіряє, чи другий аргумент не дорівнює 0. Якщо другий аргумент не 0, фукнція вертає результат ділення, інакше - замість виконання ділення, вертає повідомлення на екран \"Не можу виконати ділення на 0\".</li>\n",
    "    <code>Якщо типи, надані у функцію, не `int` - функція виводить повідомлення \"Не працюю з такими типами даних.\".</code>\n",
    "    <li>Запустіть функцію на наступних парах чисел:</li>\n",
    "    <ul style='font-family: Garamond ; font-size: 16px;'>\n",
    "        <li>12 і 6</li>\n",
    "        <li>20 і 0</li>\n",
    "        <li>112 і 10</li>\n",
    "        <li>99 і 0</li>\n",
    "        <li>11 i 1.1</li>\n",
    "    </ul>   \n",
    "    <code>і виведіть на екран повідомлення \"Результат роботи функції: \" - і далі те, що повернула функція.</code>\n",
    "    <li>Дайте відповідь на питання: \"Чому в деяких випадках функція повернула None?\"</li>\n",
    "</ol>"
   ]
  },
  {
   "cell_type": "code",
   "execution_count": 60,
   "metadata": {
    "id": "1-EQhxrAEEAb"
   },
   "outputs": [],
   "source": [
    "# the function may not always return an <int> (it could return <None> in case of errors),\n",
    "# the return type should be Optional[int] or Optional[float] from the typing module\n",
    "\n",
    "def int_division(a: int, b: int) -> Optional[float]:\n",
    "    \"\"\"\n",
    "    Performs division of two integers a and b with error handling.\n",
    "    \n",
    "    Parameters\n",
    "    ----------\n",
    "    a : int\n",
    "        The numerator.\n",
    "    b : int\n",
    "        The denominator.\n",
    "    \n",
    "    Returns\n",
    "    -------\n",
    "    float or None\n",
    "        The result of a / b if inputs are valid and b is not zero; otherwise, None.\n",
    "    \"\"\"\n",
    "    if not isinstance(a, int) or not isinstance(b, int):\n",
    "        print('The input data types are incorrect!')\n",
    "        return None\n",
    "    \n",
    "    try:\n",
    "        return a / b\n",
    "    except ZeroDivisionError:\n",
    "        print('Error handling for division by zero!')\n",
    "        return None\n"
   ]
  },
  {
   "cell_type": "code",
   "execution_count": 63,
   "metadata": {},
   "outputs": [
    {
     "name": "stdout",
     "output_type": "stream",
     "text": [
      "The result of devision 12 and 6 is 2.0\n",
      "\n",
      "Error handling for division by zero!\n",
      "The result of devision 20 and 0 is None\n",
      "\n",
      "The result of devision 112 and 10 is 11.2\n",
      "\n",
      "Error handling for division by zero!\n",
      "The result of devision 99 and 0 is None\n",
      "\n",
      "The input data types are incorrect!\n",
      "The result of devision 11 and 1.1 is None\n",
      "\n"
     ]
    }
   ],
   "source": [
    "devision_sequance = [(12, 6), \n",
    "                     (20, 0), \n",
    "                     (112, 10), \n",
    "                     (99, 0), \n",
    "                     (11, 1.1)]\n",
    "\n",
    "for a, b in devision_sequance:\n",
    "    result = int_division(a, b)\n",
    "    print(f\"The result of devision {a} and {b} is {result}\\n\")"
   ]
  },
  {
   "cell_type": "markdown",
   "metadata": {},
   "source": [
    "<p style='font-family: Garamond ; font-size: 16px;'>This funtion <code>int_division()</code> handles each case appropriately:</p>\n",
    "\n",
    "<ul style='font-family: Garamond ; font-size: 16px;'>\n",
    "    <li>Print a message and return <code>None</code> if the types are incorrect.</li>\n",
    "    <li>Print a message and return <code>None</code> if dividing by zero.</li>\n",
    "    <li>Returns the division result otherwise.</li>\n",
    "</ul>"
   ]
  }
 ],
 "metadata": {
  "colab": {
   "provenance": []
  },
  "kernelspec": {
   "display_name": "Python 3 (ipykernel)",
   "language": "python",
   "name": "python3"
  },
  "language_info": {
   "codemirror_mode": {
    "name": "ipython",
    "version": 3
   },
   "file_extension": ".py",
   "mimetype": "text/x-python",
   "name": "python",
   "nbconvert_exporter": "python",
   "pygments_lexer": "ipython3",
   "version": "3.13.0"
  }
 },
 "nbformat": 4,
 "nbformat_minor": 4
}
