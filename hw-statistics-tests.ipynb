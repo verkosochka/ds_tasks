{
 "cells": [
  {
   "cell_type": "markdown",
   "id": "e152f6d6",
   "metadata": {
    "ExecuteTime": {
     "end_time": "2022-12-10T14:29:24.703416Z",
     "start_time": "2022-12-10T14:29:24.688485Z"
    },
    "id": "e152f6d6"
   },
   "source": [
    "## Домашнє завдання 6: Статистичні тести"
   ]
  },
  {
   "cell_type": "markdown",
   "id": "cd404683",
   "metadata": {
    "id": "cd404683"
   },
   "source": [
    "0. Зчитайте дані з `data.csv` та запишіть значення колонки data у форматі np.ndarray в змінну data. Ми будемо далі працювати з цією змінною."
   ]
  },
  {
   "cell_type": "code",
   "execution_count": 20,
   "id": "0eebd804-7c44-4a1e-ba7c-360d7818ca91",
   "metadata": {},
   "outputs": [],
   "source": [
    "import numpy as np\n",
    "import math \n",
    "import pandas as pd\n",
    "import scipy.stats as stats\n",
    "from statsmodels.stats.weightstats import ztest"
   ]
  },
  {
   "cell_type": "code",
   "execution_count": 2,
   "id": "e9dde922-2741-4775-ae80-63d3eac90949",
   "metadata": {},
   "outputs": [
    {
     "data": {
      "text/html": [
       "<div>\n",
       "<style scoped>\n",
       "    .dataframe tbody tr th:only-of-type {\n",
       "        vertical-align: middle;\n",
       "    }\n",
       "\n",
       "    .dataframe tbody tr th {\n",
       "        vertical-align: top;\n",
       "    }\n",
       "\n",
       "    .dataframe thead th {\n",
       "        text-align: right;\n",
       "    }\n",
       "</style>\n",
       "<table border=\"1\" class=\"dataframe\">\n",
       "  <thead>\n",
       "    <tr style=\"text-align: right;\">\n",
       "      <th></th>\n",
       "      <th>Unnamed: 0</th>\n",
       "      <th>data</th>\n",
       "    </tr>\n",
       "  </thead>\n",
       "  <tbody>\n",
       "    <tr>\n",
       "      <th>0</th>\n",
       "      <td>0</td>\n",
       "      <td>17.499453</td>\n",
       "    </tr>\n",
       "    <tr>\n",
       "      <th>1</th>\n",
       "      <td>1</td>\n",
       "      <td>19.662399</td>\n",
       "    </tr>\n",
       "    <tr>\n",
       "      <th>2</th>\n",
       "      <td>2</td>\n",
       "      <td>7.182823</td>\n",
       "    </tr>\n",
       "    <tr>\n",
       "      <th>3</th>\n",
       "      <td>3</td>\n",
       "      <td>29.841625</td>\n",
       "    </tr>\n",
       "    <tr>\n",
       "      <th>4</th>\n",
       "      <td>4</td>\n",
       "      <td>9.239386</td>\n",
       "    </tr>\n",
       "  </tbody>\n",
       "</table>\n",
       "</div>"
      ],
      "text/plain": [
       "   Unnamed: 0       data\n",
       "0           0  17.499453\n",
       "1           1  19.662399\n",
       "2           2   7.182823\n",
       "3           3  29.841625\n",
       "4           4   9.239386"
      ]
     },
     "execution_count": 2,
     "metadata": {},
     "output_type": "execute_result"
    }
   ],
   "source": [
    "data_path = 'data_statistics/data.csv'\n",
    "\n",
    "data_df = pd.read_csv(data_path)\n",
    "data_df.head()"
   ]
  },
  {
   "cell_type": "code",
   "execution_count": 3,
   "id": "d8dfc5d7-7991-4f7c-afd3-e7dbd06b13b0",
   "metadata": {},
   "outputs": [
    {
     "name": "stdout",
     "output_type": "stream",
     "text": [
      "[17.49945292 19.66239904  7.18282343 29.84162485  9.23938649 14.94951581\n",
      " 23.0172885  12.52827148 13.65228669 14.54595431 23.30872427 33.75324808\n",
      " 20.24923636 13.29244733 23.23434992 16.4230418  19.88521702 27.05000732\n",
      " 15.5127743  20.05415151 14.73135264 19.06139498 21.53942271 14.06732571\n",
      " 17.9670682  18.58289581 16.17406993 12.87432628 11.47269664 19.07902883\n",
      " 18.38565824 33.38820073  5.39139454 20.67635903 22.22266722 28.15780318\n",
      " 23.01114324 14.93471778 20.00005857 23.25411543 18.11895082 24.62607043\n",
      "  8.79145607 30.387108   28.80606806 17.98593597 23.66804468 20.28782355\n",
      " 15.02518827 20.52626131 26.00219532 17.71344489 17.74598346 19.55317542\n",
      " 22.60097798 27.67027538 16.19192417 23.05037746 21.29669604  8.84832568\n",
      " 17.48410111 19.20602661 19.76257856 21.9560206   7.75806171 20.27753314\n",
      " 15.93394654 11.36336584 23.14577858 24.41167746 16.08049839 25.05473769\n",
      " 17.71090111 20.39893405 13.40756632 29.50692234  4.04330326 19.45128426\n",
      " 24.17071763  7.79920072 18.86318441 19.53668801 24.94821803 27.48927752\n",
      " 17.57664638 11.692888   28.20341254 27.3073138  17.22796791 22.10533096\n",
      " 22.2911974  23.39765265 21.22524787 28.44017745  9.57224297 26.24494372\n",
      " 22.28283182 18.69718839 27.04118899  5.93838085]\n"
     ]
    }
   ],
   "source": [
    "data = np.array(data_df['data'])\n",
    "print(data)"
   ]
  },
  {
   "cell_type": "markdown",
   "id": "3d06cbbf",
   "metadata": {
    "id": "3d06cbbf"
   },
   "source": [
    "Запустіть код нижче. Для коректної робити всіх подальших методів дані мають бути у вигляді одновимірного вектора, тобто мати розмір (100,)."
   ]
  },
  {
   "cell_type": "code",
   "execution_count": 4,
   "id": "Rc_cM9TfhJYI",
   "metadata": {
    "id": "Rc_cM9TfhJYI"
   },
   "outputs": [
    {
     "data": {
      "text/plain": [
       "(100,)"
      ]
     },
     "execution_count": 4,
     "metadata": {},
     "output_type": "execute_result"
    }
   ],
   "source": [
    "data.shape"
   ]
  },
  {
   "cell_type": "markdown",
   "id": "abdcef5d",
   "metadata": {
    "id": "abdcef5d"
   },
   "source": [
    "1. Зчитані дані - це сума покупок в доларах наших покупців на сайті протягом липня 2022 року.\n",
    "\n",
    "До цього місяця, ми мали продажі в середньому на чек $20. Чи вийшло у нас статистично значущо **підвищити** середній чек за останній місяць?\n",
    "\n",
    "Оберіть статистичний тест (z-test чи t-test). Виведіть p-значення статистичного тесту та зробіть висновок, чи ми маємо зараз статистично значущу різницю у розмірі середнього чеку.\n",
    "\n",
    "**Підказка**: тут тест буде одновибірковий."
   ]
  },
  {
   "cell_type": "code",
   "execution_count": 5,
   "id": "XhxcSbYqhLz9",
   "metadata": {
    "id": "XhxcSbYqhLz9"
   },
   "outputs": [
    {
     "data": {
      "text/plain": [
       "np.float64(19.37755319670441)"
      ]
     },
     "execution_count": 5,
     "metadata": {},
     "output_type": "execute_result"
    }
   ],
   "source": [
    "np.mean(data)"
   ]
  },
  {
   "cell_type": "code",
   "execution_count": 41,
   "id": "0f15eee7-2e1c-4004-9276-18cc98f77434",
   "metadata": {},
   "outputs": [
    {
     "name": "stdout",
     "output_type": "stream",
     "text": [
      "The t-statistics value is: -0.9953477389335053\n",
      "The p-value is: 0.3219937839011988\n"
     ]
    }
   ],
   "source": [
    "NULL_MEAN = 20\n",
    "ALPHA = 0.05\n",
    "\n",
    "ttest_Score, p_value_t = stats.ttest_1samp(data, NULL_MEAN)\n",
    "print(f'The t-statistics value is: {ttest_Score}\\nThe p-value is: {p_value_t}')"
   ]
  },
  {
   "cell_type": "markdown",
   "id": "5f42427b-93d0-4ef9-aac8-4fc1c25bc8dd",
   "metadata": {},
   "source": [
    "<p style='font-family: Garamond ; font-size: 16px;'>$Z-test$ передбачає, що наші спостереження незалежно взяті з нормального розподілу з <b>невідомим середнім значенням</b> і <b>відомою дисперсією</b>. $Z-test$ використовується в основному, коли ми маємо кількісні дані (наприклад, вага гризунів, вік особин, систолічний артеріальний тиск тощо). $Z-test$ також можна використовувати, якщо нас цікавлять пропорції (тобто частка людей, які сплять принаймні вісім годин тощо).</p>\n",
    "<p style='font-family: Garamond ; font-size: 16px;'>$t-test$ припускає, що наші спостереження незалежно взяті з нормального розподілу з <b>невідомим середнім значенням</b> і <b>невідомою дисперсією</b>. Звернемо увагу, що з $t-test$, що ми <u>не знаємо дисперсію сукупності</u>. Це набагато частіше, ніж знання дисперсії сукупності, тому $t-test$, як правило, більш доречний, ніж $z-test$, але практично між ними буде невелика різниця, якщо розміри вибірки великі.</p>\n",
    "<p style='font-family: Garamond ; font-size: 16px;'>За вхідними даними, нам відоме приблизне значення математичного сподівання (середнє генеральної сукупності). Середнє (математичне сподівання) — це одне значення, яке описує центр розподілу даних.</p>\n",
    "<p style='font-family: Garamond ; font-size: 16px;'>$Z-test$ потребує дисперсії, що показує, наскільки сильно розсіюються (варіюються) значення відносно цього середнього. Для обчислення дисперсії потрібна інформація про розсіювання всіх елементів генеральної сукупності або про їх другі моменти (наприклад, математичне сподівання квадрата випадкової величини). Формула дисперсії: $\\mathrm{Var}(X) = \\mathbb{E}[X^2] - (\\mathbb{E}[X])^2$. Одного значення $\\mathbb{E}[X]$ не достатньо, нам ще потрібно знати середнє значення квадратів $\\mathbb{E}[X^2]$.</p>\n",
    "<p style='font-family: Garamond ; font-size: 16px;'>У $Z-test$ дисперсія (стандартне відхилення) використовується як частина стандартної помилки: $Z = \\frac{\\bar{X} - \\mu_0}{\\sigma / \\sqrt{n}}$, де \\mu_0 -  гіпотетичне середнє (параметр <code>null_mean</code>) - <code>const</code> <code>hyperparameter</code> у <code>ztest</code>, яким нам дано як вартість середнього чеку. Указівка лише <code>null_mean</code> ніяк не впливає на дисперсію — вона оцінюється окремо з наших даних.</p>"
   ]
  },
  {
   "cell_type": "code",
   "execution_count": 43,
   "id": "9c889ccb-b66b-41e0-b78d-1772fa39a35a",
   "metadata": {},
   "outputs": [
    {
     "name": "stdout",
     "output_type": "stream",
     "text": [
      "The null hypothesis H₀ is not rejected: there is no statistically significant change in the average check.\n"
     ]
    }
   ],
   "source": [
    "if p_value_t < ALPHA:\n",
    "    print('The null hypothesis H₀ is rejected: the average check has increased in a statistically significant manner.')\n",
    "else:\n",
    "    print('The null hypothesis H₀ is not rejected: there is no statistically significant change in the average check.')"
   ]
  },
  {
   "cell_type": "code",
   "execution_count": 42,
   "id": "a2e878e9-6a32-4f77-9101-32ff26bdae7b",
   "metadata": {},
   "outputs": [
    {
     "name": "stdout",
     "output_type": "stream",
     "text": [
      "The z-statistics value is: -0.9953477389335053\n",
      "The p-value is: 0.8402164165464012\n"
     ]
    }
   ],
   "source": [
    "ztest_Score, p_value_z = ztest(data, value = NULL_MEAN, alternative='larger')\n",
    "print(f'The z-statistics value is: {ztest_Score}\\nThe p-value is: {p_value_z}')"
   ]
  },
  {
   "cell_type": "code",
   "execution_count": 44,
   "id": "4b1515d4-9704-4b22-90d0-10cfd779946f",
   "metadata": {},
   "outputs": [
    {
     "name": "stdout",
     "output_type": "stream",
     "text": [
      "The null hypothesis H₀ is not rejected: there is no statistically significant change in the average check.\n"
     ]
    }
   ],
   "source": [
    "if p_value_z < ALPHA:\n",
    "    print('The null hypothesis H₀ is rejected: the average check has increased in a statistically significant manner.')\n",
    "else:\n",
    "    print('The null hypothesis H₀ is not rejected: there is no statistically significant change in the average check.')"
   ]
  },
  {
   "cell_type": "markdown",
   "id": "05219e41",
   "metadata": {
    "ExecuteTime": {
     "end_time": "2022-12-10T14:52:46.140204Z",
     "start_time": "2022-12-10T14:52:46.112068Z"
    },
    "id": "05219e41"
   },
   "source": [
    "2. Пройшов час, і ми зібрали дані про продажі за серпень 2022 року, які зберігли у файл `data_2.csv`. Продажів було дещо більше, але чи змінився стат. значущо середній чек порівняно з липнем 2022? Перевірте це використовуючи ztest.\n",
    "\n",
    "  Виведіть p-значення статистичного тесту та зробіть висновок, чи ми маємо зараз статистично значущу різницю у розмірі середнього чека між двома місяцями.\n",
    "\n",
    "  **Підказка**: треба провести двовибірковий ztest з Н0 - що середні значення в липні та серпні 2022 року - однакові. Для кращого розуміння ситуації, можливо вам буде цікаво переглянути, які середні показники чеку були в кожен з місяців. Порівняйте свій висновок з простого спостереження середніх значень і висновок статистичного тесту. Чи вони збігаються?"
   ]
  },
  {
   "cell_type": "code",
   "execution_count": 23,
   "id": "hbs7LPI4hP-6",
   "metadata": {
    "id": "hbs7LPI4hP-6"
   },
   "outputs": [
    {
     "data": {
      "text/html": [
       "<div>\n",
       "<style scoped>\n",
       "    .dataframe tbody tr th:only-of-type {\n",
       "        vertical-align: middle;\n",
       "    }\n",
       "\n",
       "    .dataframe tbody tr th {\n",
       "        vertical-align: top;\n",
       "    }\n",
       "\n",
       "    .dataframe thead th {\n",
       "        text-align: right;\n",
       "    }\n",
       "</style>\n",
       "<table border=\"1\" class=\"dataframe\">\n",
       "  <thead>\n",
       "    <tr style=\"text-align: right;\">\n",
       "      <th></th>\n",
       "      <th>data</th>\n",
       "    </tr>\n",
       "  </thead>\n",
       "  <tbody>\n",
       "    <tr>\n",
       "      <th>0</th>\n",
       "      <td>5.940159</td>\n",
       "    </tr>\n",
       "    <tr>\n",
       "      <th>1</th>\n",
       "      <td>29.189344</td>\n",
       "    </tr>\n",
       "    <tr>\n",
       "      <th>2</th>\n",
       "      <td>11.383502</td>\n",
       "    </tr>\n",
       "    <tr>\n",
       "      <th>3</th>\n",
       "      <td>15.434098</td>\n",
       "    </tr>\n",
       "    <tr>\n",
       "      <th>4</th>\n",
       "      <td>19.896752</td>\n",
       "    </tr>\n",
       "  </tbody>\n",
       "</table>\n",
       "</div>"
      ],
      "text/plain": [
       "        data\n",
       "0   5.940159\n",
       "1  29.189344\n",
       "2  11.383502\n",
       "3  15.434098\n",
       "4  19.896752"
      ]
     },
     "execution_count": 23,
     "metadata": {},
     "output_type": "execute_result"
    }
   ],
   "source": [
    "data_2_path = 'data_statistics/data_2.csv'\n",
    "\n",
    "data_2_df = pd.read_csv(data_2_path)\n",
    "data_2_df.head()"
   ]
  },
  {
   "cell_type": "code",
   "execution_count": 24,
   "id": "6276dbd8-1e9b-4162-a497-2b514bb2ac0c",
   "metadata": {},
   "outputs": [
    {
     "name": "stdout",
     "output_type": "stream",
     "text": [
      "[ 5.94015879 29.18934391 11.38350244 15.43409823 19.89675209 26.35462741\n",
      " 21.71541042 30.07928738 18.559706    8.98262482 21.75095478 21.99252789\n",
      " 16.37737276 18.36827303 15.96373794 30.98838431 16.13256609 11.01409438\n",
      " 21.96585507  9.46690988 23.42563685 21.53704461 13.26051457 17.14026368\n",
      " 15.42554536 30.6793921  21.26136766 12.18702858 10.69691295 21.57137244\n",
      " 19.44915472 15.29409103 21.20725805 18.5615031  27.27465429 22.71259245\n",
      " 19.41187696 21.98647106 13.33332309 26.42199496 23.87611696 16.09133552\n",
      " 20.95972522 15.47445472 32.79323825 16.42470817 23.61838166 22.92533987\n",
      " 14.82328184 19.14936908 17.61708292 20.76144078 20.88864519 22.17749704\n",
      " 24.44099555 17.42064342 19.01311241 17.11869915 14.66455092  9.59578906\n",
      " 23.93038503 18.80003123 16.62880551  9.30221669 10.74561613  5.00093505\n",
      " 18.64262674 23.06962246 23.27815123 19.56141603 14.07482487 19.67979235\n",
      " 20.42825975 23.21152701 25.38472731 18.32183161 18.40471839 23.90049615\n",
      " 22.82595361 17.8883959   7.69030253 15.65278307 25.46426689 19.88110497\n",
      " 26.00681157 18.6329991  20.01875783 24.54669482 23.53397824 22.66170117\n",
      " 26.54318517 28.49067512 28.26177047  8.79769859 15.74868453 17.5587485\n",
      " 18.25251678 12.41697717 28.65554398 13.35890789 18.55112891  6.06913755\n",
      " 16.95560427 17.22003895 15.26047544 24.40168713 33.85257121 12.79623496\n",
      " 15.75786194 30.56181596 23.10622576 17.12450518 11.93884885 25.61775034\n",
      " 21.78617867 31.3049159  15.82267598 19.2913942  19.03674666 18.8478986 ]\n"
     ]
    }
   ],
   "source": [
    "data_2 = np.array(data_2_df['data'])\n",
    "print(data_2)"
   ]
  },
  {
   "cell_type": "code",
   "execution_count": 29,
   "id": "5f5f894f-ab90-4b7e-98a9-5758a7ea006d",
   "metadata": {},
   "outputs": [
    {
     "data": {
      "text/plain": [
       "(120,)"
      ]
     },
     "execution_count": 29,
     "metadata": {},
     "output_type": "execute_result"
    }
   ],
   "source": [
    "data_2.shape"
   ]
  },
  {
   "cell_type": "code",
   "execution_count": 45,
   "id": "c0a0cf08-f8da-4408-9d05-bbb7c733805f",
   "metadata": {},
   "outputs": [
    {
     "name": "stdout",
     "output_type": "stream",
     "text": [
      "The mean value of july dataset is: 19.37755319670441.\n",
      "The mean value of august dataset is: 19.37322276512519.\n"
     ]
    }
   ],
   "source": [
    "print(f'The mean value of july dataset is: {np.mean(data)}.\\nThe mean value of august dataset is: {np.mean(data_2)}.')"
   ]
  },
  {
   "cell_type": "markdown",
   "id": "633c564f-582f-4ec7-9265-5ebc983d9a9b",
   "metadata": {},
   "source": [
    "<p style='font-family: Garamond ; font-size: 16px;'>Припустимо, що різниця у розмірі середнього чека між двома місяцями НЕ є статистично значущою, тобто не відхиляємо нульову гіпотезу H₀.</p>"
   ]
  },
  {
   "cell_type": "code",
   "execution_count": 46,
   "id": "34e124b2-59d5-401b-bfdb-f1bf8b2143ac",
   "metadata": {},
   "outputs": [],
   "source": [
    "ztest_Score_two_sided, p_value_two_sided = ztest(data, data_2, value=0)"
   ]
  },
  {
   "cell_type": "code",
   "execution_count": 49,
   "id": "cfe44887-6081-4360-98a2-e45e78387d7a",
   "metadata": {},
   "outputs": [
    {
     "name": "stdout",
     "output_type": "stream",
     "text": [
      "The z-statistics value is: 0.005246673456808504\n",
      "The p-value is: 0.9958137794593356\n"
     ]
    }
   ],
   "source": [
    "ztest_Score_two_sided, p_value_two_sided = ztest(data, data_2, alternative='two-sided')\n",
    "print(f'The z-statistics value is: {ztest_Score_two_sided}\\nThe p-value is: {p_value_two_sided}')"
   ]
  },
  {
   "cell_type": "code",
   "execution_count": 50,
   "id": "82ba24ae-6e36-446e-a25c-7f83e140d04f",
   "metadata": {},
   "outputs": [
    {
     "name": "stdout",
     "output_type": "stream",
     "text": [
      "The null hypothesis H₀ is not rejected: there is no statistically significant change in the average check — the checks remain the same.\n"
     ]
    }
   ],
   "source": [
    "if p_value_two_sided < ALPHA:\n",
    "    print('The null hypothesis H₀ is rejected: the difference in the average check size between the two months is statistically significant, indicating an increase in the average check in the most recent month.')\n",
    "else:\n",
    "    print('The null hypothesis H₀ is not rejected: there is no statistically significant change in the average check — the checks remain the same.')"
   ]
  },
  {
   "cell_type": "markdown",
   "id": "2e7450f8-9633-4bd1-bebf-e531e34735dc",
   "metadata": {},
   "source": [
    "<p style='font-family: Garamond ; font-size: 16px;'>Отже, наше припущення повністю підтверджено результатами статистичного двовибіркового $z-test$.</p>"
   ]
  }
 ],
 "metadata": {
  "colab": {
   "provenance": []
  },
  "hide_input": false,
  "kernelspec": {
   "display_name": "Python 3 (ipykernel)",
   "language": "python",
   "name": "python3"
  },
  "language_info": {
   "codemirror_mode": {
    "name": "ipython",
    "version": 3
   },
   "file_extension": ".py",
   "mimetype": "text/x-python",
   "name": "python",
   "nbconvert_exporter": "python",
   "pygments_lexer": "ipython3",
   "version": "3.13.0"
  },
  "toc": {
   "base_numbering": 1,
   "nav_menu": {},
   "number_sections": true,
   "sideBar": true,
   "skip_h1_title": false,
   "title_cell": "Table of Contents",
   "title_sidebar": "Contents",
   "toc_cell": false,
   "toc_position": {},
   "toc_section_display": true,
   "toc_window_display": false
  },
  "varInspector": {
   "cols": {
    "lenName": 16,
    "lenType": 16,
    "lenVar": 40
   },
   "kernels_config": {
    "python": {
     "delete_cmd_postfix": "",
     "delete_cmd_prefix": "del ",
     "library": "var_list.py",
     "varRefreshCmd": "print(var_dic_list())"
    },
    "r": {
     "delete_cmd_postfix": ") ",
     "delete_cmd_prefix": "rm(",
     "library": "var_list.r",
     "varRefreshCmd": "cat(var_dic_list()) "
    }
   },
   "types_to_exclude": [
    "module",
    "function",
    "builtin_function_or_method",
    "instance",
    "_Feature"
   ],
   "window_display": false
  }
 },
 "nbformat": 4,
 "nbformat_minor": 5
}
