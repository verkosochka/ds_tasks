{
 "cells": [
  {
   "cell_type": "markdown",
   "metadata": {
    "id": "W8lqt6zd9axA"
   },
   "source": [
    "# Домашнє завдання до теми \"Цикл for\""
   ]
  },
  {
   "cell_type": "markdown",
   "metadata": {
    "id": "iXzoNTu604kH"
   },
   "source": [
    "0. Розігрів. Напишіть цикл, який виводить на екран числа від 1 до 10 включно."
   ]
  },
  {
   "cell_type": "code",
   "execution_count": 4,
   "metadata": {
    "id": "zpwypSSp0MVm"
   },
   "outputs": [
    {
     "name": "stdout",
     "output_type": "stream",
     "text": [
      "1\n",
      "2\n",
      "3\n",
      "4\n",
      "5\n",
      "6\n",
      "7\n",
      "8\n",
      "9\n",
      "10\n"
     ]
    }
   ],
   "source": [
    "for element in range(1,11):\n",
    "    print(element)"
   ]
  },
  {
   "cell_type": "markdown",
   "metadata": {
    "id": "JmWR8uze094H"
   },
   "source": [
    "**Початок покладено!**"
   ]
  },
  {
   "cell_type": "markdown",
   "metadata": {
    "id": "OJX3yG-Blplu"
   },
   "source": [
    "1. Задайте список `numbers`, який містить значення від 0 до 9 включно. Використовуючи цикл `for`, обчисліть суму елементів в створеному списку та виведіть фінальну суму на екран."
   ]
  },
  {
   "cell_type": "code",
   "execution_count": 22,
   "metadata": {
    "id": "sSX30A5yuvUQ"
   },
   "outputs": [
    {
     "name": "stdout",
     "output_type": "stream",
     "text": [
      "45\n"
     ]
    }
   ],
   "source": [
    "numbers = list(range(10))\n",
    "total_sum = 0\n",
    "for num in numbers:\n",
    "    total_sum += num\n",
    "print(total_sum)"
   ]
  },
  {
   "cell_type": "markdown",
   "metadata": {
    "id": "6Tb2Kx_jmD5b"
   },
   "source": [
    "2. Використовуючи цикл  `for` виведіть для кожного елементу списку `numbers`,який ми створили в завданні 1, чи цей елемент дорівнює 5. Тобто після виконання циклу на екрані має бути 10 bool значень."
   ]
  },
  {
   "cell_type": "code",
   "execution_count": 24,
   "metadata": {
    "id": "Ls8ZW8DWuwHC"
   },
   "outputs": [
    {
     "name": "stdout",
     "output_type": "stream",
     "text": [
      "False\n",
      "False\n",
      "False\n",
      "False\n",
      "False\n",
      "True\n",
      "False\n",
      "False\n",
      "False\n",
      "False\n"
     ]
    }
   ],
   "source": [
    "for num in numbers:\n",
    "    print(num == 5)"
   ]
  },
  {
   "cell_type": "markdown",
   "metadata": {
    "id": "ddFE1naOmp7Q"
   },
   "source": [
    "3. Використовуючи цикл  `for` для кожного елементу списку `numbers`, який ми створили в завданні 1, виявіть, чи цей елемент ділиться на 2 без остачі, та запишіть результат у новий список `numbers_divisible_by_2`.\n",
    "\n",
    "Увага! Виконання завдання відрізняється від попереднього тим, що тепер ми результат обчислення на кожній ітерації записуємо у новий список. До того ж ми тут виконуємо іншу математичну операцію.\n",
    "\n",
    "Виведіть фільнальний список `numbers_divisible_by_2` на екран."
   ]
  },
  {
   "cell_type": "code",
   "execution_count": 26,
   "metadata": {
    "id": "S2Pk_W12uyDo"
   },
   "outputs": [
    {
     "data": {
      "text/plain": [
       "[True, False, True, False, True, False, True, False, True, False]"
      ]
     },
     "execution_count": 26,
     "metadata": {},
     "output_type": "execute_result"
    }
   ],
   "source": [
    "numbers_divisible_by_2 = []\n",
    "for num in numbers:\n",
    "    numbers_divisible_by_2.append(num % 2 == 0)\n",
    "numbers_divisible_by_2"
   ]
  },
  {
   "cell_type": "markdown",
   "metadata": {
    "id": "cwvpWeVGnUGB"
   },
   "source": [
    "Очікуваний результат: `[True, False, True, False, True, False, True, False, True, False]`"
   ]
  },
  {
   "cell_type": "markdown",
   "metadata": {
    "id": "0rgeGpJ3utVN"
   },
   "source": [
    "4. Задано два списки в клітинці нижче - `a` і `b`. Створіть цикл, результатом якого буде список `result`, що містить елементи типу bool і який фактично каже,\n",
    "\"чи на цьому індексі елементи наших двох списків співпадають\". Приклад:\n",
    "```\n",
    "a = [1, 2, 3, 6]\n",
    "b = [1, 7, 3, 6]\n",
    "# ми виконали поелементне порівняння двох списків і отримали новий список result\n",
    "# result містить наступний результат -> [True, False, True, True]\n",
    "```\n",
    "В кінці виведіть вміст result на екран.\n",
    "\n",
    "<details>\n",
    "<summary>Підказка</summary>\n",
    "\n",
    "Аби порівняти елементи в циклі - треба створити цикл по індексам елементів. Зважаючи, що наші списки - одної довжини, цей підхід дозволить нам отримати чітко те, що треба.\n",
    "\n",
    "**Просунутий варіант.** Альтернативно можна створити цикл, який на кожній ітерації має доступ до двох елементів - по одному з кожного списка, для цього треба скористатись функцією `zip` - приклад [тут](https://realpython.com/python-zip-function/#traversing-lists-in-parallel)\n",
    "</details>\n"
   ]
  },
  {
   "cell_type": "code",
   "execution_count": 10,
   "metadata": {
    "id": "IIYG41pWdJiG"
   },
   "outputs": [],
   "source": [
    "a = [64, 93, 60, 95, 66, 9, 15, 55, 77, 28, 74, 100, 13, 1, 85, 48, 66, 65, 59, 32]\n",
    "b = [64, 93, 60, 95, 66, 9, 15, 56, 77, 28, 74, 100, 13, 1, 85, 48, 67, 65, 59, 32]"
   ]
  },
  {
   "cell_type": "code",
   "execution_count": 12,
   "metadata": {
    "id": "XgZwTwr4u2lA"
   },
   "outputs": [
    {
     "name": "stdout",
     "output_type": "stream",
     "text": [
      "[True, True, True, True, True, True, True, False, True, True, True, True, True, True, True, True, False, True, True, True]\n"
     ]
    }
   ],
   "source": [
    "result = []\n",
    "for a_element, b_element in zip(a,b):\n",
    "    result.append(a_element == b_element)\n",
    "print(result)\n",
    "\n",
    "# List comprehension \n",
    "# result = [a_element == b_element for a_element, b_element in zip(a, b)]\n",
    "# print(result)"
   ]
  },
  {
   "cell_type": "markdown",
   "metadata": {
    "id": "0Z2cObcTutVO"
   },
   "source": [
    "5. Нижче задано список `numbers`. Виконайте клітинку з його заданням.\n",
    "\n",
    "  Давайте знайдемо середнє арифметичне значення елементів списку `numbers` округлене до 2 цифр після коми та запишемо його у змінну `numbers_mean`. Для цього виконаємо два простих кроки.\n",
    "\n",
    "  1) Знайдіть суму всіх елементів списку `numbers` та запишіть її у змінну `numbers_sum`. Можна з використанням циклу, а можна і без.\n",
    "\n",
    "  2) Обчисліть `numbers_mean` шляхом ділення суми елементів у списку на їх кількість. Кількість елементів в списку - це його довжина.\n",
    "\n",
    "  Виведіть `numbers_mean`, округлений до 2 цифр після коми, на екран.\n",
    "\n",
    "  **Підказка**: округлити число можна з використанням вбудованої функції Python [round()](https://docs.python.org/3/library/functions.html#round)."
   ]
  },
  {
   "cell_type": "code",
   "execution_count": 25,
   "metadata": {
    "id": "TwuOmLpeutVO"
   },
   "outputs": [],
   "source": [
    "numbers = [42, 51, 29, 2, 13, 44, 80, 66, 16]"
   ]
  },
  {
   "cell_type": "code",
   "execution_count": 26,
   "metadata": {
    "id": "R-qDvKVcu6e1"
   },
   "outputs": [
    {
     "data": {
      "text/plain": [
       "38.11"
      ]
     },
     "execution_count": 26,
     "metadata": {},
     "output_type": "execute_result"
    }
   ],
   "source": [
    "def numbers_mean(numbers_list):\n",
    "    '''\n",
    "    Calculates the mean (average) of a given list of numbers.\n",
    "\n",
    "    Parameters:\n",
    "    --------------\n",
    "    numbers_list (list): A list of numerical values. It should contain at least one element.\n",
    "\n",
    "    Returns:\n",
    "    --------------\n",
    "    float: The mean of the numbers in the list, rounded to two decimal places.\n",
    "\n",
    "    Example:\n",
    "    --------------\n",
    "    >>> numbers_mean([1, 2, 3, 4, 5])\n",
    "    3.0\n",
    "    >>> numbers_mean([10, 20, 30])\n",
    "    20.0\n",
    "\n",
    "    Functionality:\n",
    "    ---------------\n",
    "    - The function iterates through each element in the list and sums them up.\n",
    "    - It then divides the sum by the length of the list to get the average.\n",
    "    - The result is rounded to two decimal places for better readability.\n",
    "    '''\n",
    "    numbers_sum = 0\n",
    "    for num in numbers_list:\n",
    "        numbers_sum += num\n",
    "    numbers_mean = numbers_sum / len(numbers_list)\n",
    "    return round(numbers_mean, 2)\n",
    "    \n",
    "numbers_mean(numbers)"
   ]
  },
  {
   "cell_type": "markdown",
   "metadata": {
    "id": "pSdssHuuutVQ"
   },
   "source": [
    "Очікуваний результат: `38.11`"
   ]
  },
  {
   "cell_type": "markdown",
   "metadata": {
    "id": "JsevSvVtutVQ"
   },
   "source": [
    "6. Задано список `a` і елемент `element`. Перевірте програмно чи є в списку `a` елемент `element` з допомогою інструкцій `if ... else`. Виведіть на екран відповідь \"Так, є\", якщо цей елемент в списку присутній, або \"Ні, нема\", якщо його там немає.\n",
    "Важливо це зробити без використання імпортів будь-яких бібліотек.\n",
    "\n",
    "  Тут цикла немає :) Але це завдання - підготовче до наступного."
   ]
  },
  {
   "cell_type": "code",
   "execution_count": 22,
   "metadata": {
    "id": "TqkTdlN_utVQ"
   },
   "outputs": [],
   "source": [
    "a = [64, 93, 60, 95, 66, 9, 15, 55, 77, 28, 74, 100, 13, 1, 85, 48, 66, 65, 59, 32]\n",
    "element = 33"
   ]
  },
  {
   "cell_type": "code",
   "execution_count": 23,
   "metadata": {
    "id": "aL_76T8pu7fp"
   },
   "outputs": [
    {
     "name": "stdout",
     "output_type": "stream",
     "text": [
      "There is no such element!\n"
     ]
    }
   ],
   "source": [
    "if element in a:\n",
    "    print(f'Yes, there is {element} in the list!')\n",
    "else:\n",
    "    print('There is no such element!')"
   ]
  },
  {
   "cell_type": "markdown",
   "metadata": {
    "id": "QKjmv4j0utVR"
   },
   "source": [
    "7. Тепер у нас не один елемент, а кілька. Вони наведені в змінній `elements`. За допомогою циклу і інструкцій `if ... else` для кожного елемента списку `elements` перевірте, чи він є в списку `a`.\n",
    "Виведіть на екран відповідь \"Так, є елемент <вставити значення елемента>\", якщо елемент в списку присутній, або \"Ні, нема елемента <вставити значення елемента>\", якщо його там немає."
   ]
  },
  {
   "cell_type": "code",
   "execution_count": 3,
   "metadata": {
    "id": "TF3nT5TMutVR"
   },
   "outputs": [],
   "source": [
    "elements = [44, 66, 77, 100]"
   ]
  },
  {
   "cell_type": "code",
   "execution_count": 24,
   "metadata": {
    "id": "pQD5InOQvG1d"
   },
   "outputs": [
    {
     "name": "stdout",
     "output_type": "stream",
     "text": [
      "No, there is no 44 in the list!\n",
      "Yes, there is 66 in the list!\n",
      "Yes, there is 77 in the list!\n",
      "Yes, there is 100 in the list!\n"
     ]
    }
   ],
   "source": [
    "for element in elements:\n",
    "    if element in a:\n",
    "        print(f'Yes, there is {element} in the list!')\n",
    "    else:\n",
    "        print(f'No, there is no {element} in the list!')"
   ]
  }
 ],
 "metadata": {
  "colab": {
   "provenance": []
  },
  "kernelspec": {
   "display_name": "Python 3 (ipykernel)",
   "language": "python",
   "name": "python3"
  },
  "language_info": {
   "codemirror_mode": {
    "name": "ipython",
    "version": 3
   },
   "file_extension": ".py",
   "mimetype": "text/x-python",
   "name": "python",
   "nbconvert_exporter": "python",
   "pygments_lexer": "ipython3",
   "version": "3.13.0"
  }
 },
 "nbformat": 4,
 "nbformat_minor": 4
}
