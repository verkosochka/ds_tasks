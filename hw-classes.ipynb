{
 "cells": [
  {
   "cell_type": "markdown",
   "id": "1561554f",
   "metadata": {
    "id": "1561554f"
   },
   "source": [
    "# Домашнє завдання до теми \"Classes\"\n",
    "В цьому домашньому завданні в деяких задачах є частини коду, та в кожному завданні описано, що з ними треба зробити, часто - просто виконати після того, як ви напишете частину, якої поки не вистачає. Пишіть, будь ласка, код, який реалізує рішення кожного завдання, безпосереньо під формулюванням завдання, створюючи нові клітинки. Можете створювати скільки завгодно клітинок для виконання одного завдання."
   ]
  },
  {
   "cell_type": "markdown",
   "id": "5f983749",
   "metadata": {
    "id": "5f983749"
   },
   "source": [
    "1.Нижче є створений клас \"Shop\". Це клас для визначення магазинів компанії \"АВС\". У кожного магазина є локація і прибуток. Створіть три магазини в трьох окремих змінних:  \n",
    "- один з локацією \"Київ\" та прибутком 5500,   \n",
    "- другий - з локацією \"Львів\" та прибутком 3000,  \n",
    "- третій - з локацією \"Полтава\" та прибутком 2500  \n",
    "\n",
    "Порахуйте після цього суму прибутків трьох магазинів використовуючи інформацію про створені магазини.\n",
    "Виведіть сумарний прибуток на екран."
   ]
  },
  {
   "cell_type": "code",
   "execution_count": 2,
   "id": "84cb2eb2",
   "metadata": {
    "ExecuteTime": {
     "end_time": "2022-10-22T10:05:31.337430Z",
     "start_time": "2022-10-22T10:05:31.321277Z"
    },
    "id": "84cb2eb2"
   },
   "outputs": [],
   "source": [
    "class Shop:\n",
    "    company = 'ABC'\n",
    "\n",
    "    def __init__(self, location, profit):\n",
    "        self.location = location\n",
    "        self.profit = profit"
   ]
  },
  {
   "cell_type": "code",
   "execution_count": 4,
   "id": "170727c8",
   "metadata": {
    "id": "170727c8"
   },
   "outputs": [
    {
     "name": "stdout",
     "output_type": "stream",
     "text": [
      "The total profit is 11000.\n"
     ]
    }
   ],
   "source": [
    "shop_kyiv = Shop(\"Kyiv\", 5500)\n",
    "shop_lviv = Shop(\"Lviv\", 3000)\n",
    "shop_poltava = Shop(\"Poltava\", 2500)\n",
    "\n",
    "total_profit = shop_kyiv.profit + shop_lviv.profit + shop_poltava.profit\n",
    "print(f\"The total profit is {total_profit}.\")"
   ]
  },
  {
   "cell_type": "markdown",
   "id": "3feaa824",
   "metadata": {
    "ExecuteTime": {
     "end_time": "2022-10-22T10:12:49.668479Z",
     "start_time": "2022-10-22T10:12:49.636219Z"
    },
    "id": "3feaa824"
   },
   "source": [
    "2.Створіть клас `Employee`, який при ініціалізації представника класу визначає поля \"Прізвище\", \"Місяць народження\" та \"Зарплата\" та запустіть код нижче."
   ]
  },
  {
   "cell_type": "code",
   "execution_count": 7,
   "id": "5850a071",
   "metadata": {
    "id": "5850a071"
   },
   "outputs": [],
   "source": [
    "class Employee:\n",
    "    \"\"\"\n",
    "    A class to represent an employee.\n",
    "\n",
    "    Attributes\n",
    "    ----------\n",
    "    surname : str\n",
    "        The surname of the employee.\n",
    "    bd_month : str\n",
    "        The birth month of the employee.\n",
    "    salary : int\n",
    "        The salary of the employee.\n",
    "        \n",
    "    \"\"\"\n",
    "\n",
    "    def __init__(self, surname: str, bd_month: str, salary: int):\n",
    "        \"\"\"\n",
    "        Initializes an Employee object with a surname, birth month, and salary.\n",
    "\n",
    "        Parameters\n",
    "        ----------\n",
    "        surname : str\n",
    "            The surname of the employee.\n",
    "        bd_month : str\n",
    "            The birth month of the employee.\n",
    "        salary : int\n",
    "            The salary of the employee in currency units.\n",
    "        \"\"\"\n",
    "        self.surname = surname\n",
    "        self.bd_month = bd_month\n",
    "        self.salary = salary"
   ]
  },
  {
   "cell_type": "code",
   "execution_count": 10,
   "id": "b0fcc9f2",
   "metadata": {
    "ExecuteTime": {
     "end_time": "2022-10-22T10:17:27.305480Z",
     "start_time": "2022-10-22T10:17:27.302072Z"
    },
    "id": "b0fcc9f2"
   },
   "outputs": [],
   "source": [
    "emp_1 = Employee('Чорненко', 'жовтень', 2000)\n",
    "emp_2 = Employee('Біленко', 'січень', 3000)\n",
    "emp_3 = Employee('Жовтенко', 'березень', 3400)"
   ]
  },
  {
   "cell_type": "markdown",
   "id": "d6d285b8",
   "metadata": {
    "ExecuteTime": {
     "end_time": "2022-10-22T10:17:28.531508Z",
     "start_time": "2022-10-22T10:17:28.526117Z"
    },
    "id": "d6d285b8"
   },
   "source": [
    "3.До класу `Employee` додайте метод `salutate`, який вітатиме з **місяцем** народження. Аби додати метод - скопіюйте просто код з визначенням класа з попереднього завдання і додайте туди новий метод.  \n",
    "Метод має приймати на вхід заданий місяць і\n",
    "- якщо цей місяць співпадає з місяцем народження співробітника, виводить `Вітаємо, пане <прізвище співробітника>! Зараз місяць <назва місяця> у Вас День народження! Будьте здорові!`. Для формування привітання використайте інтерполяцію рядків.\n",
    "- якщо місяць не співпадає з місяцем народження співробітника, метод нічого не вертає.  \n",
    "\n",
    "Коли зробите завдання - запустіть код нижче."
   ]
  },
  {
   "cell_type": "code",
   "execution_count": 13,
   "id": "be3e17d7",
   "metadata": {
    "id": "be3e17d7"
   },
   "outputs": [],
   "source": [
    "class Employee:\n",
    "    \"\"\"\n",
    "    A class to represent an employee.\n",
    "\n",
    "    Attributes\n",
    "    ----------\n",
    "    surname : str\n",
    "        The surname of the employee.\n",
    "    bd_month : str\n",
    "        The birth month of the employee.\n",
    "    salary : int\n",
    "        The salary of the employee.\n",
    "\n",
    "    Methods\n",
    "    -------\n",
    "    salutate(current_month: str):\n",
    "        Greets the employee if the current month matches their birth month.\n",
    "    \"\"\"\n",
    "\n",
    "    def __init__(self, surname: str, bd_month: str, salary: int):\n",
    "        \"\"\"\n",
    "        Initializes an Employee object with a surname, birth month, and salary.\n",
    "\n",
    "        Parameters\n",
    "        ----------\n",
    "        surname : str\n",
    "            The surname of the employee.\n",
    "        bd_month : str\n",
    "            The birth month of the employee.\n",
    "        salary : int\n",
    "            The salary of the employee in currency units.\n",
    "        \"\"\"\n",
    "        self.surname = surname\n",
    "        self.bd_month = bd_month\n",
    "        self.salary = salary\n",
    "\n",
    "    def salutate(self, current_month: str):\n",
    "        \"\"\"\n",
    "        Greets the employee if the current month matches their birth month.\n",
    "\n",
    "        Parameters\n",
    "        ----------\n",
    "        current_month : str\n",
    "            The current month to compare with the employee's birth month.\n",
    "\n",
    "        Returns\n",
    "        -------\n",
    "        None\n",
    "        \"\"\"\n",
    "        if self.bd_month == current_month:\n",
    "            print(\n",
    "                f\"Вітаємо, пане {self.surname}! Зараз місяць {current_month}, у Вас День народження! Будьте здорові!\"\n",
    "            )\n"
   ]
  },
  {
   "cell_type": "code",
   "execution_count": 14,
   "id": "056e127e",
   "metadata": {
    "ExecuteTime": {
     "end_time": "2022-10-22T10:26:35.300805Z",
     "start_time": "2022-10-22T10:26:35.294501Z"
    },
    "id": "056e127e"
   },
   "outputs": [
    {
     "name": "stdout",
     "output_type": "stream",
     "text": [
      "Вітаємо, пане Біленко! Зараз місяць січень, у Вас День народження! Будьте здорові!\n"
     ]
    }
   ],
   "source": [
    "emp_1 = Employee('Чорненко', 'жовтень', 2000)\n",
    "emp_2 = Employee('Біленко', 'січень', 3000)\n",
    "emp_3 = Employee('Жовтенко', 'березень', 3400)\n",
    "\n",
    "emp_1.salutate('грудень')\n",
    "emp_2.salutate('січень')\n",
    "emp_3.salutate('травень')"
   ]
  },
  {
   "cell_type": "markdown",
   "id": "ca02deba",
   "metadata": {
    "id": "ca02deba"
   },
   "source": [
    "4.Створіть клас, який наслідує `Employee` та називається `BossEmployee`. У цього класа при ініціалізації є всі ті самі поля, що і в Employee, але також є поле `n_subordinates`, тобто \"кількість підлеглих\".\n",
    "\n",
    "Додайте новоствореному класу метод `add_subordinates`, який додаватиме передану в метод кількість підлеглих цьому босу (тобто буде оновлювати поле класу `n_subordinates`) та буде виводити повідомлення `Вітаємо, пане <прізвище співробітника>! У Вас <введене в метод число> нових співробітників!`. Перевірте, аби кількість нових підлеглих була цілою, якщо це не так, виведіть повідомлення: `Число <введене в метод число, округлене до трьох чисел після коми> не може бути кількістю підлеглих.`.\n",
    "\n",
    "Для формування повідомлень використайте метод форматування рядків, котрий був другим в лекції (з `format` частиною).\n",
    "Коли зробите завдання - запустіть код нижче."
   ]
  },
  {
   "cell_type": "code",
   "execution_count": 15,
   "id": "ac4f01e7",
   "metadata": {
    "id": "ac4f01e7"
   },
   "outputs": [],
   "source": [
    "class BossEmployee(Employee):\n",
    "    \"\"\"\n",
    "    A class to represent a boss employee, inheriting from Employee.\n",
    "\n",
    "    Attributes\n",
    "    ----------\n",
    "    n_subordinates : int\n",
    "        Number of subordinates the boss has.\n",
    "    \"\"\"\n",
    "\n",
    "    def __init__(self, surname: str, bd_month: str, salary: int, n_subordinates: int = 0):\n",
    "        \"\"\"\n",
    "        Initializes a BossEmployee object with a surname, birth month, salary, and number of subordinates.\n",
    "        \"\"\"\n",
    "        super().__init__(surname, bd_month, salary)\n",
    "        self.n_subordinates = n_subordinates\n",
    "\n",
    "    def add_subordinates(self, num: float):\n",
    "        \"\"\"\n",
    "        Adds subordinates to the boss if the input is an integer.\n",
    "        Otherwise, prints an error message.\n",
    "\n",
    "        Parameters\n",
    "        ----------\n",
    "        num : float\n",
    "            Number of new subordinates to add.\n",
    "        \"\"\"\n",
    "        if isinstance(num, int):\n",
    "            self.n_subordinates += num\n",
    "            print(\n",
    "                \"Вітаємо, пане {}! У Вас {} нових співробітників!\".format(\n",
    "                    self.surname, num\n",
    "                )\n",
    "            )\n",
    "        else:\n",
    "            print(\n",
    "                \"Число {:.3f} не може бути кількістю підлеглих.\".format(num)\n",
    "            )\n"
   ]
  },
  {
   "cell_type": "code",
   "execution_count": 16,
   "id": "b6e5e6c0",
   "metadata": {
    "ExecuteTime": {
     "end_time": "2022-10-22T10:44:43.938323Z",
     "start_time": "2022-10-22T10:44:43.932171Z"
    },
    "id": "b6e5e6c0"
   },
   "outputs": [
    {
     "name": "stdout",
     "output_type": "stream",
     "text": [
      "Вітаємо, пане Босенко! У Вас 5 нових співробітників!\n",
      "Число 4.788 не може бути кількістю підлеглих.\n",
      "Вітаємо, пане Босенко! У Вас 4 нових співробітників!\n"
     ]
    },
    {
     "data": {
      "text/plain": [
       "12"
      ]
     },
     "execution_count": 16,
     "metadata": {},
     "output_type": "execute_result"
    }
   ],
   "source": [
    "emp_4 = BossEmployee('Босенко', 'липень', 5500, 3)\n",
    "emp_4.add_subordinates(5)\n",
    "emp_4.add_subordinates(4.78764174)\n",
    "emp_4.add_subordinates(4)\n",
    "emp_4.n_subordinates"
   ]
  },
  {
   "cell_type": "markdown",
   "id": "c3e0bd00",
   "metadata": {
    "id": "c3e0bd00"
   },
   "source": [
    "Очікуваний результат виконання команд вище:\n",
    "```\n",
    "Вітаємо, пане Босенко! У Вас 5 нових співробітників!     \n",
    "Число 4.788 не може бути кількістю підлеглих.\n",
    "Вітаємо, пане Босенко! У Вас 4 нових співробітників!\n",
    "12\n",
    "```"
   ]
  },
  {
   "cell_type": "markdown",
   "id": "441e5d09",
   "metadata": {
    "id": "441e5d09"
   },
   "source": [
    "# Ураа!! Ви завершили ВСІ завдання ДРУГОГО ТЕХНІЧНОГО МОДУЛЮ!!! З кожним ДЗ Ви стаєте з Python все ближче і ближче. Ваші відносини зараз - \"він поставив вогник на вашу сторис\" 😉\n",
    "\n",
    "В кінці курсу будете наче пити з ним просеко на кухні і обговорювати останні мемчики.  \n",
    "\n",
    "Далі - ще цікавіше! 🚀🚀🚀"
   ]
  }
 ],
 "metadata": {
  "colab": {
   "provenance": []
  },
  "kernelspec": {
   "display_name": "Python 3 (ipykernel)",
   "language": "python",
   "name": "python3"
  },
  "language_info": {
   "codemirror_mode": {
    "name": "ipython",
    "version": 3
   },
   "file_extension": ".py",
   "mimetype": "text/x-python",
   "name": "python",
   "nbconvert_exporter": "python",
   "pygments_lexer": "ipython3",
   "version": "3.13.0"
  },
  "toc": {
   "base_numbering": 1,
   "nav_menu": {},
   "number_sections": true,
   "sideBar": true,
   "skip_h1_title": false,
   "title_cell": "Table of Contents",
   "title_sidebar": "Contents",
   "toc_cell": false,
   "toc_position": {},
   "toc_section_display": true,
   "toc_window_display": false
  }
 },
 "nbformat": 4,
 "nbformat_minor": 5
}
