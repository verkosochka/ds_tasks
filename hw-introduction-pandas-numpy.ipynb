{
 "cells": [
  {
   "cell_type": "markdown",
   "metadata": {
    "id": "6bbb4b6a"
   },
   "source": [
    "# Домашнє завдання до теми \"Введення у Pandas та NumPy\""
   ]
  },
  {
   "cell_type": "markdown",
   "metadata": {
    "id": "7ef4e602"
   },
   "source": [
    "У домашніх завданнях цього модулю ми працюємо з набором даних про продажі в різних магазинах мережі супермаркетів.\n",
    "\n",
    "## Контекст даних\n",
    "Зростання супермаркетів у найбільш населених містах збільшується, а конкуренція на ринку також висока. Набір даних є вигрузкою історичних продажів компанії-мережі супермаркетів у 3х різних філіях протягом 3 місяців.\n",
    "\n",
    "**Ціль:** Цей набір даних може бути використаний для цілей розуміння тенденцій продажів, які товари в якому місті варто продавати, а поставку яких - варто скоротити. На основі цих даних можна оцінити майбутні тенденції продажів, оцінити поведінку споживачів та оптимізувати стратегію продажів.\n",
    "\n",
    "Ми будемо робити елементи аналізу в цьому напрямі.\n",
    "\n",
    "## Опис даних\n",
    "\n",
    "| Назва оригінальна           | Переклад назви             | Опис українською                                                                                       |\n",
    "|---------------------------|--------------------------|-----------------------------------------------------------------------------------------------------|\n",
    "| Invoice id                | Ідентифікатор чека       | Комп’ютерно генерований номер ідентифікації чека продажу                                             |\n",
    "| Branch                    | Філія                    | Філія супермаркету (доступні 3 філії, ідентифіковані як A, B та C)                                     |\n",
    "| City                      | Місто                    | Місцезнаходження суперцентрів                                                                        |\n",
    "| Customer type             | Тип клієнта              | Тип клієнтів, зафіксований як Члени для клієнтів, що використовують картку члена, та Звичайні без картки |\n",
    "| Gender                    | Стать                    | Стать покупця                                                                                       |\n",
    "| Product line              | Лінійка продуктів        | Загальні групи категоризації товарів - Електронні аксесуари, Модні аксесуари, Їжа та напої, Здоров’я та краса, Дім і стиль життя, Спорт та подорожі |\n",
    "| Unit price                | Ціна за одиницю          | Ціна кожного продукту в доларах США                                                                  |\n",
    "| Quantity                  | Кількість                | Кількість продуктів, придбаних клієнтом                                                             |\n",
    "| Tax                       | Податок                  | 5% податковий збір для покупця                                                                       |\n",
    "| Total                     | Загальна сума            | Загальна ціна з урахуванням податку                                                                  |\n",
    "| Date                      | Дата                     | Дата покупки (Дані доступні з січня 2019 по березень 2019)                                           |\n",
    "| Time                      | Час                      | Час покупки (з 10:00 до 21:00)                                                                       |\n",
    "| Payment                   | Оплата                   | Метод оплати, використаний клієнтом для покупки (доступні 3 методи – Готівка, Кредитна картка та Електронний гаманець) |\n",
    "| COGS                      | Собівартість проданих товарів | Собівартість проданих товарів                                                                      |\n",
    "| Gross margin percentage   | Відсоток валового прибутку | Відсоток валового прибутку                                                                         |\n",
    "| Gross income              | Валовий дохід            | Валовий дохід                                                                                       |\n",
    "| Rating                    | Рейтинг                  | Рейтинг задоволення клієнтів від загального досвіду покупок (На шкалі від 1 до 10)                    |\n",
    "\n",
    "\n",
    "## Робота з даними в рамках завдань цього модулю\n",
    "\n",
    "Завантажте дані з навчальної платформи собі локально. Як найркаще організувати збереження даних і ноутбуків було наведено в лекції. Якщо Ви працюєте в Colab - то рекомендую або розмістити дані у себе на диску і підключити диск (`Files` -> `Mount Drive`) або перетягнути дані в `Files` на робочу сесію і читати звідти.\n",
    "\n",
    "Дані ми НЕ заливаємо зазвичай в git, особливо якщо вони більше 10мб - це погана практика. Ліпше залити на гугл диск і дати посилання в репозиторії в readme.md файлі, якщо дані великі. Саме так рекомендую робити для проєктів з портфоліо.\n",
    "\n",
    "У домашніх завданнях цього модуля особливо важливо **уважно** читати формулювання завдання і всі коментарі. Також у цьому модулі треба по максимуму використовувати функціонал бібліотеки pandas, навіть якщо існують альтернативні способи зробити те саме. Нагадую, що працюючи з pandas ми здебільшого НЕ потребуємо використовувати цикли для створення колонки - для цього є інші, більш загальноприйняті методи, розглянуті в лекції.\n"
   ]
  },
  {
   "cell_type": "code",
   "execution_count": 7,
   "metadata": {},
   "outputs": [
    {
     "name": "stdout",
     "output_type": "stream",
     "text": [
      "Requirement already satisfied: pandas in c:\\users\\user\\appdata\\local\\programs\\python\\python313\\lib\\site-packages (2.2.3)\n",
      "Requirement already satisfied: numpy>=1.26.0 in c:\\users\\user\\appdata\\local\\programs\\python\\python313\\lib\\site-packages (from pandas) (2.1.3)\n",
      "Requirement already satisfied: python-dateutil>=2.8.2 in c:\\users\\user\\appdata\\local\\programs\\python\\python313\\lib\\site-packages (from pandas) (2.9.0.post0)\n",
      "Requirement already satisfied: pytz>=2020.1 in c:\\users\\user\\appdata\\local\\programs\\python\\python313\\lib\\site-packages (from pandas) (2024.2)\n",
      "Requirement already satisfied: tzdata>=2022.7 in c:\\users\\user\\appdata\\local\\programs\\python\\python313\\lib\\site-packages (from pandas) (2024.2)\n",
      "Requirement already satisfied: six>=1.5 in c:\\users\\user\\appdata\\local\\programs\\python\\python313\\lib\\site-packages (from python-dateutil>=2.8.2->pandas) (1.16.0)\n"
     ]
    }
   ],
   "source": [
    "# installing pandas\n",
    "! pip install pandas"
   ]
  },
  {
   "cell_type": "code",
   "execution_count": 8,
   "metadata": {},
   "outputs": [
    {
     "name": "stdout",
     "output_type": "stream",
     "text": [
      "Requirement already satisfied: numpy in c:\\users\\user\\appdata\\local\\programs\\python\\python313\\lib\\site-packages (2.1.3)\n"
     ]
    }
   ],
   "source": [
    "# installing numpy\n",
    "! pip install numpy"
   ]
  },
  {
   "cell_type": "code",
   "execution_count": 6,
   "metadata": {},
   "outputs": [
    {
     "name": "stdout",
     "output_type": "stream",
     "text": [
      "Requirement already satisfied: pip in c:\\users\\user\\appdata\\local\\programs\\python\\python313\\lib\\site-packages (24.2)\n",
      "Collecting pip\n",
      "  Downloading pip-24.3.1-py3-none-any.whl.metadata (3.7 kB)\n",
      "Downloading pip-24.3.1-py3-none-any.whl (1.8 MB)\n",
      "   ---------------------------------------- 0.0/1.8 MB ? eta -:--:--\n",
      "   ---------------------------------------- 0.0/1.8 MB ? eta -:--:--\n",
      "   ----- ---------------------------------- 0.3/1.8 MB ? eta -:--:--\n",
      "   ----- ---------------------------------- 0.3/1.8 MB ? eta -:--:--\n",
      "   ----------- ---------------------------- 0.5/1.8 MB 599.9 kB/s eta 0:00:03\n",
      "   ----------- ---------------------------- 0.5/1.8 MB 599.9 kB/s eta 0:00:03\n",
      "   ----------------- ---------------------- 0.8/1.8 MB 672.0 kB/s eta 0:00:02\n",
      "   ----------------------- ---------------- 1.0/1.8 MB 749.5 kB/s eta 0:00:02\n",
      "   ----------------------- ---------------- 1.0/1.8 MB 749.5 kB/s eta 0:00:02\n",
      "   ----------------------- ---------------- 1.0/1.8 MB 749.5 kB/s eta 0:00:02\n",
      "   ---------------------------- ----------- 1.3/1.8 MB 652.4 kB/s eta 0:00:01\n",
      "   ---------------------------- ----------- 1.3/1.8 MB 652.4 kB/s eta 0:00:01\n",
      "   ---------------------------- ----------- 1.3/1.8 MB 652.4 kB/s eta 0:00:01\n",
      "   ---------------------------- ----------- 1.3/1.8 MB 652.4 kB/s eta 0:00:01\n",
      "   ---------------------------- ----------- 1.3/1.8 MB 652.4 kB/s eta 0:00:01\n",
      "   ---------------------------------- ----- 1.6/1.8 MB 473.9 kB/s eta 0:00:01\n",
      "   ---------------------------------- ----- 1.6/1.8 MB 473.9 kB/s eta 0:00:01\n",
      "   ---------------------------------- ----- 1.6/1.8 MB 473.9 kB/s eta 0:00:01\n",
      "   ---------------------------------- ----- 1.6/1.8 MB 473.9 kB/s eta 0:00:01\n",
      "   ---------------------------------- ----- 1.6/1.8 MB 473.9 kB/s eta 0:00:01\n",
      "   ---------------------------------- ----- 1.6/1.8 MB 473.9 kB/s eta 0:00:01\n",
      "   ---------------------------------- ----- 1.6/1.8 MB 473.9 kB/s eta 0:00:01\n",
      "   ---------------------------------- ----- 1.6/1.8 MB 473.9 kB/s eta 0:00:01\n",
      "   ---------------------------------------- 1.8/1.8 MB 354.0 kB/s eta 0:00:00\n",
      "Installing collected packages: pip\n",
      "  Attempting uninstall: pip\n",
      "    Found existing installation: pip 24.2\n",
      "    Uninstalling pip-24.2:\n",
      "      Successfully uninstalled pip-24.2\n",
      "Successfully installed pip-24.3.1\n"
     ]
    }
   ],
   "source": [
    "! python.exe -m pip install --upgrade pip"
   ]
  },
  {
   "cell_type": "markdown",
   "metadata": {
    "id": "39qzN0NZAPFm"
   },
   "source": [
    "1. Імпортуйте бібліотеку pandas в загальноприйнятому форматі."
   ]
  },
  {
   "cell_type": "code",
   "execution_count": 9,
   "metadata": {
    "id": "jA1fRzz4AOsE"
   },
   "outputs": [],
   "source": [
    "import pandas as pd"
   ]
  },
  {
   "cell_type": "markdown",
   "metadata": {
    "ExecuteTime": {
     "end_time": "2021-09-20T19:43:50.443031Z",
     "start_time": "2021-09-20T19:43:50.439600Z"
    },
    "id": "fd7f076b"
   },
   "source": [
    "2. За допомогою бібліотеки Pandas, викликом однієї функції зчитайте набір даних із файлу `supermarket_sales.csv` в змінну `df` типу `pandas.DataFrame`.\n",
    "Виведіть тип даних змінної `df`."
   ]
  },
  {
   "cell_type": "code",
   "execution_count": 10,
   "metadata": {
    "id": "0kbbVMM1ATsk"
   },
   "outputs": [],
   "source": [
    "file_data_path = 'data/supermarket_sales.csv'\n",
    "df = pd.read_csv(file_data_path)"
   ]
  },
  {
   "cell_type": "markdown",
   "metadata": {
    "ExecuteTime": {
     "end_time": "2022-11-01T16:51:38.594974Z",
     "start_time": "2022-11-01T16:51:38.591423Z"
    },
    "id": "33661c15"
   },
   "source": [
    "3. Виведіть кількість рядків і кількість колонок в наборі даних. Відповідь сформуйте використовуючи fstring у наступному форматі: `Набір даних містить 1000 рядків та 17 колонок`"
   ]
  },
  {
   "cell_type": "code",
   "execution_count": 14,
   "metadata": {
    "ExecuteTime": {
     "end_time": "2022-11-01T16:54:59.887783Z",
     "start_time": "2022-11-01T16:54:59.884323Z"
    },
    "id": "bac0cbfc"
   },
   "outputs": [
    {
     "name": "stdout",
     "output_type": "stream",
     "text": [
      "The following dataset's (supermarket_sales.csv) shape is (1000, 17).The number of columns, or features, is 17, and the number of rows is 1000.\n"
     ]
    }
   ],
   "source": [
    "df_shape = df.shape\n",
    "df_shape\n",
    "print(f\"The following dataset's (supermarket_sales.csv) shape is {df_shape}.The number of columns, or features, is {df_shape[1]}, and the number of rows is {df_shape[0]}.\")"
   ]
  },
  {
   "cell_type": "markdown",
   "metadata": {
    "id": "4i5dUphZ_JxM"
   },
   "source": [
    "4. Скільки оперативної памʼяті у мегабайтах займає даний набір даних? Обчисліть за допомогою pandas і виведіть на екран."
   ]
  },
  {
   "cell_type": "code",
   "execution_count": 22,
   "metadata": {
    "id": "kwoNKAr-_JDf"
   },
   "outputs": [
    {
     "name": "stdout",
     "output_type": "stream",
     "text": [
      "For non-technical users this dataset occupies 0.13 MB of RAM. The raw output of calculation is 0.12982559204101562.\n"
     ]
    }
   ],
   "source": [
    "total_bytes = df.memory_usage().sum()\n",
    "total_megabytes = total_bytes / (1024 * 1024)\n",
    "formatted_output = f\"{total_megabytes:.2f} MB\"\n",
    "print(f\"For non-technical users this dataset occupies {formatted_output} of RAM. The raw output of calculation is {total_megabytes}.\")"
   ]
  },
  {
   "cell_type": "markdown",
   "metadata": {
    "id": "ksL_sc3RwPIe"
   },
   "source": [
    "**Перше домашнє завдання із Pandas виконано! 🚀✔️**"
   ]
  }
 ],
 "metadata": {
  "colab": {
   "provenance": []
  },
  "kernelspec": {
   "display_name": "Python 3 (ipykernel)",
   "language": "python",
   "name": "python3"
  },
  "language_info": {
   "codemirror_mode": {
    "name": "ipython",
    "version": 3
   },
   "file_extension": ".py",
   "mimetype": "text/x-python",
   "name": "python",
   "nbconvert_exporter": "python",
   "pygments_lexer": "ipython3",
   "version": "3.13.0"
  }
 },
 "nbformat": 4,
 "nbformat_minor": 4
}
