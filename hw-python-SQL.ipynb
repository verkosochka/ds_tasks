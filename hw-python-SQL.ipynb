{
 "cells": [
  {
   "cell_type": "markdown",
   "id": "2153041f",
   "metadata": {
    "id": "2153041f"
   },
   "source": [
    "# Завдання на використання SQL в Python"
   ]
  },
  {
   "cell_type": "markdown",
   "id": "2c1af6e1",
   "metadata": {
    "ExecuteTime": {
     "end_time": "2022-11-27T18:04:46.316592Z",
     "start_time": "2022-11-27T18:04:46.302021Z"
    },
    "id": "2c1af6e1"
   },
   "source": [
    "1.Встановіть бібліотеку `mysql-connector-python` через pip aбо через conda."
   ]
  },
  {
   "cell_type": "code",
   "execution_count": 1,
   "id": "a8fcd64e",
   "metadata": {
    "id": "a8fcd64e"
   },
   "outputs": [
    {
     "name": "stdout",
     "output_type": "stream",
     "text": [
      "Collecting mysql-connector-python\n",
      "  Downloading mysql_connector_python-9.1.0-cp313-cp313-win_amd64.whl.metadata (6.2 kB)\n",
      "Downloading mysql_connector_python-9.1.0-cp313-cp313-win_amd64.whl (16.1 MB)\n",
      "   ---------------------------------------- 0.0/16.1 MB ? eta -:--:--\n",
      "   -- ------------------------------------- 1.0/16.1 MB 8.1 MB/s eta 0:00:02\n",
      "   ------- -------------------------------- 2.9/16.1 MB 8.8 MB/s eta 0:00:02\n",
      "   ---------- ----------------------------- 4.2/16.1 MB 8.4 MB/s eta 0:00:02\n",
      "   ------------- -------------------------- 5.2/16.1 MB 7.2 MB/s eta 0:00:02\n",
      "   --------------- ------------------------ 6.0/16.1 MB 6.5 MB/s eta 0:00:02\n",
      "   --------------- ------------------------ 6.3/16.1 MB 6.0 MB/s eta 0:00:02\n",
      "   ---------------- ----------------------- 6.8/16.1 MB 5.1 MB/s eta 0:00:02\n",
      "   ----------------- ---------------------- 7.1/16.1 MB 4.9 MB/s eta 0:00:02\n",
      "   ------------------ --------------------- 7.6/16.1 MB 4.4 MB/s eta 0:00:02\n",
      "   ------------------- -------------------- 7.9/16.1 MB 4.2 MB/s eta 0:00:02\n",
      "   -------------------- ------------------- 8.1/16.1 MB 3.9 MB/s eta 0:00:03\n",
      "   -------------------- ------------------- 8.4/16.1 MB 3.6 MB/s eta 0:00:03\n",
      "   --------------------- ------------------ 8.7/16.1 MB 3.4 MB/s eta 0:00:03\n",
      "   ---------------------- ----------------- 8.9/16.1 MB 3.2 MB/s eta 0:00:03\n",
      "   ---------------------- ----------------- 8.9/16.1 MB 3.2 MB/s eta 0:00:03\n",
      "   ---------------------- ----------------- 9.2/16.1 MB 2.9 MB/s eta 0:00:03\n",
      "   ---------------------- ----------------- 9.2/16.1 MB 2.9 MB/s eta 0:00:03\n",
      "   ----------------------- ---------------- 9.4/16.1 MB 2.7 MB/s eta 0:00:03\n",
      "   ------------------------ --------------- 9.7/16.1 MB 2.5 MB/s eta 0:00:03\n",
      "   ------------------------ --------------- 10.0/16.1 MB 2.4 MB/s eta 0:00:03\n",
      "   ------------------------ --------------- 10.0/16.1 MB 2.4 MB/s eta 0:00:03\n",
      "   ------------------------- -------------- 10.2/16.1 MB 2.3 MB/s eta 0:00:03\n",
      "   -------------------------- ------------- 10.5/16.1 MB 2.3 MB/s eta 0:00:03\n",
      "   -------------------------- ------------- 10.7/16.1 MB 2.2 MB/s eta 0:00:03\n",
      "   --------------------------- ------------ 11.0/16.1 MB 2.1 MB/s eta 0:00:03\n",
      "   --------------------------- ------------ 11.0/16.1 MB 2.1 MB/s eta 0:00:03\n",
      "   --------------------------- ------------ 11.0/16.1 MB 2.1 MB/s eta 0:00:03\n",
      "   ---------------------------- ----------- 11.3/16.1 MB 1.9 MB/s eta 0:00:03\n",
      "   ---------------------------- ----------- 11.3/16.1 MB 1.9 MB/s eta 0:00:03\n",
      "   ---------------------------- ----------- 11.3/16.1 MB 1.9 MB/s eta 0:00:03\n",
      "   ---------------------------- ----------- 11.5/16.1 MB 1.8 MB/s eta 0:00:03\n",
      "   ---------------------------- ----------- 11.5/16.1 MB 1.8 MB/s eta 0:00:03\n",
      "   ---------------------------- ----------- 11.5/16.1 MB 1.8 MB/s eta 0:00:03\n",
      "   ---------------------------- ----------- 11.5/16.1 MB 1.8 MB/s eta 0:00:03\n",
      "   ----------------------------- ---------- 11.8/16.1 MB 1.7 MB/s eta 0:00:03\n",
      "   ----------------------------- ---------- 11.8/16.1 MB 1.7 MB/s eta 0:00:03\n",
      "   ------------------------------ --------- 12.1/16.1 MB 1.6 MB/s eta 0:00:03\n",
      "   ------------------------------ --------- 12.1/16.1 MB 1.6 MB/s eta 0:00:03\n",
      "   ------------------------------ --------- 12.3/16.1 MB 1.5 MB/s eta 0:00:03\n",
      "   ------------------------------ --------- 12.3/16.1 MB 1.5 MB/s eta 0:00:03\n",
      "   ------------------------------- -------- 12.6/16.1 MB 1.5 MB/s eta 0:00:03\n",
      "   ------------------------------- -------- 12.8/16.1 MB 1.5 MB/s eta 0:00:03\n",
      "   -------------------------------- ------- 13.1/16.1 MB 1.5 MB/s eta 0:00:02\n",
      "   --------------------------------- ------ 13.4/16.1 MB 1.5 MB/s eta 0:00:02\n",
      "   --------------------------------- ------ 13.6/16.1 MB 1.5 MB/s eta 0:00:02\n",
      "   --------------------------------- ------ 13.6/16.1 MB 1.5 MB/s eta 0:00:02\n",
      "   ---------------------------------- ----- 13.9/16.1 MB 1.4 MB/s eta 0:00:02\n",
      "   ----------------------------------- ---- 14.2/16.1 MB 1.4 MB/s eta 0:00:02\n",
      "   ----------------------------------- ---- 14.2/16.1 MB 1.4 MB/s eta 0:00:02\n",
      "   ----------------------------------- ---- 14.2/16.1 MB 1.4 MB/s eta 0:00:02\n",
      "   ----------------------------------- ---- 14.2/16.1 MB 1.4 MB/s eta 0:00:02\n",
      "   ----------------------------------- ---- 14.4/16.1 MB 1.4 MB/s eta 0:00:02\n",
      "   ----------------------------------- ---- 14.4/16.1 MB 1.4 MB/s eta 0:00:02\n",
      "   ------------------------------------ --- 14.7/16.1 MB 1.3 MB/s eta 0:00:02\n",
      "   ------------------------------------- -- 14.9/16.1 MB 1.3 MB/s eta 0:00:01\n",
      "   ------------------------------------- -- 14.9/16.1 MB 1.3 MB/s eta 0:00:01\n",
      "   ------------------------------------- -- 15.2/16.1 MB 1.3 MB/s eta 0:00:01\n",
      "   -------------------------------------- - 15.5/16.1 MB 1.3 MB/s eta 0:00:01\n",
      "   ---------------------------------------  15.7/16.1 MB 1.3 MB/s eta 0:00:01\n",
      "   ---------------------------------------  16.0/16.1 MB 1.3 MB/s eta 0:00:01\n",
      "   ---------------------------------------- 16.1/16.1 MB 1.3 MB/s eta 0:00:00\n",
      "Installing collected packages: mysql-connector-python\n",
      "Successfully installed mysql-connector-python-9.1.0\n"
     ]
    }
   ],
   "source": [
    "!pip install mysql-connector-python"
   ]
  },
  {
   "cell_type": "code",
   "execution_count": 48,
   "id": "0fe7ef2e-61e6-44bc-8d6c-012f86eaec53",
   "metadata": {},
   "outputs": [],
   "source": [
    "import pandas as pd\n",
    "import matplotlib.pyplot as plt\n",
    "import mysql.connector\n",
    "from mysql.connector.connection import MySQLConnection\n",
    "import datetime\n",
    "\n",
    "# Set default parameters for LaTex and font\n",
    "plt.rcParams['font.family'] = 'serif'\n",
    "plt.rcParams['text.usetex'] = True"
   ]
  },
  {
   "cell_type": "markdown",
   "id": "eec5551e",
   "metadata": {
    "id": "eec5551e",
    "pycharm": {
     "name": "#%% md\n"
    }
   },
   "source": [
    "2.В змінній `con` створіть підключення до бази даних employees за аналогією того, як це робилось в лекції:"
   ]
  },
  {
   "cell_type": "code",
   "execution_count": 3,
   "id": "e3fff0d8",
   "metadata": {
    "id": "e3fff0d8"
   },
   "outputs": [],
   "source": [
    "con = mysql.connector.connect(user='user1', password='7oygWy6P',\n",
    "                              host='3.68.62.36',\n",
    "                              database='employees')"
   ]
  },
  {
   "cell_type": "markdown",
   "id": "8b17a588",
   "metadata": {
    "ExecuteTime": {
     "end_time": "2022-01-26T22:23:01.406330Z",
     "start_time": "2022-01-26T22:23:01.403942Z"
    },
    "id": "8b17a588",
    "pycharm": {
     "name": "#%% md\n"
    }
   },
   "source": [
    "3.Виберіть максимальну і мінімальну дати найму співробітників використовуючи `con.cursor()`. Аби отримати результати в кінці, виконайте `cursor.fetchall()`."
   ]
  },
  {
   "cell_type": "code",
   "execution_count": 13,
   "id": "6b6d9619-feec-4189-be0e-687f25a11622",
   "metadata": {},
   "outputs": [],
   "source": [
    "cursor = con.cursor()"
   ]
  },
  {
   "cell_type": "code",
   "execution_count": 14,
   "id": "2d9785de",
   "metadata": {
    "id": "2d9785de"
   },
   "outputs": [
    {
     "data": {
      "text/plain": [
       "[(datetime.date(1985, 1, 1), datetime.date(2000, 1, 28))]"
      ]
     },
     "execution_count": 14,
     "metadata": {},
     "output_type": "execute_result"
    }
   ],
   "source": [
    "query = \"\"\"\n",
    "SELECT MIN(hire_date) AS earliest_hire_date, MAX(hire_date) AS latest_hire_date\n",
    "FROM employees;\n",
    "\"\"\"\n",
    "cursor.execute(query)\n",
    "\n",
    "results = cursor.fetchall()\n",
    "results"
   ]
  },
  {
   "cell_type": "code",
   "execution_count": 15,
   "id": "a489d3e9-a28b-49df-a08c-fc858af51561",
   "metadata": {},
   "outputs": [
    {
     "name": "stdout",
     "output_type": "stream",
     "text": [
      "Earliest Hire Date: 1985-01-01, Latest Hire Date: 2000-01-28\n"
     ]
    }
   ],
   "source": [
    "for row in results:\n",
    "    print(f\"Earliest Hire Date: {row[0]}, Latest Hire Date: {row[1]}\")"
   ]
  },
  {
   "cell_type": "code",
   "execution_count": 16,
   "id": "e04f2bd9-e641-470d-9015-1d75004f3586",
   "metadata": {},
   "outputs": [
    {
     "data": {
      "text/plain": [
       "True"
      ]
     },
     "execution_count": 16,
     "metadata": {},
     "output_type": "execute_result"
    }
   ],
   "source": [
    "cursor.close()"
   ]
  },
  {
   "cell_type": "markdown",
   "id": "955dd2fa",
   "metadata": {
    "ExecuteTime": {
     "end_time": "2022-11-27T18:11:33.491134Z",
     "start_time": "2022-11-27T18:11:33.486973Z"
    },
    "id": "955dd2fa"
   },
   "source": [
    "Очікуваний результат:  \n",
    "    `[(datetime.date(2000, 1, 28), datetime.date(1985, 1, 1))]`"
   ]
  },
  {
   "cell_type": "markdown",
   "id": "1d9c214d",
   "metadata": {
    "ExecuteTime": {
     "end_time": "2023-07-14T15:52:49.876166Z",
     "start_time": "2023-07-14T15:52:49.855548Z"
    },
    "id": "1d9c214d"
   },
   "source": [
    "4.Давайте зберемо інформацію про останню ЗП кожного співробіткника в базі. З використанням `con.cursor()` виберіть з таблиці `salaries` для кожного співробітника його номер, останню в базі даних (тобто ту, що відповідає найновішій `to_date`) ЗП, та значення `from_date`, `to_date` для цієї ЗП.\n",
    "\n",
    "Результати запишіть у pandas DataFrame, який збережіть у змінну `res`. Як взяти з курсора назви колонок - вже наведено. На екран виведіть назви колонок в змінній `res`, розмір цього датафрейму та перші 3 записи в ньому.\n",
    "\n",
    "УВАГА! Зверніть увагу, що ЗП може оновлюватись протягом одного дня, тобто є випадки, коли апдейт ЗП був в певний день, скажімо 2001-01-01 і потім стався ще один апдейт ЗП цьому співробітнику цього самого дня. Запит має це враховувати.\n",
    "Також, теоретично ЗП може бути зменшена. Тож, брати дату з максимальною ЗП буде неправильно з точки зору бізнес логіки. Треба саме останнє історичне значення ЗП кожного співробітника."
   ]
  },
  {
   "cell_type": "code",
   "execution_count": 4,
   "id": "f326ba43",
   "metadata": {
    "id": "f326ba43"
   },
   "outputs": [],
   "source": [
    "cursor = con.cursor()"
   ]
  },
  {
   "cell_type": "code",
   "execution_count": 11,
   "id": "d4d94124-afbc-49a5-9a67-d6272c94a0d8",
   "metadata": {},
   "outputs": [],
   "source": [
    "query_latest_salaries = \"\"\"\n",
    "SELECT s1.emp_no, s1.salary, s1.from_date, s1.to_date\n",
    "FROM salaries s1\n",
    "WHERE to_date = (\n",
    "    SELECT MAX(s2.to_date)\n",
    "    FROM salaries s2\n",
    "    WHERE s1.emp_no = s2.emp_no\n",
    "    AND (s2.to_date > s1.from_date OR s1.to_date = s2.to_date)\n",
    ")\n",
    "\"\"\"\n",
    "cursor.execute(query_latest_salaries)"
   ]
  },
  {
   "cell_type": "code",
   "execution_count": 12,
   "id": "bf5eb14d",
   "metadata": {
    "ExecuteTime": {
     "end_time": "2023-07-14T16:14:15.617144Z",
     "start_time": "2023-07-14T16:14:15.611369Z"
    },
    "id": "bf5eb14d"
   },
   "outputs": [],
   "source": [
    "field_names = [i[0] for i in cursor.description]"
   ]
  },
  {
   "cell_type": "code",
   "execution_count": 13,
   "id": "56b54d6b-e5ab-45c2-8355-b36aa1830052",
   "metadata": {},
   "outputs": [],
   "source": [
    "res_query_latest_salaries_df = pd.DataFrame(cursor.fetchall(), columns=field_names)"
   ]
  },
  {
   "cell_type": "code",
   "execution_count": 18,
   "id": "14880ad0-117b-440c-aba8-697ba0791861",
   "metadata": {},
   "outputs": [
    {
     "data": {
      "text/plain": [
       "(300180, 4)"
      ]
     },
     "metadata": {},
     "output_type": "display_data"
    },
    {
     "data": {
      "text/plain": [
       "Index(['emp_no', 'salary', 'from_date', 'to_date'], dtype='object')"
      ]
     },
     "metadata": {},
     "output_type": "display_data"
    },
    {
     "data": {
      "text/html": [
       "<div>\n",
       "<style scoped>\n",
       "    .dataframe tbody tr th:only-of-type {\n",
       "        vertical-align: middle;\n",
       "    }\n",
       "\n",
       "    .dataframe tbody tr th {\n",
       "        vertical-align: top;\n",
       "    }\n",
       "\n",
       "    .dataframe thead th {\n",
       "        text-align: right;\n",
       "    }\n",
       "</style>\n",
       "<table border=\"1\" class=\"dataframe\">\n",
       "  <thead>\n",
       "    <tr style=\"text-align: right;\">\n",
       "      <th></th>\n",
       "      <th>emp_no</th>\n",
       "      <th>salary</th>\n",
       "      <th>from_date</th>\n",
       "      <th>to_date</th>\n",
       "    </tr>\n",
       "  </thead>\n",
       "  <tbody>\n",
       "    <tr>\n",
       "      <th>0</th>\n",
       "      <td>10001</td>\n",
       "      <td>88958</td>\n",
       "      <td>2002-06-22</td>\n",
       "      <td>9999-01-01</td>\n",
       "    </tr>\n",
       "    <tr>\n",
       "      <th>1</th>\n",
       "      <td>10002</td>\n",
       "      <td>72527</td>\n",
       "      <td>2001-08-02</td>\n",
       "      <td>9999-01-01</td>\n",
       "    </tr>\n",
       "    <tr>\n",
       "      <th>2</th>\n",
       "      <td>10003</td>\n",
       "      <td>43311</td>\n",
       "      <td>2001-12-01</td>\n",
       "      <td>9999-01-01</td>\n",
       "    </tr>\n",
       "    <tr>\n",
       "      <th>3</th>\n",
       "      <td>10004</td>\n",
       "      <td>74057</td>\n",
       "      <td>2001-11-27</td>\n",
       "      <td>9999-01-01</td>\n",
       "    </tr>\n",
       "    <tr>\n",
       "      <th>4</th>\n",
       "      <td>10005</td>\n",
       "      <td>94692</td>\n",
       "      <td>2001-09-09</td>\n",
       "      <td>9999-01-01</td>\n",
       "    </tr>\n",
       "  </tbody>\n",
       "</table>\n",
       "</div>"
      ],
      "text/plain": [
       "   emp_no  salary   from_date     to_date\n",
       "0   10001   88958  2002-06-22  9999-01-01\n",
       "1   10002   72527  2001-08-02  9999-01-01\n",
       "2   10003   43311  2001-12-01  9999-01-01\n",
       "3   10004   74057  2001-11-27  9999-01-01\n",
       "4   10005   94692  2001-09-09  9999-01-01"
      ]
     },
     "metadata": {},
     "output_type": "display_data"
    }
   ],
   "source": [
    "display(res_query_latest_salaries_df.shape, res_query_latest_salaries_df.columns, res_query_latest_salaries_df.head())"
   ]
  },
  {
   "cell_type": "markdown",
   "id": "e5770b56",
   "metadata": {
    "ExecuteTime": {
     "end_time": "2023-07-14T16:17:31.638485Z",
     "start_time": "2023-07-14T16:17:31.632827Z"
    },
    "id": "e5770b56"
   },
   "source": [
    "5.В утвореній вибірці в змінній `res` скільки значень `to_date` рівні `9999-01-01`, а скільки - ні? Увага! Для виконання цього завдання важливо розуміти, який тип даних у значень колонки `to_date`. Зʼясуйте це, і потім напишіть фільтр для виводу потрібного результату."
   ]
  },
  {
   "cell_type": "code",
   "execution_count": 15,
   "id": "eed5f9cb-3055-4b09-ba22-9e86ff56c879",
   "metadata": {},
   "outputs": [
    {
     "data": {
      "text/plain": [
       "emp_no        int64\n",
       "salary        int64\n",
       "from_date    object\n",
       "to_date      object\n",
       "dtype: object"
      ]
     },
     "execution_count": 15,
     "metadata": {},
     "output_type": "execute_result"
    }
   ],
   "source": [
    "res_query_latest_salaries_df.dtypes"
   ]
  },
  {
   "cell_type": "code",
   "execution_count": 16,
   "id": "ea913eed-384b-4937-9a9f-a0e0fe401315",
   "metadata": {},
   "outputs": [
    {
     "name": "stdout",
     "output_type": "stream",
     "text": [
      "<class 'pandas.core.frame.DataFrame'>\n",
      "RangeIndex: 300180 entries, 0 to 300179\n",
      "Data columns (total 4 columns):\n",
      " #   Column     Non-Null Count   Dtype \n",
      "---  ------     --------------   ----- \n",
      " 0   emp_no     300180 non-null  int64 \n",
      " 1   salary     300180 non-null  int64 \n",
      " 2   from_date  300180 non-null  object\n",
      " 3   to_date    300180 non-null  object\n",
      "dtypes: int64(2), object(2)\n",
      "memory usage: 9.2+ MB\n"
     ]
    }
   ],
   "source": [
    "res_query_latest_salaries_df.info()"
   ]
  },
  {
   "cell_type": "code",
   "execution_count": 23,
   "id": "c08495f7-ff77-4a63-9a7b-56d925b428c3",
   "metadata": {},
   "outputs": [
    {
     "data": {
      "text/plain": [
       "datetime.date"
      ]
     },
     "execution_count": 23,
     "metadata": {},
     "output_type": "execute_result"
    }
   ],
   "source": [
    "type(res_query_latest_salaries_df['to_date'].values[0])"
   ]
  },
  {
   "cell_type": "code",
   "execution_count": 57,
   "id": "523b62ea-1e8a-49c0-92a6-fbe505af632e",
   "metadata": {},
   "outputs": [
    {
     "name": "stdout",
     "output_type": "stream",
     "text": [
      "The number of current employees is 240124 when the total number of employees is 300180, consequently the number of other kind of community is 60056.\n"
     ]
    }
   ],
   "source": [
    "df_9999 = res_query_latest_salaries_df[res_query_latest_salaries_df['to_date'] == datetime.date(9999, 1, 1)]\n",
    "df_not_9999_amount = res_query_latest_salaries_df.shape[0] -  df_9999.shape[0]\n",
    "print(f'The number of current employees is {df_9999.shape[0]} when the total number of employees is {res_query_latest_salaries_df.shape[0]}, consequently the number of other kind of community is {df_not_9999_amount}.')"
   ]
  },
  {
   "cell_type": "markdown",
   "id": "ae22c37a",
   "metadata": {
    "id": "ae22c37a"
   },
   "source": [
    "6.Виведіть візуально розподіл (гістограму) зарплат співробітників, які досі працюють в компанії, використовуючи результат попереднього завдання. Співробітниками, які досі працюють в компанії вважаємо тих, в кого to_date має значення 9999-01-01. Обовʼязково підпишіть графік і вісі.\n",
    "\n",
    "Ці три завдання - приклад, як нам може бути зручно витягнути дані з бази певним запитом, а потім використати витягнуту вибірку у Python для подальшого аналізу."
   ]
  },
  {
   "cell_type": "code",
   "execution_count": 54,
   "id": "ede9a748",
   "metadata": {
    "id": "ede9a748"
   },
   "outputs": [
    {
     "data": {
      "image/png": "[encoded data removed]",
      "text/plain": [
       "<Figure size 1000x600 with 1 Axes>"
      ]
     },
     "metadata": {},
     "output_type": "display_data"
    }
   ],
   "source": [
    "plt.figure(figsize=(10, 6))\n",
    "plt.hist(df_9999['salary'], bins=10, color='skyblue', edgecolor='black', alpha=0.7)\n",
    "\n",
    "plt.title('Salary Distribution of Current Employees', fontsize=16)\n",
    "plt.xlabel('Salary', fontsize=14)\n",
    "plt.ylabel('Frequency', fontsize=14)\n",
    "plt.grid(axis='y', linestyle='--', alpha=0.7)\n",
    "\n",
    "plt.tight_layout()\n",
    "plt.show();"
   ]
  },
  {
   "cell_type": "markdown",
   "id": "Cp_JpGPpKmzp",
   "metadata": {
    "id": "Cp_JpGPpKmzp"
   },
   "source": [
    "НЕ ЗАБУВАЄМО ЗАКРИТИ ПІДКЛЮЧЕННЯ ДО БАЗИ :)"
   ]
  },
  {
   "cell_type": "code",
   "execution_count": 47,
   "id": "WEMo9bl6KnMh",
   "metadata": {
    "id": "WEMo9bl6KnMh"
   },
   "outputs": [],
   "source": [
    "con.close()"
   ]
  }
 ],
 "metadata": {
  "colab": {
   "provenance": []
  },
  "kernelspec": {
   "display_name": "Python 3 (ipykernel)",
   "language": "python",
   "name": "python3"
  },
  "language_info": {
   "codemirror_mode": {
    "name": "ipython",
    "version": 3
   },
   "file_extension": ".py",
   "mimetype": "text/x-python",
   "name": "python",
   "nbconvert_exporter": "python",
   "pygments_lexer": "ipython3",
   "version": "3.13.0"
  },
  "toc": {
   "base_numbering": 1,
   "nav_menu": {},
   "number_sections": true,
   "sideBar": true,
   "skip_h1_title": false,
   "title_cell": "Table of Contents",
   "title_sidebar": "Contents",
   "toc_cell": false,
   "toc_position": {},
   "toc_section_display": true,
   "toc_window_display": false
  },
  "vscode": {
   "interpreter": {
    "hash": "a6511e6b41b26ba86cca7483749cf4dd15bf137a2672e550741a656e19bba82e"
   }
  }
 },
 "nbformat": 4,
 "nbformat_minor": 5
}
