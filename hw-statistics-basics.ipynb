{
 "cells": [
  {
   "cell_type": "markdown",
   "metadata": {
    "id": "SDhaTqxcWhnP"
   },
   "source": [
    "В цьому домашньому завданні відпрацюємо з вами знання, отримані в модулі зі статистики.\n",
    "\n",
    "**Завдання 1.** Ми обговорили з Вами на лекції, що велика літера Сігма грецького алфавіту позначає в математиці суму. Знайдіть з використанням Python $\\Sigma x$, $\\Sigma x^2$, та $\\Sigma (x-1)^2$ для наступного набору даних:\n",
    "`1 3 4`\n",
    "Виведіть результат кожного обчислення на екран."
   ]
  },
  {
   "cell_type": "code",
   "execution_count": 44,
   "metadata": {
    "id": "B1mgx_IBT0e8"
   },
   "outputs": [],
   "source": [
    "import numpy as np\n",
    "import math\n",
    "import matplotlib.pyplot as plt\n",
    "\n",
    "%matplotlib inline\n",
    "\n",
    "# Set default parameters for LaTex and font\n",
    "plt.rcParams['font.family'] = 'serif'\n",
    "plt.rcParams['text.usetex'] = True"
   ]
  },
  {
   "cell_type": "code",
   "execution_count": 10,
   "metadata": {},
   "outputs": [
    {
     "data": {
      "text/plain": [
       "8"
      ]
     },
     "metadata": {},
     "output_type": "display_data"
    },
    {
     "data": {
      "text/plain": [
       "26"
      ]
     },
     "metadata": {},
     "output_type": "display_data"
    },
    {
     "data": {
      "text/plain": [
       "13"
      ]
     },
     "metadata": {},
     "output_type": "display_data"
    }
   ],
   "source": [
    "x = [1, 3, 4]\n",
    "\n",
    "# Using list comprehensions\n",
    "sum_of_elements = sum([el for el in x])\n",
    "sum_of_squares = sum([el**2 for el in x])\n",
    "sum_of_el_sub_one_squared = sum([(el - 1)**2 for el in x])\n",
    " \n",
    "display(sum_of_elements,\n",
    "       sum_of_squares,\n",
    "       sum_of_el_sub_one_squared)"
   ]
  },
  {
   "cell_type": "markdown",
   "metadata": {
    "id": "fa78aW5lhiia"
   },
   "source": [
    "**Завдання 2.** Ми зібрали дані про суму покупок в гривнях 20ма випадково обраними клієнтами в нашому магазині (всього клієнтів у нас більше) за минулий місяць. Вони представлені в змінній `sum_purchases`. Знайдіть **вибіркове середнє** для цих даних кожним з зазначених методів:   \n",
    "\n",
    "  2.1. без використання жодних бібліотек, користуючись тільки Python.  \n",
    "  2.2. використовуючи відповідний метод бібліотеки `numpy`.\n",
    "\n",
    "  Виведіть результат обчислень в кожному з випадків на екран та порівняйте результати. Вони співпадають?"
   ]
  },
  {
   "cell_type": "code",
   "execution_count": 9,
   "metadata": {
    "id": "_9kMt3rq6V5m"
   },
   "outputs": [],
   "source": [
    "sum_purchases = [ 316,  493,  367,  153,  224,  121,  322,  450,  196,  397,  281,\n",
    "  239,  484,  124,  223,  448,  432,  255, 4310, 3524]"
   ]
  },
  {
   "cell_type": "code",
   "execution_count": 14,
   "metadata": {},
   "outputs": [
    {
     "data": {
      "text/plain": [
       "20"
      ]
     },
     "execution_count": 14,
     "metadata": {},
     "output_type": "execute_result"
    }
   ],
   "source": [
    "n_sum_purchases = len(sum_purchases)\n",
    "n_sum_purchases"
   ]
  },
  {
   "cell_type": "code",
   "execution_count": 15,
   "metadata": {
    "id": "wPmL919HT1c0"
   },
   "outputs": [
    {
     "data": {
      "text/plain": [
       "667.95"
      ]
     },
     "execution_count": 15,
     "metadata": {},
     "output_type": "execute_result"
    }
   ],
   "source": [
    "# Pure python \n",
    "mean_sum_purchases = sum(sum_purchases)/n_sum_purchases\n",
    "mean_sum_purchases"
   ]
  },
  {
   "cell_type": "code",
   "execution_count": 16,
   "metadata": {},
   "outputs": [
    {
     "data": {
      "text/plain": [
       "np.float64(667.95)"
      ]
     },
     "execution_count": 16,
     "metadata": {},
     "output_type": "execute_result"
    }
   ],
   "source": [
    "# Numpy library\n",
    "mean_sum_purchases_ = np.mean(sum_purchases)\n",
    "mean_sum_purchases_"
   ]
  },
  {
   "cell_type": "markdown",
   "metadata": {},
   "source": [
    "<p style='font-family: Garamond ; font-size: 18px;'>Результати є тотожніми, тобто за обома методами (чистий Python та NumPy) рішення співпадають.</p>"
   ]
  },
  {
   "cell_type": "markdown",
   "metadata": {
    "id": "FMdoxZd0kZdW"
   },
   "source": [
    "**Завдання 3.** Для того ж набору даних в змінній `sum_purchases` обчисліть **медіану** кожним з зазначених методів:  \n",
    "\n",
    "  3.1. без використання жодних бібліотек, користуючись тільки Python.  \n",
    "  3.2. використовуючи відповідний метод бібліотеки numpy.  \n",
    "\n",
    "Виведіть результат обчислень в кожному з випадків на екран. Порівняйте результати зі значенням вибіркового середнього. Напишіть коментар, для яких задач ви б використовували вибіркове середнє, а для яких - медіану?"
   ]
  },
  {
   "cell_type": "code",
   "execution_count": 17,
   "metadata": {
    "id": "x58BumvuT2nl"
   },
   "outputs": [
    {
     "data": {
      "text/plain": [
       "319.0"
      ]
     },
     "execution_count": 17,
     "metadata": {},
     "output_type": "execute_result"
    }
   ],
   "source": [
    "# Pure python \n",
    "sum_purchases_median = (sorted(sum_purchases)[len(sum_purchases)//2-1] + sorted(sum_purchases)[len(sum_purchases)//2])/2\n",
    "sum_purchases_median"
   ]
  },
  {
   "cell_type": "code",
   "execution_count": 19,
   "metadata": {},
   "outputs": [
    {
     "data": {
      "text/plain": [
       "np.float64(319.0)"
      ]
     },
     "execution_count": 19,
     "metadata": {},
     "output_type": "execute_result"
    }
   ],
   "source": [
    "# NumPy \n",
    "sum_purchases_median_ = np.median(sum_purchases)\n",
    "sum_purchases_median_"
   ]
  },
  {
   "cell_type": "markdown",
   "metadata": {},
   "source": [
    "<p style='font-family: Garamond ; font-size: 18px;'><b>Використання медіани (median):</b></p>\n",
    "<ol style='font-family: Garamond ; font-size: 16px;'>\n",
    "    <li>Медіана $m$ вибірки $X = (X_1, X_2, X_3, ..., X_n)$ мінімізує суму абсолютних відхилень: $m = \\arg \\min_{x} \\sum\\limits_{i=1}^n (X_i - a)$.</li>\n",
    "    <li>Медіана стійка до екстремальних значень і найкраще описує \"центр\" у <b>розподілах з вираженою асиметрією</b>.</li>\n",
    "</ol>\n",
    "<p style='font-family: Garamond ; font-size: 18px;'><b>Статистичну характеристику медіани (median) слід використовувати за таких ознак:</b></p>\n",
    "<ol style='font-family: Garamond ; font-size: 16px;'>\n",
    "    <li>Приклади з асиметричними розподілами або розподілами з наочними викидами (outliers).</li>\n",
    "        <ul style='font-family: Garamond ; font-size: 16px;'>\n",
    "            <li>Розподіл доходів населення (логнормальний розподіл, гамма-розподіл), де існує значна асиметрія праворуч.</li>\n",
    "            <li>Час очікування в черзі або час до настання події (експоненціальний розподіл).</li>\n",
    "        </ul>\n",
    "    <li>Припустимо, що доходи населення описуються <b>логнормальним розподілом</b>, тобто $X \\sim \\mathcal{L}\\mathcal{N}(\\mu, \\sigma^2)$. Щільність такого розподілу: $f_{X}(x) = \\frac{1}{x\\sigma\\sqrt{2\\pi}}\\,\\exp\\left(-\\frac{(\\ln{x}-\\mu)^2}{2\\sigma^2}\\right), \\quad x > 0.\n",
    "$</li>\n",
    "    <li>Через сильну асиметрію вибіркове середнє не є хорошим показником типового доходу, оскільки невелика кількість дуже багатих людей значно зміщує значення. Натомість медіана: $\\text{Med}(X) = e^{\\mu}$ краще представлятиме типовий дохід.</li>\n",
    "</ol>\n",
    "\n",
    "<hr></hr>\n",
    "    \n",
    "<p style='font-family: Garamond ; font-size: 18px;'><b>Використання вибірковго середнього (mean):</b></p>\n",
    "<ol style='font-family: Garamond ; font-size: 16px;'>\n",
    "    <li>Вибіркове середнє $\\bar{X}$ є найкращою (найбільш ефективною) оцінкою математичного сподівання для симетричних і нормальних розподілів за критерієм найменших квадратів: $\\bar{X} = \\frac{1}{n}\\sum_{i=1}^{n} X_i,\\quad\\text{де}\\quad \\bar{X} = \\arg\\min_{a}\\sum_{i=1}^{n}(X_i - a)^2$.</li>\n",
    "    <li>Середнє арифметичне оптимально використовувати, якщо розподіл близький до симетричного та має незначні відхилення (outliers).</li>\n",
    "</ol>\n",
    "\n",
    "<p style='font-family: Garamond ; font-size: 18px;'><b>Типові випадки використання вибіркового середнього (mean):</b></p>\n",
    "<ol style='font-family: Garamond ; font-size: 16px;'>\n",
    "    <li>Приклади з симетричними розподілами</li>\n",
    "        <ul style='font-family: Garamond ; font-size: 16px;'>\n",
    "            <li>Нормальний розподіл, оскільки математичне сподівання і середнє арифметичне збігаються.</li>\n",
    "            <li>Рівномірний (симетричний) розподіл.</li>\n",
    "            <li>Біноміальний розподіл при великих значеннях $n$ та ймовірності успіху $p \\approx 0.5$.</li>\n",
    "        </ul>\n",
    "    <li>Припустимо, що є вибірка, яка описується нормальним розподілом:</b>, тобто $X \\sim N(\\mu, \\sigma^2), \\quad f_{X}(x) = \\frac{1}{\\sqrt{2\\pi}\\sigma}\\,\\exp\\left(-\\frac{(x - \\mu)^2}{2\\sigma^2}\\right)$. У цьому випадку вибіркове середнє є ефективною і незміщеною оцінкою математичного сподівання: $\\mathbb{E}(\\bar{X}) = \\mu,\\quad Var(\\bar{X}) = \\frac{\\sigma^2}{n}$.</li>\n",
    "    <li>Саме тому для оцінки середнього росту людей, середньої оцінки студентів чи середньої температури вибіркове середнє арифметичне є оптимальним рішенням.</li>\n",
    "</ol>"
   ]
  },
  {
   "cell_type": "markdown",
   "metadata": {
    "id": "o1Z7az2yNDQV"
   },
   "source": [
    "**Завдання 4**. Обчислість стандартне відхилення наведеної вибірки в змінній `sum_purchases` кожним з зазначених методів:  \n",
    "\n",
    "  4.1. без використання жодних бібліотек, користуючись тільки Python.  \n",
    "  4.2. використовуючи відповідний метод бібліотеки numpy.  \n",
    "\n",
    "Виведіть результат обчислень в кожному з випадків на екран."
   ]
  },
  {
   "cell_type": "code",
   "execution_count": 22,
   "metadata": {
    "id": "X4ixtmL2T642"
   },
   "outputs": [
    {
     "data": {
      "text/plain": [
       "1096.0692713054227"
      ]
     },
     "metadata": {},
     "output_type": "display_data"
    },
    {
     "data": {
      "text/plain": [
       "1124.5433447451132"
      ]
     },
     "metadata": {},
     "output_type": "display_data"
    }
   ],
   "source": [
    "# Pure python\n",
    "sum_purchases_minus_mean = [(el - mean_sum_purchases)**2 for el in sum_purchases]\n",
    "std_sum_purchases_general = math.sqrt(sum(sum_purchases_minus_mean)/len(sum_purchases))\n",
    "std_sum_purchases_sample = math.sqrt(sum(sum_purchases_minus_mean)/(len(sum_purchases)-1))\n",
    "\n",
    "display(std_sum_purchases_general, \n",
    "        std_sum_purchases_sample)"
   ]
  },
  {
   "cell_type": "code",
   "execution_count": 23,
   "metadata": {},
   "outputs": [
    {
     "data": {
      "text/plain": [
       "np.float64(1096.0692713054227)"
      ]
     },
     "metadata": {},
     "output_type": "display_data"
    },
    {
     "data": {
      "text/plain": [
       "np.float64(1124.5433447451132)"
      ]
     },
     "metadata": {},
     "output_type": "display_data"
    }
   ],
   "source": [
    "# NumPy\n",
    "\n",
    "std_sum_purchases_general_ = np.std(sum_purchases)\n",
    "std_sum_purchases_sample_ = np.std(sum_purchases, ddof=1)\n",
    "\n",
    "display(std_sum_purchases_general, \n",
    "        std_sum_purchases_sample)"
   ]
  },
  {
   "cell_type": "markdown",
   "metadata": {
    "id": "M1ntKTjXLVlH"
   },
   "source": [
    "**Завдання 5**. Ми провели дослідження віку студентів-першокурсників. Виявилось, що\n",
    "- 10 студентів мають вік 16 років\n",
    "- 25 студентів - 17 років\n",
    "- 20 студентів - 18 років\n",
    "- 2 студенти - 20 років\n",
    "\n",
    "Обчислість середнє значення для цієї вибірки будь-яким способом - на чистому Python або з numpy - та виведіть результат на екран."
   ]
  },
  {
   "cell_type": "code",
   "execution_count": 1,
   "metadata": {
    "id": "RdIU4M-7T8R4"
   },
   "outputs": [
    {
     "name": "stdout",
     "output_type": "stream",
     "text": [
      "[16, 16, 16, 16, 16, 16, 16, 16, 16, 16, 17, 17, 17, 17, 17, 17, 17, 17, 17, 17, 17, 17, 17, 17, 17, 17, 17, 17, 17, 17, 17, 17, 17, 17, 17, 18, 18, 18, 18, 18, 18, 18, 18, 18, 18, 18, 18, 18, 18, 18, 18, 18, 18, 18, 18, 20, 20]\n"
     ]
    }
   ],
   "source": [
    "from typing import List\n",
    "\n",
    "def generate_student_age_list() -> List[int]:\n",
    "    \"\"\"\n",
    "    Generate a list of student ages based on a predefined age distribution.\n",
    "\n",
    "    The function constructs a list of student ages, replicating each age according\n",
    "    to the provided count, resulting in a representative list of student ages.\n",
    "\n",
    "    Age distribution used:\n",
    "        - 16 years old: 10 students\n",
    "        - 17 years old: 25 students\n",
    "        - 18 years old: 20 students\n",
    "        - 20 years old: 2 students\n",
    "\n",
    "    Returns\n",
    "    -------\n",
    "    List[int]\n",
    "        A list of integers representing student ages, repeated according to \n",
    "        their frequency.\n",
    "\n",
    "    \"\"\"\n",
    "    age_distribution = {\n",
    "        16: 10,\n",
    "        17: 25,\n",
    "        18: 20,\n",
    "        20: 2\n",
    "    }\n",
    "\n",
    "    student_list = []\n",
    "    for age, count in age_distribution.items():\n",
    "        student_list.extend([age] * count)\n",
    "\n",
    "    return student_list\n",
    "\n",
    "student_list = generate_student_age_list()\n",
    "print(student_list)"
   ]
  },
  {
   "cell_type": "code",
   "execution_count": 28,
   "metadata": {},
   "outputs": [
    {
     "data": {
      "text/plain": [
       "np.float64(17.280701754385966)"
      ]
     },
     "metadata": {},
     "output_type": "display_data"
    },
    {
     "data": {
      "text/plain": [
       "np.float64(17.0)"
      ]
     },
     "metadata": {},
     "output_type": "display_data"
    }
   ],
   "source": [
    "student_list_mean = np.mean(student_list)\n",
    "student_list_median = np.median(student_list)\n",
    "\n",
    "display(student_list_mean, \n",
    "       student_list_median)"
   ]
  },
  {
   "cell_type": "markdown",
   "metadata": {
    "id": "Xx8MFkkVM53z"
   },
   "source": [
    "**Завдання 6**. Крім даних про суму покупок, ми зібрали ще дані про кількість відвідувань кожного з кожного покупця, які знаходяться в змінній `visits`. Обчисліть коефіцієнт кореляції Пірсона для суми покупок і кількості відвідувань кожним з зазначених методів:  \n",
    "\n",
    "  6.1. без використання жодних бібліотек, користуючись тільки Python.  \n",
    "  6.2. використовуючи відповідний метод бібліотеки numpy.  \n",
    "  \n",
    "Виведіть результат на екран. Проаналізуйте результат.\n",
    "\n",
    "Виведіть додатково графік розсіювання викликавши код нижче і зробіть заключення, чи варто щось змінити при підрахунку кореляції, аби коефіцієнт Пірсона показував коректну оцінку лінійної залежності?"
   ]
  },
  {
   "cell_type": "code",
   "execution_count": 29,
   "metadata": {
    "id": "4OIGBT7UOWhO"
   },
   "outputs": [],
   "source": [
    "visits = [ 6,  2, 10,  3,  9,  9,  2,  3,  6,  6, 10,  2,  5, 10,  3,  5,  4,\n",
    "        7,  4,  2]"
   ]
  },
  {
   "cell_type": "code",
   "execution_count": 30,
   "metadata": {
    "id": "YLNF7VbeT97Q"
   },
   "outputs": [
    {
     "data": {
      "text/plain": [
       "-0.30265844687666454"
      ]
     },
     "execution_count": 30,
     "metadata": {},
     "output_type": "execute_result"
    }
   ],
   "source": [
    "# Pure python solution\n",
    "n_visits = len(visits)\n",
    "mean_visits = sum(visits)/n_visits\n",
    "\n",
    "purchases_visits = [(sum_purchases[i] - mean_sum_purchases)*(visits[i] - mean_visits) for i in range(len(sum_purchases))]\n",
    "cov_purchases_visits = sum(purchases_visits)/(len(sum_purchases)-1)\n",
    "\n",
    "visits_minus_mean = [(el - mean_visits)**2 for el in visits]\n",
    "std_visits_sample = math.sqrt(sum(visits_minus_mean)/(len(visits)-1))\n",
    "\n",
    "corrcoef_pearson = cov_purchases_visits / (std_sum_purchases_sample * std_visits_sample)\n",
    "\n",
    "corrcoef_pearson"
   ]
  },
  {
   "cell_type": "code",
   "execution_count": 34,
   "metadata": {},
   "outputs": [
    {
     "data": {
      "text/plain": [
       "np.float64(-0.3026584468766646)"
      ]
     },
     "execution_count": 34,
     "metadata": {},
     "output_type": "execute_result"
    }
   ],
   "source": [
    "# NumPy\n",
    "corrcoef_pearson_ = np.corrcoef(sum_purchases, visits)[0, 1]\n",
    "corrcoef_pearson_"
   ]
  },
  {
   "cell_type": "code",
   "execution_count": 33,
   "metadata": {
    "colab": {
     "base_uri": "https://localhost:8080/",
     "height": 472
    },
    "id": "gaeoGA-5Prr1",
    "outputId": "0c910a7f-0e96-449a-881d-1efa453b3c8d"
   },
   "outputs": [
    {
     "data": {
      "image/png": "[encoded data removed]",
      "text/plain": [
       "<Figure size 640x480 with 1 Axes>"
      ]
     },
     "metadata": {},
     "output_type": "display_data"
    }
   ],
   "source": [
    "plt.scatter(sum_purchases, visits)\n",
    "plt.title('Scatter Plot of Purchases vs. Visits')\n",
    "plt.xlabel('Sum of Purchases')\n",
    "plt.ylabel('Number of Visits');"
   ]
  },
  {
   "cell_type": "markdown",
   "metadata": {},
   "source": [
    "<p style='font-family: Garamond ; font-size: 18px;'><b>Слід розглянути додатково аспекти, коли кореляція Пірсона може бути недоречною, а також практичні поради щодо використання кореляції Пірсона (підготовка даних та перевірка перед обчисленням зазначеної метрики)</b></p>\n",
    "<p style='font-family: Garamond ; font-size: 18px;'>Серед обмежень, що є присутніми та доречними у нашому датасеті, - це <b>outliers</b>. Наявність викидів (екстремальних значень) можуть значно спотворювати результати кореляції Пірсона, даючи хибне уявлення про загальний зв'язок між змінними. Один викид може штучно завищити або занизити значення кореляції. Із візуального аналізу, простежується <b>гетероскедастичність</b> - мінливість однієї змінної відрізняється в межах діапазону іншої (тобто, коли розкид точок даних не є постійним), кореляція Пірсона може дати неточну оцінку зв'язку.</p>\n",
    "<p style='font-family: Garamond ; font-size: 18px;'>З точки зору data augmentation (or data manipulation in data analysis) та data warehousing, варто перевірити лінійність. Перед розрахунком для цього було побудовано діаграму розсіювання, щоб візуально оцінити, чи є зв'язок між змінними лінійним. Якщо дані показують нелінійну закономірність, можемо розглянути альтернативні методи, такі як <b>рангова кореляція Спірмена</b> або <b>нелінійна регресія</b>. Крім того, перевірка на нормальність за побудови гістограми або дизайнів статистичних тестів на нормальність, щоб перевірити розподіл даних також допоможе виявити доречність розрахунку саме коефіцієнту кореляції Пірсона. Якщо змінні вимірюються в різних одиницях або шкалах, маємо розглянути можливість їхньої стандартизації. Цей крок гарантує, що порівняння не буде зміщене шкалою вимірювання, хоча кореляція Пірсона сама по собі є масштабно-незалежною.</p>\n",
    "<p style='font-family: Garamond ; font-size: 18px;'>Вирішення та імплементація цих кроків проілюстровані у постановці задачі 7.</p>"
   ]
  },
  {
   "cell_type": "markdown",
   "metadata": {
    "id": "4pEg0KzSQ6KA"
   },
   "source": [
    "**Завдання 7**. В попередньому завданні ми помітили, що викиди нам заважають отримати \"правдиве\" значення кореляції. Давайте вилучимо записи, які відповідають значенням з викидами в сумі покупок і обчисліть коеф. кореляції. Для цього поставте `threshold`, який дорінює середньому значенню + 2 стандартних вдіхилля суми покупок і всі значення, які більше за нього, будемо вважати викидами (є і інші правила для визначення викидів - з ним и познайомимось пізніше).\n",
    "\n",
    "Вилучіть значення з обох масивів і обчисліть коеф. кореляції Пірсона з допомогою `numpy` для кількості візитів і суми покупок без записів-викидів. Виведіть результат на екран, побудуйте діаграму розсіювання і проаналізуйте результат: що можемо сказати про залежність в даних?"
   ]
  },
  {
   "cell_type": "code",
   "execution_count": 53,
   "metadata": {
    "id": "Yj3Yfaf7UBbc"
   },
   "outputs": [
    {
     "data": {
      "image/png": "[encoded data removed]",
      "text/plain": [
       "<Figure size 800x500 with 1 Axes>"
      ]
     },
     "metadata": {},
     "output_type": "display_data"
    },
    {
     "name": "stdout",
     "output_type": "stream",
     "text": [
      "The Pearson correlation coefficient of filtered data (using threshold <2 + std of sum_purchases>): -0.3685212078127798.\n"
     ]
    }
   ],
   "source": [
    "# Converting the input data to numpy arrays\n",
    "sum_purchases = np.array([316, 493, 367, 153, 224, 121, 322, 450, 196, 397, 281,\n",
    "                          239, 484, 124, 223, 448, 432, 255, 4310, 3524])\n",
    "visits = np.array([6, 2, 10, 3, 9, 9, 2, 3, 6, 6, 10, 2, 5, 10, 3, 5, 4, 7, 4, 2])\n",
    "\n",
    "# Mean and standart deviation calculation \n",
    "mean_purchases = np.mean(sum_purchases)\n",
    "std_purchases = np.std(sum_purchases)\n",
    "\n",
    "# Set the threshold\n",
    "threshold = mean_purchases + 2 * std_purchases\n",
    "\n",
    "# Bool mask from filter results using threshold\n",
    "valid_indices = sum_purchases <= threshold\n",
    "filtered_purchases = sum_purchases[valid_indices]\n",
    "filtered_visits = visits[valid_indices]\n",
    "\n",
    "# Pearson correlation coefficient\n",
    "correlation = np.corrcoef(filtered_purchases, filtered_visits)[0, 1]\n",
    "\n",
    "# Scatter plot of filtered data \n",
    "plt.figure(figsize=(8, 5))\n",
    "plt.scatter(filtered_purchases, filtered_visits, color='blue', alpha=0.6)\n",
    "plt.xlabel('Sum of Purchases')\n",
    "plt.ylabel('Number of Visits')\n",
    "plt.title('Scatter Plot of Purchases vs. Visits')\n",
    "plt.grid(True, linestyle='--', linewidth=0.5)\n",
    "plt.show()\n",
    "\n",
    "# Pearson correlation coefficient of filtered data\n",
    "print(f'The Pearson correlation coefficient of filtered data (using threshold <2 + std of sum_purchases>): {correlation}.')"
   ]
  },
  {
   "cell_type": "markdown",
   "metadata": {},
   "source": [
    "<p style='font-family: Garamond ; font-size: 18px;'><b>Аналіз отриманих результатів відповідно після обробки даних (дослідження та ідентифікація outliers)</b></p>\n",
    "<ol style='font-family: Garamond ; font-size: 18px;'>\n",
    "    <li><b>Коефіцієнт кореляції Пірсона (PCC): <code>≈-0.37</code>:</b></li>\n",
    "    <ul style='font-family: Garamond ; font-size: 18px;'>\n",
    "        <li>Це свідчить про слабку <b>негативну</b> кореляцію між кількістю візитів і сумою покупок після видалення викидів.</li>\n",
    "        <li>Тобто, збільшення кількості візитів <b>не гарантує</b> збільшення суми покупок — можливо, навіть навпаки.</li>\n",
    "    </ul>\n",
    "    <li><b>Моделювання попиту:</b></li>\n",
    "    <ul style='font-family: Garamond ; font-size: 18px;'>\n",
    "        <li>Використовуючи дані середніх витрат, розробити економетричну модель прогнозування попиту з урахуванням специфіки кожного міста. Ця модель може включати фактори цінової еластичності попиту, сезонності та регіональні особливості.</li>\n",
    "    </ul>\n",
    "    <li><b>Рентабельність інвестицій:</b></li>\n",
    "    <ul style='font-family: Garamond ; font-size: 18px;'>\n",
    "        <li>Для Naypyitaw слід інвестувати в маркетинг та логістику преміум-сегмента з метою високого ROI (рентабельність інвестицій) через вищу купівельну спроможність.</li>\n",
    "        <li>У Yangon оптимізація ціноутворення та логістики допоможе мінімізувати витрати на обслуговування клієнтів і збільшити рентабельність.</li>\n",
    "    </ul>\n",
    "    <li><b>Диверсифікація асортименту:</b></li>\n",
    "    <ul style='font-family: Garamond ; font-size: 18px;'>\n",
    "        <li>У Naypyitaw максимізувати дохід через преміум-продукцію, що приносить найбільший прибуток.</li>\n",
    "        <li>У Mandalay і Yangon запропонувати більший асортимент доступних продуктів для збільшення кількості транзакцій і середнього чека.</li>\n",
    "    </ul>\n",
    "    <li><b>Оптимізація логістики:</b></li>\n",
    "    <ul style='font-family: Garamond ; font-size: 18px;'>\n",
    "        <li>Рівномірність максимальних витрат у всіх містах свідчить про потенціал для розвитку стратегій доставки дорогих товарів, які мають попит в усіх регіонах.</li>\n",
    "    </ul>\n",
    "    <li><b>Маркетингові стратегії та піар-експерименти</b> щодо підвищення попиту на ті товари, які є менш затребуваними у певних містах, шляхом упровадження акцій, знижок, тематичних годин тощо на відповідні позиції (та анаглогічні до них за рекомендаційними системами) щодо загальних потреб населення кожного регіону (additional analysis).</li>\n",
    "</ol>    "
   ]
  }
 ],
 "metadata": {
  "colab": {
   "provenance": []
  },
  "kernelspec": {
   "display_name": "Python 3 (ipykernel)",
   "language": "python",
   "name": "python3"
  },
  "language_info": {
   "codemirror_mode": {
    "name": "ipython",
    "version": 3
   },
   "file_extension": ".py",
   "mimetype": "text/x-python",
   "name": "python",
   "nbconvert_exporter": "python",
   "pygments_lexer": "ipython3",
   "version": "3.13.0"
  }
 },
 "nbformat": 4,
 "nbformat_minor": 4
}
